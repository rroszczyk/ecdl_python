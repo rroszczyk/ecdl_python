{
  "nbformat": 4,
  "nbformat_minor": 0,
  "metadata": {
    "colab": {
      "name": "ecdl_4.ipynb",
      "provenance": [],
      "authorship_tag": "ABX9TyMiXbhovyVaB/Igf6hLYSmC",
      "include_colab_link": true
    },
    "kernelspec": {
      "name": "python3",
      "display_name": "Python 3"
    },
    "language_info": {
      "name": "python"
    }
  },
  "cells": [
    {
      "cell_type": "markdown",
      "metadata": {
        "id": "view-in-github",
        "colab_type": "text"
      },
      "source": [
        "<a href=\"https://colab.research.google.com/github/rroszczyk/ecdl_python/blob/main/ecdl_4.ipynb\" target=\"_parent\"><img src=\"https://colab.research.google.com/assets/colab-badge.svg\" alt=\"Open In Colab\"/></a>"
      ]
    },
    {
      "cell_type": "code",
      "execution_count": 1,
      "metadata": {
        "id": "p8D0pPw_PJPw"
      },
      "outputs": [],
      "source": [
        "mojPIN = 1234\n",
        "moj_pin = 1234"
      ]
    },
    {
      "cell_type": "code",
      "source": [
        "mojeImie = \"Radosław\"\n",
        "moje_imie = \"Radosław\"\n",
        "MojeImie = \"Radosław\"       # złe, obiekt\n",
        "myFirstName = \"Radosław\"\n",
        "MOJE_IMIE = \"Radosław\"      # złe - stałe, nie zmienne  "
      ],
      "metadata": {
        "id": "x_nfUhuBW2kV"
      },
      "execution_count": 2,
      "outputs": []
    },
    {
      "cell_type": "code",
      "source": [
        "# dla iteratorów nazwy zmiennych dobre to np: i, j, k, l, m, n, o, x, y, z\n",
        "for i in range(100):\n",
        "  for j in range(100):\n",
        "    pass"
      ],
      "metadata": {
        "id": "KZO0URmKX1C8"
      },
      "execution_count": 12,
      "outputs": []
    },
    {
      "cell_type": "code",
      "source": [
        "imiona = ['Alicja', 'Basia', 'Cecylia', 'Dorota']\n",
        "\n",
        "for imie in imiona:\n",
        "  print(f\"{imie}\")"
      ],
      "metadata": {
        "colab": {
          "base_uri": "https://localhost:8080/"
        },
        "id": "G66WZfqnYb-T",
        "outputId": "d7948a3f-bc86-45ed-e43b-0da015922912"
      },
      "execution_count": 3,
      "outputs": [
        {
          "output_type": "stream",
          "name": "stdout",
          "text": [
            "Alicja\n",
            "Basia\n",
            "Cecylia\n",
            "Dorota\n"
          ]
        }
      ]
    },
    {
      "cell_type": "code",
      "source": [
        "def funkcja(aParametr):\n",
        "  parametr = aParametr\n",
        "  print(f\"parametr wywyołania to: {parametr}\")\n",
        "\n",
        "funkcja(\"Piotr\")"
      ],
      "metadata": {
        "colab": {
          "base_uri": "https://localhost:8080/"
        },
        "id": "C7UZFkNuYzFO",
        "outputId": "1ac7e413-8f30-4492-b145-2cbeafadd629"
      },
      "execution_count": 5,
      "outputs": [
        {
          "output_type": "stream",
          "name": "stdout",
          "text": [
            "parametr wywyołania to: Piotr\n"
          ]
        }
      ]
    },
    {
      "cell_type": "markdown",
      "source": [
        "```\n",
        "wczytaj(\"podaj wzrost\")\n",
        "jeżeli wzrost > 160\n",
        "  jeżeli wzrost > 180\n",
        "    wypisz(\"wybrano rozmiar L\")\n",
        "  jeśli_nie\n",
        "    wypisz(\"wybrano rozmiar M\")\n",
        "  koniec_jeżeli\n",
        "jeśli_nie\n",
        "  wypisz(\"wybrano rozmiar S\")\n",
        "koniec_jeżeli\n",
        "```"
      ],
      "metadata": {
        "id": "DIiNbdCBaoLp"
      }
    },
    {
      "cell_type": "code",
      "source": [
        "a = True\n",
        "b = False\n",
        "c = True\n",
        "\n",
        "w = a + b * c\n",
        "\n",
        "w = a and b or c\n",
        "\n",
        "if (a and b or c):      # w nawiasie wyrażenie logiczne\n",
        "  pass"
      ],
      "metadata": {
        "id": "iRwBmgtobTR-"
      },
      "execution_count": null,
      "outputs": []
    },
    {
      "cell_type": "code",
      "source": [
        "a = False\n",
        "\n",
        "if a:\n",
        "  pass\n",
        "else:\n",
        "  print(\"nie a\")"
      ],
      "metadata": {
        "colab": {
          "base_uri": "https://localhost:8080/"
        },
        "id": "q-0n6TlXcEL_",
        "outputId": "bcffa64c-0e29-4871-eeae-412e9e36a4ad"
      },
      "execution_count": 9,
      "outputs": [
        {
          "output_type": "stream",
          "name": "stdout",
          "text": [
            "nie a\n"
          ]
        }
      ]
    },
    {
      "cell_type": "code",
      "source": [
        "def wczytajImie():\n",
        "  pass\n",
        "\n",
        "def wczytajNazwisko():\n",
        "  pass\n",
        "\n",
        "\n",
        "print(f\"{wczytajImie()} {wczytajNazwisko()}\")"
      ],
      "metadata": {
        "colab": {
          "base_uri": "https://localhost:8080/"
        },
        "id": "Y9EXBXplcutv",
        "outputId": "f9df4958-cf45-4822-94f2-3d5060269c85"
      },
      "execution_count": 15,
      "outputs": [
        {
          "output_type": "stream",
          "name": "stdout",
          "text": [
            "None None\n"
          ]
        }
      ]
    },
    {
      "cell_type": "code",
      "source": [
        "imiona = ['Alicja', 'Basia', 'Cecylia', 'Dorota']\n",
        "\n",
        "for imie in imiona:     # dla kolekcji policzalnych\n",
        "  print(f\"{imie}\")\n",
        "\n",
        "\n",
        "liczba = 100\n",
        "\n",
        "while liczba > 0:       # dla elementów niepoliczalnych\n",
        "  print(\".\", end=\"\")\n",
        "  liczba = liczba - 7\n",
        "print()\n",
        "\n",
        "print(f\"Lista 'imiona' zawiera {len(imiona)} imiona:\")\n",
        "\n",
        "i = 0\n",
        "while i < len(imiona):  # równoważna pętli for z linii 3\n",
        "  print(f\"{imiona[i]}\")\n",
        "  i += 1"
      ],
      "metadata": {
        "colab": {
          "base_uri": "https://localhost:8080/"
        },
        "id": "LEzsDV42daLU",
        "outputId": "551b3ddf-9477-4d7b-9925-1d40a9b3c258"
      },
      "execution_count": 27,
      "outputs": [
        {
          "output_type": "stream",
          "name": "stdout",
          "text": [
            "Alicja\n",
            "Basia\n",
            "Cecylia\n",
            "Dorota\n",
            "...............\n",
            "Lista 'imiona' zawiera 4 imiona:\n",
            "Alicja\n",
            "Basia\n",
            "Cecylia\n",
            "Dorota\n"
          ]
        }
      ]
    },
    {
      "cell_type": "code",
      "source": [
        "def funkcja(parametr):\n",
        "  if (parametr > 1):\n",
        "    funkcja(parametr - 1)\n",
        "    print(parametr, end=\", \")\n",
        "  else:\n",
        "    print(f\"ostatnia wartość to: {parametr}\", end=\", \")"
      ],
      "metadata": {
        "id": "Ghg0Ni9shT8F"
      },
      "execution_count": 46,
      "outputs": []
    },
    {
      "cell_type": "code",
      "source": [
        "def funkcja_odwrotna(parametr):\n",
        "  if (parametr > 1):\n",
        "    print(parametr, end=\", \")    \n",
        "    funkcja_odwrotna(parametr - 1)\n",
        "  else:\n",
        "    print(f\"ostatnia wartość to: {parametr}\", end=\", \")"
      ],
      "metadata": {
        "id": "vTrQ_SQaiC5v"
      },
      "execution_count": 45,
      "outputs": []
    },
    {
      "cell_type": "code",
      "source": [
        "funkcja(100)\n",
        "print()\n",
        "funkcja_odwrotna(100)\n",
        "print()"
      ],
      "metadata": {
        "colab": {
          "base_uri": "https://localhost:8080/"
        },
        "id": "B3vZOp_sd8Id",
        "outputId": "a7a8a1ff-51ca-4a74-932f-9a463cf1c8f4"
      },
      "execution_count": 47,
      "outputs": [
        {
          "output_type": "stream",
          "name": "stdout",
          "text": [
            "ostatnia wartość to: 1, 2, 3, 4, 5, 6, 7, 8, 9, 10, 11, 12, 13, 14, 15, 16, 17, 18, 19, 20, 21, 22, 23, 24, 25, 26, 27, 28, 29, 30, 31, 32, 33, 34, 35, 36, 37, 38, 39, 40, 41, 42, 43, 44, 45, 46, 47, 48, 49, 50, 51, 52, 53, 54, 55, 56, 57, 58, 59, 60, 61, 62, 63, 64, 65, 66, 67, 68, 69, 70, 71, 72, 73, 74, 75, 76, 77, 78, 79, 80, 81, 82, 83, 84, 85, 86, 87, 88, 89, 90, 91, 92, 93, 94, 95, 96, 97, 98, 99, 100, \n",
            "100, 99, 98, 97, 96, 95, 94, 93, 92, 91, 90, 89, 88, 87, 86, 85, 84, 83, 82, 81, 80, 79, 78, 77, 76, 75, 74, 73, 72, 71, 70, 69, 68, 67, 66, 65, 64, 63, 62, 61, 60, 59, 58, 57, 56, 55, 54, 53, 52, 51, 50, 49, 48, 47, 46, 45, 44, 43, 42, 41, 40, 39, 38, 37, 36, 35, 34, 33, 32, 31, 30, 29, 28, 27, 26, 25, 24, 23, 22, 21, 20, 19, 18, 17, 16, 15, 14, 13, 12, 11, 10, 9, 8, 7, 6, 5, 4, 3, 2, ostatnia wartość to: 1, \n"
          ]
        }
      ]
    },
    {
      "cell_type": "code",
      "source": [
        "warunek = True\n",
        "\n",
        "if warunek:\n",
        "  pass\n",
        "\n",
        "if 5 > 3:\n",
        "  pass\n",
        "\n"
      ],
      "metadata": {
        "id": "0OsrycdvjYRZ"
      },
      "execution_count": 48,
      "outputs": []
    },
    {
      "cell_type": "code",
      "source": [
        "def a(parametr):\n",
        "  print(f\"funkcja a: {parametr}\")\n",
        "  return f\"a: {parametr}\"\n",
        "\n",
        "def b(parametr):\n",
        "  print(f\"funkcja b: {parametr}\")\n",
        "  return f\"b: {parametr}\"  \n",
        "\n",
        "def c(parametr):\n",
        "  print(f\"funkcja c: {parametr}\")\n",
        "  return f\"c: {parametr}\"  \n",
        "\n",
        "def d(parametr):\n",
        "  print(f\"funkcja d: {parametr}\")      \n",
        "  return f\"d: {parametr}\"  \n",
        "\n",
        "z = a(b(c(d(\"Anna\"))))"
      ],
      "metadata": {
        "colab": {
          "base_uri": "https://localhost:8080/"
        },
        "id": "e8LWQrjvjm_d",
        "outputId": "d59769b3-2827-443b-c20d-26e071ffad01"
      },
      "execution_count": 54,
      "outputs": [
        {
          "output_type": "stream",
          "name": "stdout",
          "text": [
            "funkcja d: Anna\n",
            "funkcja c: d: Anna\n",
            "funkcja b: c: d: Anna\n",
            "funkcja a: b: c: d: Anna\n"
          ]
        }
      ]
    },
    {
      "cell_type": "code",
      "source": [
        "def funkcja(parametr):\n",
        "  return parametr\n",
        "\n",
        "def procedura(parametr):\n",
        "  print(f\"procedura: {parametr}\")\n",
        "\n",
        "\n",
        "print(f\"{funkcja('anna')}\")\n",
        "print(f\"{procedura('anna')}\")"
      ],
      "metadata": {
        "colab": {
          "base_uri": "https://localhost:8080/"
        },
        "id": "hMVAeQk1kt2j",
        "outputId": "91c7ffd7-6833-423a-8608-4dd23e2fdf8e"
      },
      "execution_count": 57,
      "outputs": [
        {
          "output_type": "stream",
          "name": "stdout",
          "text": [
            "anna\n",
            "procedura: anna\n",
            "None\n"
          ]
        }
      ]
    },
    {
      "cell_type": "code",
      "source": [
        "if True:\n",
        "  pass"
      ],
      "metadata": {
        "id": "lM-4q87PltuB"
      },
      "execution_count": 59,
      "outputs": []
    }
  ]
}