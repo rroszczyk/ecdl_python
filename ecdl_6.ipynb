{
  "nbformat": 4,
  "nbformat_minor": 0,
  "metadata": {
    "colab": {
      "name": "ecdl_6.ipynb",
      "provenance": [],
      "authorship_tag": "ABX9TyO45w34EbPIcpnUxFrZ7iFM",
      "include_colab_link": true
    },
    "kernelspec": {
      "name": "python3",
      "display_name": "Python 3"
    },
    "language_info": {
      "name": "python"
    }
  },
  "cells": [
    {
      "cell_type": "markdown",
      "metadata": {
        "id": "view-in-github",
        "colab_type": "text"
      },
      "source": [
        "<a href=\"https://colab.research.google.com/github/rroszczyk/ecdl_python/blob/main/ecdl_6.ipynb\" target=\"_parent\"><img src=\"https://colab.research.google.com/assets/colab-badge.svg\" alt=\"Open In Colab\"/></a>"
      ]
    },
    {
      "cell_type": "code",
      "execution_count": 1,
      "metadata": {
        "colab": {
          "base_uri": "https://localhost:8080/"
        },
        "id": "WJu6MrOASNXR",
        "outputId": "cf303b08-ca8c-4792-a382-7b45e84e21ac"
      },
      "outputs": [
        {
          "output_type": "stream",
          "name": "stdout",
          "text": [
            "Napis\n",
            "Napis\n"
          ]
        }
      ],
      "source": [
        "print(\"Napis\")\n",
        "print('Napis')"
      ]
    },
    {
      "cell_type": "code",
      "source": [
        "s = '''I tu się zaczyna bardzo długi tekst w kilku linijkach\n",
        "to jest druga\n",
        "trzecia'''\n",
        "\n",
        "print(s)"
      ],
      "metadata": {
        "colab": {
          "base_uri": "https://localhost:8080/"
        },
        "id": "ZRI_-_o-S4be",
        "outputId": "39f6be5a-631c-4d35-a4c4-36b16e10bd89"
      },
      "execution_count": 2,
      "outputs": [
        {
          "output_type": "stream",
          "name": "stdout",
          "text": [
            "I tu się zaczyna bardzo długi tekst w kilku linijkach\n",
            "to jest druga\n",
            "trzecia\n"
          ]
        }
      ]
    },
    {
      "cell_type": "code",
      "source": [
        "print(\"To jest tekst z postrofem ' to był on\")"
      ],
      "metadata": {
        "colab": {
          "base_uri": "https://localhost:8080/"
        },
        "id": "NYZcXQYlTL79",
        "outputId": "7dcce3ee-1fa9-43fc-aa0a-bf93e0ba8015"
      },
      "execution_count": 3,
      "outputs": [
        {
          "output_type": "stream",
          "name": "stdout",
          "text": [
            "To jest tekst z postrofem ' to był on\n"
          ]
        }
      ]
    },
    {
      "cell_type": "code",
      "source": [
        "print('tu ma być tekst z apostrofem - \\' to jest apostrof')"
      ],
      "metadata": {
        "colab": {
          "base_uri": "https://localhost:8080/"
        },
        "id": "oanMKyCBTRF_",
        "outputId": "c999d39b-2ba1-4513-e59b-52829fadbcfd"
      },
      "execution_count": 5,
      "outputs": [
        {
          "output_type": "stream",
          "name": "stdout",
          "text": [
            "tu ma być tekst z apostrofem - ' to jest apostrof\n"
          ]
        }
      ]
    },
    {
      "cell_type": "code",
      "source": [
        "print('\\n.\\n.\\n.')   # \\n przejście do nowej linii\n",
        "print('\\t.\\t.\\t.')   # \\t znak tabulatora"
      ],
      "metadata": {
        "colab": {
          "base_uri": "https://localhost:8080/"
        },
        "id": "YU-3veMLTgvQ",
        "outputId": "242bb47b-f735-4c45-d417-adac10764aa0"
      },
      "execution_count": 6,
      "outputs": [
        {
          "output_type": "stream",
          "name": "stdout",
          "text": [
            "\n",
            ".\n",
            ".\n",
            ".\n",
            "\t.\t.\t.\n"
          ]
        }
      ]
    },
    {
      "cell_type": "code",
      "source": [
        "print(\".\", \".\", \".\")\n",
        "print(\".\", \".\", \".\", sep='')\n",
        "print(\".\", \".\", \".\", sep='\\t')\n",
        "print(\".\", \".\", \".\", sep='\\n')"
      ],
      "metadata": {
        "colab": {
          "base_uri": "https://localhost:8080/"
        },
        "id": "N5fuwEkJT-Lh",
        "outputId": "bdb5ac5b-d800-4c4e-a86c-2e50f6baa527"
      },
      "execution_count": 9,
      "outputs": [
        {
          "output_type": "stream",
          "name": "stdout",
          "text": [
            ". . .\n",
            "...\n",
            ".\t.\t.\n",
            ".\n",
            ".\n",
            ".\n"
          ]
        }
      ]
    },
    {
      "cell_type": "code",
      "source": [
        "print(\"ala ma kota\", sep=\"\\n\", end=\".\")\n",
        "print(\"\", \"ala\", \"ma\", \"kota\", sep=\"\\n\", end=\".\")"
      ],
      "metadata": {
        "colab": {
          "base_uri": "https://localhost:8080/"
        },
        "id": "yO3IS61uUdFg",
        "outputId": "d14205e1-35df-454b-bbe0-8a349d5498f8"
      },
      "execution_count": 11,
      "outputs": [
        {
          "output_type": "stream",
          "name": "stdout",
          "text": [
            "ala ma kota.\n",
            "ala\n",
            "ma\n",
            "kota."
          ]
        }
      ]
    },
    {
      "cell_type": "code",
      "source": [
        "a = 1\n",
        "b = 2\n",
        "\n",
        "print(a, b)\n",
        "print(\"a = \" + str(a) + \", b = \" + str(b))\n",
        "print(f\"a = {a}, b = {b}\")"
      ],
      "metadata": {
        "colab": {
          "base_uri": "https://localhost:8080/"
        },
        "id": "nRnF7fOvUo7p",
        "outputId": "44dd4fbc-3c45-4678-b490-fff1122a7c44"
      },
      "execution_count": 14,
      "outputs": [
        {
          "output_type": "stream",
          "name": "stdout",
          "text": [
            "1 2\n",
            "a = 1, b = 2\n",
            "a = 1, b = 2\n"
          ]
        }
      ]
    },
    {
      "cell_type": "code",
      "source": [
        "print(\"-\"*40)"
      ],
      "metadata": {
        "colab": {
          "base_uri": "https://localhost:8080/"
        },
        "id": "bRDtamyNVRS1",
        "outputId": "cbfbf770-5042-4244-bde4-75de5980cb69"
      },
      "execution_count": 16,
      "outputs": [
        {
          "output_type": "stream",
          "name": "stdout",
          "text": [
            "----------------------------------------\n"
          ]
        }
      ]
    },
    {
      "cell_type": "code",
      "source": [
        "print('{} {}'.format('pierwszy', 'drugi'))\n",
        "print('{1} {0}'.format('pierwszy', 'drugi'))"
      ],
      "metadata": {
        "colab": {
          "base_uri": "https://localhost:8080/"
        },
        "id": "M0Je-OQCVX1r",
        "outputId": "9d228afe-2ad6-4e0d-a8a7-2750b2cf5ec3"
      },
      "execution_count": 18,
      "outputs": [
        {
          "output_type": "stream",
          "name": "stdout",
          "text": [
            "pierwszy drugi\n",
            "drugi pierwszy\n"
          ]
        }
      ]
    },
    {
      "cell_type": "code",
      "source": [
        "a = 1\n",
        "b = 2\n",
        "\n",
        "print('{} {}'.format(a, b))\n",
        "print('{0} {1}'.format(a, b))       # jeśli pominiemy indeksy 0, 1 to będzie identycznei wyglądało bo jest to domyślne\n",
        "print('{1} {0}'.format(a, b))"
      ],
      "metadata": {
        "colab": {
          "base_uri": "https://localhost:8080/"
        },
        "id": "zVAbvGacVpBx",
        "outputId": "01cf2514-9007-49a1-da9d-bc13f64f7deb"
      },
      "execution_count": 19,
      "outputs": [
        {
          "output_type": "stream",
          "name": "stdout",
          "text": [
            "1 2\n",
            "1 2\n",
            "2 1\n"
          ]
        }
      ]
    },
    {
      "cell_type": "code",
      "source": [
        "print('\"{}\"'.format('tekst'))\n",
        "print('\"{:10}\"'.format('tekst'))       # tekst został wydłużony spacjami do rozmiaru 10 znaków - justowanie lewostronne\n",
        "print('\"{:<10}\"'.format('tekst'))      # tekst został wydłużony spacjami do rozmiaru 10 znaków - justowanie prawostronne\n",
        "print('\"{:>10}\"'.format('tekst'))      # tekst został wydłużony spacjami do rozmiaru 10 znaków - justowanie prawostronne\n",
        "print('\"{:^10}\"'.format('tekst'))      # tekst został wydłużony spacjami do rozmiaru 10 znaków - centrowanie"
      ],
      "metadata": {
        "colab": {
          "base_uri": "https://localhost:8080/"
        },
        "id": "ZTXyWuwFWV61",
        "outputId": "1059882a-dd61-4a82-ab0f-bb54ee852c8c"
      },
      "execution_count": 25,
      "outputs": [
        {
          "output_type": "stream",
          "name": "stdout",
          "text": [
            "\"tekst\"\n",
            "\"tekst     \"\n",
            "\"tekst     \"\n",
            "\"     tekst\"\n",
            "\"  tekst   \"\n"
          ]
        }
      ]
    },
    {
      "cell_type": "code",
      "source": [
        "print('{:_<10}'.format('tekst'))      # tekst został wydłużony podłogami do rozmiaru 10 znaków - justowanie prawostronne\n",
        "print('{:_>10}'.format('tekst'))      # tekst został wydłużony podłogami do rozmiaru 10 znaków - justowanie prawostronne\n",
        "print('{:_^10}'.format('tekst'))      # tekst został wydłużony podłogami do rozmiaru 10 znaków - centrowanie"
      ],
      "metadata": {
        "colab": {
          "base_uri": "https://localhost:8080/"
        },
        "id": "e29SQAcnXOcm",
        "outputId": "5bd926c4-1251-473f-da9a-34abe923bfb4"
      },
      "execution_count": 26,
      "outputs": [
        {
          "output_type": "stream",
          "name": "stdout",
          "text": [
            "tekst_____\n",
            "_____tekst\n",
            "__tekst___\n"
          ]
        }
      ]
    },
    {
      "cell_type": "code",
      "source": [
        "s = \"to jest długi teskst który chemy lekko przyciąć\"\n",
        "\n",
        "print(f'{s[:10]}...')\n",
        "print('{:.10}...'.format(s))"
      ],
      "metadata": {
        "colab": {
          "base_uri": "https://localhost:8080/"
        },
        "id": "GJzItm9aWoMQ",
        "outputId": "2eb6f6b1-3201-49bd-a97f-024a0a13821a"
      },
      "execution_count": 29,
      "outputs": [
        {
          "output_type": "stream",
          "name": "stdout",
          "text": [
            "to jest dł...\n",
            "to jest dł...\n"
          ]
        }
      ]
    },
    {
      "cell_type": "code",
      "source": [
        "print('{:_<10.5}...'.format(s))   # wyświetlany tkest składa się z 5 pierwszysch znaków\n",
        "                                  # i został uzupełniony do 10 znaków podłogą\n",
        "print('{:.10}... -> {}'.format(s, s))                                  "
      ],
      "metadata": {
        "colab": {
          "base_uri": "https://localhost:8080/"
        },
        "id": "EFSJPjxzYFeg",
        "outputId": "8a493cd5-4dba-4603-8317-e286415af548"
      },
      "execution_count": 34,
      "outputs": [
        {
          "output_type": "stream",
          "name": "stdout",
          "text": [
            "to je_____...\n",
            "to jest dł... -> to jest długi teskst który chemy lekko przyciąć\n"
          ]
        }
      ]
    },
    {
      "cell_type": "code",
      "source": [
        "liczba = 123\n",
        "\n",
        "print('{}'.format(liczba))        # formatowanie domyślne - wyświetlamy po prostu zmienną\n",
        "print('{:d}'.format(liczba))      # formatowanie w trybie wypisywania liczb dziesiętnych"
      ],
      "metadata": {
        "colab": {
          "base_uri": "https://localhost:8080/"
        },
        "id": "Ugc9m1DVY3Rr",
        "outputId": "3996388c-c7c5-4811-947b-45a309281097"
      },
      "execution_count": 35,
      "outputs": [
        {
          "output_type": "stream",
          "name": "stdout",
          "text": [
            "123\n",
            "123\n"
          ]
        }
      ]
    },
    {
      "cell_type": "code",
      "source": [
        "print('\"{:4d}\"'.format(liczba))      # formatowanie w trybie wypisywania liczb dziesiętnych - liczba zostanie uzupełniona spacjami do 4 pozycji"
      ],
      "metadata": {
        "colab": {
          "base_uri": "https://localhost:8080/"
        },
        "id": "I2_LEUPlZPQB",
        "outputId": "2e9a090f-1a2a-4550-c3e6-8c7ce9346551"
      },
      "execution_count": 36,
      "outputs": [
        {
          "output_type": "stream",
          "name": "stdout",
          "text": [
            "\" 123\"\n"
          ]
        }
      ]
    },
    {
      "cell_type": "code",
      "source": [
        "print(liczba)\n",
        "print('{:04}'.format(liczba))"
      ],
      "metadata": {
        "colab": {
          "base_uri": "https://localhost:8080/"
        },
        "id": "r2WJXNrzZevn",
        "outputId": "92478809-258e-4beb-df1b-d40eea393bd5"
      },
      "execution_count": 38,
      "outputs": [
        {
          "output_type": "stream",
          "name": "stdout",
          "text": [
            "123\n",
            "0123\n"
          ]
        }
      ]
    },
    {
      "cell_type": "code",
      "source": [
        "import math\n",
        "print(math.pi)"
      ],
      "metadata": {
        "colab": {
          "base_uri": "https://localhost:8080/"
        },
        "id": "rhqGVUMmZq3_",
        "outputId": "d02ff5de-69ef-4413-a6af-ea7d81e73a5a"
      },
      "execution_count": 39,
      "outputs": [
        {
          "output_type": "stream",
          "name": "stdout",
          "text": [
            "3.141592653589793\n"
          ]
        }
      ]
    },
    {
      "cell_type": "code",
      "source": [
        "print('{:f}'.format(math.pi))"
      ],
      "metadata": {
        "colab": {
          "base_uri": "https://localhost:8080/"
        },
        "id": "pPdB4U3DZ0ub",
        "outputId": "93464978-3250-4f8f-8b7a-3f076eec1cc6"
      },
      "execution_count": 40,
      "outputs": [
        {
          "output_type": "stream",
          "name": "stdout",
          "text": [
            "3.141593\n"
          ]
        }
      ]
    },
    {
      "cell_type": "code",
      "source": [
        "print('{:.2f}'.format(math.pi))       # wyświetlenie liczby obciętej do 2 miejsc po przecinku"
      ],
      "metadata": {
        "colab": {
          "base_uri": "https://localhost:8080/"
        },
        "id": "KD1-ifhiaEr-",
        "outputId": "cfe42af0-e6f5-4842-fa46-18c98b87a95e"
      },
      "execution_count": 41,
      "outputs": [
        {
          "output_type": "stream",
          "name": "stdout",
          "text": [
            "3.14\n"
          ]
        }
      ]
    },
    {
      "cell_type": "code",
      "source": [
        "print('{:06.2f}'.format(math.pi))     # liczba ma składać się z 6 znaków, z czego 2 po przecinku i uzupełniamy 0 na początku\n"
      ],
      "metadata": {
        "colab": {
          "base_uri": "https://localhost:8080/"
        },
        "id": "WTDf58E7aPn7",
        "outputId": "2f42e224-8aae-4a8c-bfe0-e6c25ba679cb"
      },
      "execution_count": 42,
      "outputs": [
        {
          "output_type": "stream",
          "name": "stdout",
          "text": [
            "003.14\n"
          ]
        }
      ]
    },
    {
      "cell_type": "code",
      "source": [
        "print('{:06.4f}'.format(math.pi))     # liczba ma składać się z 6 znaków, z czego 4 po przecinku i uzupełniamy 0 na początku"
      ],
      "metadata": {
        "colab": {
          "base_uri": "https://localhost:8080/"
        },
        "id": "-5elN1wpalgp",
        "outputId": "05eb8d03-b902-4b95-b301-385a0801fb57"
      },
      "execution_count": 43,
      "outputs": [
        {
          "output_type": "stream",
          "name": "stdout",
          "text": [
            "3.1416\n"
          ]
        }
      ]
    },
    {
      "cell_type": "code",
      "source": [
        "liczba = 75\n",
        "\n",
        "print('{:+d}'.format(liczba))         # liczba ze znakiem '+'\n",
        "print('{:+d}'.format(-liczba))        # liczba ze znakiem '-'\n",
        "\n",
        "print('{: d}'.format(liczba))         # liczba ze znakiem ale tylko '-'\n",
        "print('{: d}'.format(-liczba))        # liczba ze znakiem ale tylko '-'"
      ],
      "metadata": {
        "colab": {
          "base_uri": "https://localhost:8080/"
        },
        "id": "myouuOOga0fL",
        "outputId": "33bc028d-a129-4c1d-9537-9aa950a63140"
      },
      "execution_count": 49,
      "outputs": [
        {
          "output_type": "stream",
          "name": "stdout",
          "text": [
            "+75\n",
            "-75\n",
            " 75\n",
            "-75\n"
          ]
        }
      ]
    },
    {
      "cell_type": "code",
      "source": [
        "liczba = 65\n",
        "print('\"{:=5d}\"'.format(liczba))\n",
        "print('\"{:=+5d}\"'.format(liczba))\n",
        "print('\"{:=+5d}\"'.format(-liczba))"
      ],
      "metadata": {
        "colab": {
          "base_uri": "https://localhost:8080/"
        },
        "id": "xFJ6OR8KbcDH",
        "outputId": "af20a7ac-b4b7-498d-c152-b381a12a1658"
      },
      "execution_count": 53,
      "outputs": [
        {
          "output_type": "stream",
          "name": "stdout",
          "text": [
            "\"   65\"\n",
            "\"+  65\"\n",
            "\"-  65\"\n"
          ]
        }
      ]
    },
    {
      "cell_type": "code",
      "source": [
        "a = int(input(\"Podaj liczbę a: \"))\n",
        "b = int(input(\"Podaj liczbę b: \"))\n",
        "suma = a + b\n",
        "\n",
        "print('{:=5d}'.format(a))\n",
        "print('{:=+5d}'.format(b))\n",
        "print('-'*6)\n",
        "print('{:=5d}'.format(suma))"
      ],
      "metadata": {
        "colab": {
          "base_uri": "https://localhost:8080/"
        },
        "id": "UhLXnsdmc5sI",
        "outputId": "b8917640-e085-4e3d-8931-2cd72e3714e4"
      },
      "execution_count": 58,
      "outputs": [
        {
          "output_type": "stream",
          "name": "stdout",
          "text": [
            "Podaj liczbę a: 100\n",
            "Podaj liczbę b: -5\n",
            "  100\n",
            "-   5\n",
            "------\n",
            "   95\n"
          ]
        }
      ]
    },
    {
      "cell_type": "code",
      "source": [
        "# napisać kalkulator wykonujący operację mnożenia pod kreską"
      ],
      "metadata": {
        "id": "OIIKFYMidKKX"
      },
      "execution_count": 59,
      "outputs": []
    },
    {
      "cell_type": "code",
      "source": [
        "osoba = {'imie': 'Piotr', 'nazwisko': 'Kowalski'}\n",
        "\n",
        "print('{imie} {nazwisko}'.format(**osoba))\n",
        "print('{imie} {nazwisko}'.format(imie = 'Anna', nazwisko = 'Kowalska'))"
      ],
      "metadata": {
        "colab": {
          "base_uri": "https://localhost:8080/"
        },
        "id": "u8gwwlnveLwj",
        "outputId": "a21c9f37-b5de-40c9-cfc0-373a604c6b00"
      },
      "execution_count": 61,
      "outputs": [
        {
          "output_type": "stream",
          "name": "stdout",
          "text": [
            "Piotr Kowalski\n",
            "Anna Kowalska\n"
          ]
        }
      ]
    },
    {
      "cell_type": "code",
      "source": [
        "piotr = {'imie': 'Piotr', 'nazwisko': 'Kowalski'}\n",
        "anna = {'imie': 'Anna', 'nazwisko': 'Kowalska'}"
      ],
      "metadata": {
        "id": "5nZPfy4ofIpy"
      },
      "execution_count": 63,
      "outputs": []
    },
    {
      "cell_type": "code",
      "source": [
        "print('{p[imie]} {p[nazwisko]}, {a[imie]} {a[nazwisko]}'.format(p=piotr, a=anna))"
      ],
      "metadata": {
        "colab": {
          "base_uri": "https://localhost:8080/"
        },
        "id": "nnKNPBPgfQ11",
        "outputId": "6698024f-4ec5-4803-fc97-2988be208632"
      },
      "execution_count": 65,
      "outputs": [
        {
          "output_type": "stream",
          "name": "stdout",
          "text": [
            "Piotr Kowalski, Anna Kowalska\n"
          ]
        }
      ]
    },
    {
      "cell_type": "code",
      "source": [
        "liczby = [1, 3, 5, 7, 11, 13, 17]\n",
        "\n",
        "print('{l[4]} {l[5]}'.format(l=liczby))     # liczby indeksujemy od 0"
      ],
      "metadata": {
        "colab": {
          "base_uri": "https://localhost:8080/"
        },
        "id": "chXyxJL7fqct",
        "outputId": "fa4a420e-555a-4a71-bc84-1dde22623181"
      },
      "execution_count": 67,
      "outputs": [
        {
          "output_type": "stream",
          "name": "stdout",
          "text": [
            "11 13\n"
          ]
        }
      ]
    },
    {
      "cell_type": "code",
      "source": [
        "class Osoba():\n",
        "  def __init__(self, imie, nazwisko):\n",
        "    self.imie = imie\n",
        "    self.nazwisko = nazwisko\n",
        "\n",
        "  def __str__(self):                          # obiekt zamieniony na string\n",
        "    return f\"{self.imie} {self.nazwisko}\"\n",
        "                                              # reprezentacja obiektu                                              \n",
        "  def __repr__(self):\n",
        "    return f\"Osoba: {self.imie} {self.nazwisko}\"\n",
        "\n",
        "piotr = Osoba(\"Piotr\", \"Kowalski\")\n",
        "anna = Osoba(\"Anna\", \"Kowalska\")\n",
        "\n",
        "print('{p.imie} {p.nazwisko}, {a.imie} {a.nazwisko}'.format(p=piotr, a=anna))\n",
        "\n",
        "print('{0!s} -> {0!r}'.format(anna))"
      ],
      "metadata": {
        "colab": {
          "base_uri": "https://localhost:8080/"
        },
        "id": "AVNnx-gDgDJr",
        "outputId": "8b0a1adb-d5e6-4860-b226-d83bceedf4ae"
      },
      "execution_count": 70,
      "outputs": [
        {
          "output_type": "stream",
          "name": "stdout",
          "text": [
            "Piotr Kowalski, Anna Kowalska\n",
            "Anna Kowalska -> Osoba: Anna Kowalska\n"
          ]
        }
      ]
    },
    {
      "cell_type": "code",
      "source": [
        "from datetime import datetime"
      ],
      "metadata": {
        "id": "SyX-DrEshfMd"
      },
      "execution_count": 71,
      "outputs": []
    },
    {
      "cell_type": "code",
      "source": [
        "dzis = datetime.now()"
      ],
      "metadata": {
        "id": "3WlLSXVThwfk"
      },
      "execution_count": 72,
      "outputs": []
    },
    {
      "cell_type": "code",
      "source": [
        "print(dzis)"
      ],
      "metadata": {
        "colab": {
          "base_uri": "https://localhost:8080/"
        },
        "id": "uk0KyK3dh2vO",
        "outputId": "cb4de761-8b0d-45ef-c03c-f11af265e3c0"
      },
      "execution_count": 73,
      "outputs": [
        {
          "output_type": "stream",
          "name": "stdout",
          "text": [
            "2022-04-30 08:12:36.969217\n"
          ]
        }
      ]
    },
    {
      "cell_type": "code",
      "source": [
        "print('data: {:%Y-%m-%d}'.format(dzis))\n",
        "print('czas: {:%H:%M:%S}'.format(dzis))\n",
        "\n",
        "print('{:%y-%m-%d %H:%M}'.format(dzis))  # y - rok dwu cyfrowy, Y - rok cztero cyfrowy"
      ],
      "metadata": {
        "colab": {
          "base_uri": "https://localhost:8080/"
        },
        "id": "9XD3Hpogh-Up",
        "outputId": "49921d9a-a992-4a45-a833-84de5147cfd3"
      },
      "execution_count": 81,
      "outputs": [
        {
          "output_type": "stream",
          "name": "stdout",
          "text": [
            "data: 2022-04-30\n",
            "czas: 08:12:36\n",
            "22-04-30 08:12\n"
          ]
        }
      ]
    },
    {
      "cell_type": "code",
      "source": [
        "dowolna_data = datetime(2001, 2, 3, 4, 5)\n",
        "\n",
        "print('{:%Y-%m-%d %H:%M}'.format(dowolna_data))  "
      ],
      "metadata": {
        "colab": {
          "base_uri": "https://localhost:8080/"
        },
        "id": "DlrjVFXiivbg",
        "outputId": "86a33c2a-4295-4a8e-8889-3ec7711f1966"
      },
      "execution_count": 83,
      "outputs": [
        {
          "output_type": "stream",
          "name": "stdout",
          "text": [
            "2001-02-03 04:05\n"
          ]
        }
      ]
    },
    {
      "cell_type": "code",
      "source": [
        "print('{} {:{width}.{prec}f}'.format('Pi:', math.pi, width=6, prec=4))"
      ],
      "metadata": {
        "colab": {
          "base_uri": "https://localhost:8080/"
        },
        "id": "V1JI1PKQjHP0",
        "outputId": "8e5b51c4-7b47-40f7-fd6f-06a0ab29d895"
      },
      "execution_count": 84,
      "outputs": [
        {
          "output_type": "stream",
          "name": "stdout",
          "text": [
            "Pi: 3.1416\n"
          ]
        }
      ]
    },
    {
      "cell_type": "code",
      "source": [
        "dzis = datetime.now()\n",
        "print('{:{dfmt} {tfmt}}'.format(dzis, dfmt='%Y-%m-%d', tfmt='%H:%M'))"
      ],
      "metadata": {
        "colab": {
          "base_uri": "https://localhost:8080/"
        },
        "id": "GsfzNEdmjnVS",
        "outputId": "d1382e6a-ccc6-4bfc-9f2c-f67a4b01c2ab"
      },
      "execution_count": 85,
      "outputs": [
        {
          "output_type": "stream",
          "name": "stdout",
          "text": [
            "2022-04-30 08:21\n"
          ]
        }
      ]
    }
  ]
}