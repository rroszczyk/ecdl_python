{
  "nbformat": 4,
  "nbformat_minor": 0,
  "metadata": {
    "colab": {
      "name": "ecdl_1.ipynb",
      "provenance": [],
      "authorship_tag": "ABX9TyMA6e+rj/8cqLnBC4cKAwg3",
      "include_colab_link": true
    },
    "kernelspec": {
      "name": "python3",
      "display_name": "Python 3"
    },
    "language_info": {
      "name": "python"
    }
  },
  "cells": [
    {
      "cell_type": "markdown",
      "metadata": {
        "id": "view-in-github",
        "colab_type": "text"
      },
      "source": [
        "<a href=\"https://colab.research.google.com/github/rroszczyk/ecdl_python/blob/main/ecdl_1.ipynb\" target=\"_parent\"><img src=\"https://colab.research.google.com/assets/colab-badge.svg\" alt=\"Open In Colab\"/></a>"
      ]
    },
    {
      "cell_type": "code",
      "execution_count": 2,
      "metadata": {
        "colab": {
          "base_uri": "https://localhost:8080/"
        },
        "id": "hFwlqj6rdCtN",
        "outputId": "bd0fdcea-ac3d-454a-8e05-3a88738ac5ee"
      },
      "outputs": [
        {
          "output_type": "stream",
          "name": "stdout",
          "text": [
            "Wynik dodawania liczb: 10 oraz 5 to jest: 15\n"
          ]
        }
      ],
      "source": [
        "a = 10\n",
        "b = 5\n",
        "c = a + b\n",
        "tekst = f\"Wynik dodawania liczb: {a} oraz {b} to jest: {c}\"\n",
        "print(tekst)"
      ]
    },
    {
      "cell_type": "code",
      "source": [
        "print(\"To jest jakiś napis\")\n",
        "print('To jest inny napis')\n",
        "\n",
        "print(\"\"\"Litwo! Ojczyzno moja! ty jesteś jak zdrowie:\n",
        "Ile cię trzeba cenić, ten tylko się dowie,\n",
        "Kto cię stracił. Dziś piękność twą w całej ozdobie\n",
        "Widzę i opisuję, bo tęsknię po tobie.\"\"\")\n",
        "print('''To jest napis czwarty''')"
      ],
      "metadata": {
        "colab": {
          "base_uri": "https://localhost:8080/"
        },
        "id": "_jpUGb0Sd-Nf",
        "outputId": "b270e547-c3f6-4317-cdbd-a967ec9450b1"
      },
      "execution_count": 4,
      "outputs": [
        {
          "output_type": "stream",
          "name": "stdout",
          "text": [
            "To jest jakiś napis\n",
            "To jest inny napis\n",
            "Litwo! Ojczyzno moja! ty jesteś jak zdrowie:\n",
            "Ile cię trzeba cenić, ten tylko się dowie,\n",
            "Kto cię stracił. Dziś piękność twą w całej ozdobie\n",
            "Widzę i opisuję, bo tęsknię po tobie.\n",
            "To jest napis czwarty\n"
          ]
        }
      ]
    },
    {
      "cell_type": "code",
      "source": [
        "print('To jest jakiś napis wymyślony przez \"Kowalskiego\"')\n",
        "print(\"To jest jakiś napis wymyślony przez 'Kowalskiego'\")\n"
      ],
      "metadata": {
        "colab": {
          "base_uri": "https://localhost:8080/"
        },
        "id": "2QfNWzC6eaLe",
        "outputId": "f38765f6-a17f-47f9-cd0e-74ca78c501ad"
      },
      "execution_count": 7,
      "outputs": [
        {
          "output_type": "stream",
          "name": "stdout",
          "text": [
            "To jest jakiś napis wymyślony przez \"Kowalskiego\"\n",
            "To jest jakiś napis wymyślony przez 'Kowalskiego'\n"
          ]
        }
      ]
    },
    {
      "cell_type": "code",
      "source": [
        "print(\"To jest wartość zmiennej a:\", a)\n",
        "print(f\"To jest wartość zmiennej a: {a}\")"
      ],
      "metadata": {
        "colab": {
          "base_uri": "https://localhost:8080/"
        },
        "id": "zNr8Bu5ze9Fx",
        "outputId": "77c2a82a-e893-4754-85ef-adc7ab6da1e2"
      },
      "execution_count": 8,
      "outputs": [
        {
          "output_type": "stream",
          "name": "stdout",
          "text": [
            "To jest wartość zmiennej a: 10\n",
            "To jest wartość zmiennej a: 10\n"
          ]
        }
      ]
    },
    {
      "cell_type": "code",
      "source": [
        "print(\"To są wartośi zmiennych a:\", a, \"b:\", b, \"c:\", c)"
      ],
      "metadata": {
        "colab": {
          "base_uri": "https://localhost:8080/"
        },
        "id": "GCSFBXmOfPU6",
        "outputId": "aba22e25-2d9f-4869-ed6c-47cb22cd1275"
      },
      "execution_count": 9,
      "outputs": [
        {
          "output_type": "stream",
          "name": "stdout",
          "text": [
            "To są wartośi zmiennych a: 10 b: 5 c: 15\n"
          ]
        }
      ]
    },
    {
      "cell_type": "code",
      "source": [
        "print(f\"To są wartośi zmiennych a: {a} b: {b} c: {c}\")"
      ],
      "metadata": {
        "colab": {
          "base_uri": "https://localhost:8080/"
        },
        "id": "cBaig5vDfZZg",
        "outputId": "ed5dc0d8-87e8-4fe4-966b-7d6e5ec68add"
      },
      "execution_count": 10,
      "outputs": [
        {
          "output_type": "stream",
          "name": "stdout",
          "text": [
            "To są wartośi zmiennych a: 10 b: 5 c: 15\n"
          ]
        }
      ]
    },
    {
      "cell_type": "code",
      "source": [
        "# To jest linijka kodu który nie zostanie wykonany\n",
        "# to jest druga linijka kodu który nie zostanie wykonany\n",
        "print(\"To jest napis który zostanie wyświetlony\")\n",
        "#print(\"To jest napis który nie będzie wyświetlony\")"
      ],
      "metadata": {
        "colab": {
          "base_uri": "https://localhost:8080/"
        },
        "id": "sBX1YuCjfwx7",
        "outputId": "9ea894dd-a380-41ec-c1e9-d5deb96c463b"
      },
      "execution_count": 15,
      "outputs": [
        {
          "output_type": "stream",
          "name": "stdout",
          "text": [
            "To jest napis który zostanie wyświetlony\n"
          ]
        }
      ]
    },
    {
      "cell_type": "code",
      "source": [
        "# wartość dodawana\n",
        "a = 10\n",
        "# druga wartość dodawana\n",
        "b = 5\n",
        "# operacja dodawania\n",
        "c = a + b\n",
        "tekst = f\"Wynik dodawania liczb: {a} oraz {b} to jest: {c}\"\n",
        "# wyświetlanie wyniku\n",
        "print(tekst)"
      ],
      "metadata": {
        "colab": {
          "base_uri": "https://localhost:8080/"
        },
        "id": "k5dkyS0WgZPm",
        "outputId": "50c2d3ab-6835-4b96-d741-3b8078285e39"
      },
      "execution_count": 16,
      "outputs": [
        {
          "output_type": "stream",
          "name": "stdout",
          "text": [
            "Wynik dodawania liczb: 10 oraz 5 to jest: 15\n"
          ]
        }
      ]
    },
    {
      "cell_type": "code",
      "source": [
        "print(quit.__doc__)\n",
        "print(print.__doc__)"
      ],
      "metadata": {
        "colab": {
          "base_uri": "https://localhost:8080/"
        },
        "id": "SZ5XXWUMhHa6",
        "outputId": "59812f9c-0159-45c0-aa4c-3889e648d027"
      },
      "execution_count": 20,
      "outputs": [
        {
          "output_type": "stream",
          "name": "stdout",
          "text": [
            "Exit IPython. Autocallable, so it needn't be explicitly called.\n",
            "    \n",
            "    Parameters\n",
            "    ----------\n",
            "    keep_kernel : bool\n",
            "      If True, leave the kernel alive. Otherwise, tell the kernel to exit too\n",
            "      (default).\n",
            "    \n",
            "print(value, ..., sep=' ', end='\\n', file=sys.stdout, flush=False)\n",
            "\n",
            "Prints the values to a stream, or to sys.stdout by default.\n",
            "Optional keyword arguments:\n",
            "file:  a file-like object (stream); defaults to the current sys.stdout.\n",
            "sep:   string inserted between values, default a space.\n",
            "end:   string appended after the last value, default a newline.\n",
            "flush: whether to forcibly flush the stream.\n"
          ]
        }
      ]
    },
    {
      "cell_type": "code",
      "source": [
        "a = input()\n",
        "print(f\"typ zmiennej a: {type(a)}, wartość zmiennej a: {a}\")\n",
        "a = int(a)\n",
        "print(f\"typ zmiennej a po konwersji typu: {type(a)}, wartość zmiennej a: {a}\")\n",
        "b = input()\n",
        "b = int(b)\n",
        "c = a + b\n",
        "tekst = f\"Wynik dodawania liczb: {a} oraz {b} to jest: {c}\"\n",
        "print(tekst)\n",
        "print(f\"typ zmiennej a: {type(a)}, b: {type(b)}, c: {type(c)}\")"
      ],
      "metadata": {
        "colab": {
          "base_uri": "https://localhost:8080/"
        },
        "id": "J0PbYHwBh0eL",
        "outputId": "2bfb07f9-3ce7-4ac3-9ab2-a270ba7cdd9b"
      },
      "execution_count": 51,
      "outputs": [
        {
          "output_type": "stream",
          "name": "stdout",
          "text": [
            "10\n",
            "typ zmiennej a: <class 'str'>, wartość zmiennej a: 10\n",
            "typ zmiennej a po konwersji typu: <class 'int'>, wartość zmiennej a: 10\n",
            "2\n",
            "Wynik dodawania liczb: 10 oraz 2 to jest: 12\n",
            "typ zmiennej a: <class 'int'>, b: <class 'int'>, c: <class 'int'>\n"
          ]
        }
      ]
    },
    {
      "cell_type": "code",
      "source": [
        "a = 10\n",
        "b = input()\n",
        "print(type(a))\n",
        "print(type(b))"
      ],
      "metadata": {
        "colab": {
          "base_uri": "https://localhost:8080/"
        },
        "id": "T3BI4WToinNx",
        "outputId": "2a0cf968-3fed-4be1-c085-f072ffd2c1db"
      },
      "execution_count": 31,
      "outputs": [
        {
          "output_type": "stream",
          "name": "stdout",
          "text": [
            "10\n",
            "<class 'int'>\n",
            "<class 'str'>\n"
          ]
        }
      ]
    },
    {
      "cell_type": "code",
      "source": [
        "a = \"10\"\n",
        "b = 10"
      ],
      "metadata": {
        "id": "oFH4PJ1Aj8Oa"
      },
      "execution_count": 40,
      "outputs": []
    },
    {
      "cell_type": "code",
      "source": [
        "a = \"10\"\n",
        "b = 10\n",
        "\n",
        "print(f\"typ zmiennej a: {type(a)}, wartość zmiennej a: {a}\")\n",
        "print(f\"typ zmiennej b: {type(b)}, wartość zmiennej b: {b}\")\n",
        "a = int(a)\n",
        "print(f\"typ zmiennej a po konwersji typu: {type(a)}\")\n",
        "\n",
        "c = a + b\n",
        "print(c)"
      ],
      "metadata": {
        "colab": {
          "base_uri": "https://localhost:8080/"
        },
        "id": "ho8guy7IkIep",
        "outputId": "d0c57bc4-7322-43af-8c9b-5fd7d28a3ebe"
      },
      "execution_count": 47,
      "outputs": [
        {
          "output_type": "stream",
          "name": "stdout",
          "text": [
            "typ zmiennej a: <class 'str'>, wartość zmiennej a: 10\n",
            "typ zmiennej b: <class 'int'>, wartość zmiennej b: 10\n",
            "typ zmiennej a po konwersji typu: <class 'int'>\n",
            "20\n"
          ]
        }
      ]
    },
    {
      "cell_type": "code",
      "source": [
        "a = \"10\"\n",
        "b = 10\n",
        "\n",
        "print(f\"typ zmiennej a: {type(a)}, wartość zmiennej a: {a}\")\n",
        "print(f\"typ zmiennej b: {type(b)}, wartość zmiennej b: {b}\")\n",
        "b = str(b)\n",
        "print(f\"typ zmiennej b po konwersji typu: {type(b)}\")\n",
        "\n",
        "c = a + b\n",
        "print(c)"
      ],
      "metadata": {
        "colab": {
          "base_uri": "https://localhost:8080/"
        },
        "id": "B2Jmlj9_lHSy",
        "outputId": "8e7cba04-056c-4d1f-88ec-ee22193793e3"
      },
      "execution_count": 48,
      "outputs": [
        {
          "output_type": "stream",
          "name": "stdout",
          "text": [
            "typ zmiennej a: <class 'str'>, wartość zmiennej a: 10\n",
            "typ zmiennej b: <class 'int'>, wartość zmiennej b: 10\n",
            "typ zmiennej b po konwersji typu: <class 'str'>\n",
            "1010\n"
          ]
        }
      ]
    },
    {
      "cell_type": "code",
      "source": [
        "a = int('33534543')\n",
        "b = 0x324254\n",
        "\n",
        "c = a + b\n",
        "print(f\"{c}\")"
      ],
      "metadata": {
        "colab": {
          "base_uri": "https://localhost:8080/"
        },
        "id": "WoYhIKwSkjRG",
        "outputId": "035410c6-2642-40e2-b397-33d77f925390"
      },
      "execution_count": 53,
      "outputs": [
        {
          "output_type": "stream",
          "name": "stdout",
          "text": [
            "36828323\n"
          ]
        }
      ]
    },
    {
      "cell_type": "code",
      "source": [
        "a = 3.1415\n",
        "b = '3'\n",
        "\n",
        "print(f\"{type(a)}, {type(b)}\")\n",
        "\n",
        "# to daje zły wynik bo a jest typu float\n",
        "c = int(a) * int(b)\n",
        "print(f\"{c}\")\n",
        "\n",
        "# teraz wynik powinien być poprawny\n",
        "c = float(a) * int(b)\n",
        "print(f\"typ zmiennej c to: {type(c)}, a jej wartość to: {c}\")"
      ],
      "metadata": {
        "colab": {
          "base_uri": "https://localhost:8080/"
        },
        "id": "8usP0jutnM6A",
        "outputId": "caa7c3c3-c46b-4718-bfc9-2dc4f0d65532"
      },
      "execution_count": 68,
      "outputs": [
        {
          "output_type": "stream",
          "name": "stdout",
          "text": [
            "<class 'float'>, <class 'str'>\n",
            "9\n",
            "typ zmiennej c to: <class 'float'>, a jej wartość to: 9.4245\n"
          ]
        }
      ]
    },
    {
      "cell_type": "code",
      "source": [
        "a = \"3.1415\"\n",
        "b = 10\n",
        "\n",
        "print(a + str(b))"
      ],
      "metadata": {
        "colab": {
          "base_uri": "https://localhost:8080/"
        },
        "id": "dyf2HDlVpQcP",
        "outputId": "b22e51c1-5acc-419b-c791-769754d4e232"
      },
      "execution_count": 70,
      "outputs": [
        {
          "output_type": "stream",
          "name": "stdout",
          "text": [
            "3.141510\n"
          ]
        }
      ]
    },
    {
      "cell_type": "code",
      "source": [
        "a = \"3.1415\"\n",
        "b = 0x100\n",
        "c = .7\n",
        "\n",
        "# konwertujemy na zmiennopozycyjnego float\n",
        "z = float(a) + float(b) + c\n",
        "print(f\"float: {z}\")\n",
        "\n",
        "# konwertujemy na stałopozycyjnego int\n",
        "z = int(float(a)) + b + int(c)\n",
        "print(f\"int: {z}\")\n",
        "\n",
        "# konwertujemy na napis\n",
        "z = a + str(b) + str(c)\n",
        "print(f\"sting: {z}\")\n",
        "\n",
        "# z = a + b + c"
      ],
      "metadata": {
        "colab": {
          "base_uri": "https://localhost:8080/"
        },
        "id": "LUkzIWY3pk7L",
        "outputId": "40578beb-710d-492a-ada1-ce27c950d856"
      },
      "execution_count": 75,
      "outputs": [
        {
          "output_type": "stream",
          "name": "stdout",
          "text": [
            "float: 259.8415\n",
            "int: 259\n",
            "sting: 3.14152560.7\n"
          ]
        }
      ]
    },
    {
      "cell_type": "code",
      "source": [
        "a = '1'\n",
        "b = 100\n",
        "\n",
        "print(f\"type(a): {type(a)}, type(b): {type(b)}\")\n",
        "\n",
        "# ord(a) -> ord('1') -> zwraca indeks znaku '1' w tabeli ASCII czli 49\n",
        "\n",
        "c = ord(a) + b   # a tu mamy już int(49) + int(100) -> 149\n",
        "print(f\"{c}\")\n",
        "\n",
        "# int(a) -> int('1') -> zwraca wartość całkowitoliczbową 1\n",
        "\n",
        "c = int(a) + b   # a tu mamy już int(1) + int(100) -> 101\n",
        "print(f\"{c}\")"
      ],
      "metadata": {
        "colab": {
          "base_uri": "https://localhost:8080/"
        },
        "id": "RWNqjNHPqyZZ",
        "outputId": "48e4dc47-ed9b-4fb6-ee1a-d72a76b1b104"
      },
      "execution_count": 78,
      "outputs": [
        {
          "output_type": "stream",
          "name": "stdout",
          "text": [
            "type(a): <class 'str'>, type(b): <class 'int'>\n",
            "149\n",
            "101\n"
          ]
        }
      ]
    },
    {
      "cell_type": "code",
      "source": [
        "print(str(65))   # konwertuje liczbę 65 na napis \"65\"\n",
        "print(chr(65))   # zwraca znak z tabeli ASCII o indeksie 65 czyli literę 'A'"
      ],
      "metadata": {
        "colab": {
          "base_uri": "https://localhost:8080/"
        },
        "id": "0HntBdBasT8-",
        "outputId": "9eb512bb-3af0-43dd-d2bb-aa995cdb5176"
      },
      "execution_count": 79,
      "outputs": [
        {
          "output_type": "stream",
          "name": "stdout",
          "text": [
            "65\n",
            "A\n"
          ]
        }
      ]
    },
    {
      "cell_type": "code",
      "source": [
        "a = \"ala ma kota\"\n",
        "\n",
        "b = a[0:3] + \" \" + a[7:len(a)]\n",
        "\n",
        "print(f\"długość napisu a w znakach to: {len(a)}\")\n",
        "print(f\"długość napisu b w znakach to: {len(b)}\")"
      ],
      "metadata": {
        "colab": {
          "base_uri": "https://localhost:8080/"
        },
        "id": "L2jg7slDszI1",
        "outputId": "9b0bd51f-19ee-4261-93ed-dae5f4066d3e"
      },
      "execution_count": 84,
      "outputs": [
        {
          "output_type": "stream",
          "name": "stdout",
          "text": [
            "długość napisu a w znakach to: 11\n",
            "długość napisu b w znakach to: 8\n"
          ]
        }
      ]
    },
    {
      "cell_type": "code",
      "source": [
        "a = \"ala ma kota\"\n",
        "A = a.upper()   # upper -> zamienia małe litery na wielkie\n",
        "print(A)\n",
        "\n",
        "z = A.lower()   # lower -> zamienia wielkie litery na małe\n",
        "print(z)\n",
        "\n",
        "x = a.capitalize() # capitalize -> zamienia litery na 'jak w zdaniu'\n",
        "print(x)\n",
        "y = A.capitalize() # capitalize -> zamienia litery na 'jak w zdaniu'\n",
        "print(y)"
      ],
      "metadata": {
        "colab": {
          "base_uri": "https://localhost:8080/"
        },
        "id": "h43xcujDtXvc",
        "outputId": "b8d974a2-1051-4020-d0aa-fa84d69480e5"
      },
      "execution_count": 91,
      "outputs": [
        {
          "output_type": "stream",
          "name": "stdout",
          "text": [
            "ALA MA KOTA\n",
            "ala ma kota\n",
            "Ala ma kota\n",
            "Ala ma kota\n"
          ]
        }
      ]
    },
    {
      "cell_type": "code",
      "source": [
        "a = \"Ala\"\n",
        "b = \"ma\"\n",
        "c = \"kota\""
      ],
      "metadata": {
        "id": "NJAf3XmjtP2R"
      },
      "execution_count": 92,
      "outputs": []
    },
    {
      "cell_type": "code",
      "source": [
        "print(f\"{a} {b} {c}\")"
      ],
      "metadata": {
        "colab": {
          "base_uri": "https://localhost:8080/"
        },
        "id": "6RlNPcCm0BlA",
        "outputId": "86c40e64-2699-4e65-ac30-bc7711cc91c2"
      },
      "execution_count": 93,
      "outputs": [
        {
          "output_type": "stream",
          "name": "stdout",
          "text": [
            "Ala ma kota\n"
          ]
        }
      ]
    },
    {
      "cell_type": "code",
      "source": [
        "z = (a, b, c)\n",
        "print(f\"{z}\")"
      ],
      "metadata": {
        "colab": {
          "base_uri": "https://localhost:8080/"
        },
        "id": "xfhhErmB0GqF",
        "outputId": "ebcacc07-cd4a-448f-a5ed-0bdbab457824"
      },
      "execution_count": 94,
      "outputs": [
        {
          "output_type": "stream",
          "name": "stdout",
          "text": [
            "('Ala', 'ma', 'kota')\n"
          ]
        }
      ]
    },
    {
      "cell_type": "code",
      "source": [
        "z[-1] # ostatni element kolekcji (tuple, krotka)\n",
        "z[0]  # pierwszy element kolekcji (tuple, krotka)\n",
        "\n",
        "print(len(z))\n",
        "A, B, _ = z         # pobranie pierwszych dwu elementów z kolekcji - ignorujemy trzeci\n",
        "\n",
        "print(z[:])         # wyświetla wszystkie elementy kolekcji (tuple, krotka)\n",
        "\n",
        "print(f\"{A}, {B}\")"
      ],
      "metadata": {
        "colab": {
          "base_uri": "https://localhost:8080/"
        },
        "id": "buUB0B6A0dxy",
        "outputId": "81007fb2-1966-4034-b6b3-f8e461dd304b"
      },
      "execution_count": 105,
      "outputs": [
        {
          "output_type": "stream",
          "name": "stdout",
          "text": [
            "3\n",
            "Ala, ma\n"
          ]
        }
      ]
    },
    {
      "cell_type": "code",
      "source": [
        "t = (1, 2, 3, 4, 5, 6, 7, 8, 9)\n",
        "print(t[2:])\n",
        "print(f\"type(t): {type(t)}\")"
      ],
      "metadata": {
        "colab": {
          "base_uri": "https://localhost:8080/"
        },
        "id": "AuesFfF81nR8",
        "outputId": "b99246e6-8ad0-4688-f40b-617e1b5c1494"
      },
      "execution_count": 114,
      "outputs": [
        {
          "output_type": "stream",
          "name": "stdout",
          "text": [
            "(3, 4, 5, 6, 7, 8, 9)\n",
            "type(t): <class 'tuple'>\n"
          ]
        }
      ]
    },
    {
      "cell_type": "code",
      "source": [
        "t = (\"Ala\", 0x100, 3.14)      # brak możliwości operacji na elementach\n",
        "print(f\"{t}\")\n",
        "\n",
        "t = (t[0], t[-1])             # \"obejście\" problemu z usuwaniem elemenów z tuple\n",
        "print(f\"{t}\")                 # został utworzony nowy tuple zawierający tylko te elementy które chcielśmy"
      ],
      "metadata": {
        "colab": {
          "base_uri": "https://localhost:8080/"
        },
        "id": "q0he0YcV2CMB",
        "outputId": "63e1f589-3bb8-4c36-9aed-6e336f0ffd6b"
      },
      "execution_count": 132,
      "outputs": [
        {
          "output_type": "stream",
          "name": "stdout",
          "text": [
            "('Ala', 256, 3.14)\n",
            "('Ala', 3.14)\n"
          ]
        }
      ]
    },
    {
      "cell_type": "code",
      "source": [
        "t = (\"Ala\", 0x100, 3.14, 100, 100, 200, 80, 30)\n",
        "print(f\"{t}\")\n",
        "\n",
        "t1 = (t[0], t[2:])\n",
        "print(f\"{t1}\")  \n",
        "\n",
        "t2 = (t[0], *t[2:])   # * pozwala nam na konwersję tuple na elementy tuple\n",
        "print(f\"{t2}\")  "
      ],
      "metadata": {
        "colab": {
          "base_uri": "https://localhost:8080/"
        },
        "id": "b9sEgJWN4qwy",
        "outputId": "fa970c4d-a40a-4af1-b165-36edd19c91ab"
      },
      "execution_count": 143,
      "outputs": [
        {
          "output_type": "stream",
          "name": "stdout",
          "text": [
            "('Ala', 256, 3.14, 100, 100, 200, 80, 30)\n",
            "('Ala', (3.14, 100, 100, 200, 80, 30))\n",
            "('Ala', 3.14, 100, 100, 200, 80, 30)\n"
          ]
        }
      ]
    },
    {
      "cell_type": "code",
      "source": [
        "lista_z_jednym_tuple = [t2]\n",
        "lista_z_tuple = [*t2]\n",
        "print(f\"type(lista_z_tuple): {type(lista_z_tuple)}\")\n",
        "print(lista_z_tuple)\n",
        "print(lista_z_jednym_tuple)"
      ],
      "metadata": {
        "colab": {
          "base_uri": "https://localhost:8080/"
        },
        "id": "Z1W9Gaso5T9h",
        "outputId": "ecac9b0e-64ab-40a7-c109-ff8622a4a6fb"
      },
      "execution_count": 153,
      "outputs": [
        {
          "output_type": "stream",
          "name": "stdout",
          "text": [
            "type(lista_z_tuple): <class 'list'>\n",
            "['Ala', 3.14, 100, 100, 200, 80, 30]\n",
            "[('Ala', 3.14, 100, 100, 200, 80, 30)]\n"
          ]
        }
      ]
    },
    {
      "cell_type": "code",
      "source": [
        "print(len(lista_z_tuple))\n",
        "print(len(lista_z_jednym_tuple))"
      ],
      "metadata": {
        "colab": {
          "base_uri": "https://localhost:8080/"
        },
        "id": "MmuDHOcc6tay",
        "outputId": "4020ec7c-4aab-4205-f40f-d0b872333562"
      },
      "execution_count": 160,
      "outputs": [
        {
          "output_type": "stream",
          "name": "stdout",
          "text": [
            "7\n",
            "1\n"
          ]
        }
      ]
    },
    {
      "cell_type": "code",
      "source": [
        "lista_z_tuple.remove('Ala')               # usuwa element o wartości 'Ala' z listy\n",
        "lista_z_tuple = lista_z_tuple.reverse()   # odraca kolejność elementów listy"
      ],
      "metadata": {
        "id": "qlXcGSZl7ApH"
      },
      "execution_count": 161,
      "outputs": []
    },
    {
      "cell_type": "code",
      "source": [
        "lista = [1, 2, 3, 4, 5, 6, 7, 8, 9]\n",
        "print(lista)\n",
        "print(f\"type(lista): {type(lista)}\")"
      ],
      "metadata": {
        "colab": {
          "base_uri": "https://localhost:8080/"
        },
        "id": "pCIupNG72F9E",
        "outputId": "42304c9b-bf9f-4501-e85f-b15fbd83d525"
      },
      "execution_count": 163,
      "outputs": [
        {
          "output_type": "stream",
          "name": "stdout",
          "text": [
            "[1, 2, 3, 4, 5, 6, 7, 8, 9]\n",
            "type(lista): <class 'list'>\n"
          ]
        }
      ]
    },
    {
      "cell_type": "code",
      "source": [
        "lista[1] = 100        # zamienia element o indeksie 1 na warość 100\n",
        "print(lista)"
      ],
      "metadata": {
        "colab": {
          "base_uri": "https://localhost:8080/"
        },
        "id": "gBBy-oCD7o8D",
        "outputId": "48d7e9bc-2665-4560-e506-8f246a70a24b"
      },
      "execution_count": 164,
      "outputs": [
        {
          "output_type": "stream",
          "name": "stdout",
          "text": [
            "[1, 100, 3, 4, 5, 6, 7, 8, 9]\n"
          ]
        }
      ]
    },
    {
      "cell_type": "code",
      "source": [
        "print(lista[5:len(lista)])  # elementy od 5 do ostateniego\n",
        "print(len(lista))           # zwraca liczbę elementów listy\n",
        "print(lista[0:2])           # zwraca elementy od 0 do 1 (<2)"
      ],
      "metadata": {
        "colab": {
          "base_uri": "https://localhost:8080/"
        },
        "id": "J8z8COGy2-su",
        "outputId": "cd598feb-6c8b-4aa9-85a2-5c9852b9ef19"
      },
      "execution_count": 122,
      "outputs": [
        {
          "output_type": "stream",
          "name": "stdout",
          "text": [
            "[6, 7, 8, 9]\n",
            "9\n",
            "[1, 2]\n"
          ]
        }
      ]
    },
    {
      "cell_type": "code",
      "source": [
        "lista.append(0)             # dodanie 0 do listy\n",
        "lista.remove(2)             # usunięcie elementu o indeksie 2"
      ],
      "metadata": {
        "id": "NDFDfncy3Wga"
      },
      "execution_count": 126,
      "outputs": []
    },
    {
      "cell_type": "code",
      "source": [
        "print(lista)"
      ],
      "metadata": {
        "colab": {
          "base_uri": "https://localhost:8080/"
        },
        "id": "UpQraT7b3b6Q",
        "outputId": "adf4464f-d4e8-42fb-ddd2-128afff28696"
      },
      "execution_count": 127,
      "outputs": [
        {
          "output_type": "stream",
          "name": "stdout",
          "text": [
            "[1, 3, 4, 5, 6, 7, 8, 9, 0, 0]\n"
          ]
        }
      ]
    },
    {
      "cell_type": "code",
      "source": [
        "slownik = {}      # tworzy pusty słownik\n",
        "print(f\"type(slownik): {type(slownik)}\")"
      ],
      "metadata": {
        "colab": {
          "base_uri": "https://localhost:8080/"
        },
        "id": "4SIFKkWU7z23",
        "outputId": "a655b1a2-b082-4462-dff6-b7605d42041d"
      },
      "execution_count": 165,
      "outputs": [
        {
          "output_type": "stream",
          "name": "stdout",
          "text": [
            "type(slownik): <class 'dict'>\n"
          ]
        }
      ]
    },
    {
      "cell_type": "code",
      "source": [
        "slownik = {\"koń\" : \"horse\", \"pies\" : \"dog\", \"kot\" : \"cat\"}\n",
        "\n",
        "print(slownik[\"kot\"])\n",
        "\n",
        "slownik[\"słoń\"] = \"elephant\""
      ],
      "metadata": {
        "colab": {
          "base_uri": "https://localhost:8080/"
        },
        "id": "TKZfmzql7-e3",
        "outputId": "5cbbebc0-4efe-4cc8-c602-f6f4e22f13ac"
      },
      "execution_count": 168,
      "outputs": [
        {
          "output_type": "stream",
          "name": "stdout",
          "text": [
            "cat\n"
          ]
        }
      ]
    },
    {
      "cell_type": "code",
      "source": [
        "print(slownik)"
      ],
      "metadata": {
        "colab": {
          "base_uri": "https://localhost:8080/"
        },
        "id": "Wfq44Mjf8ldc",
        "outputId": "bf966e09-fa1f-4442-d86b-494ee5b55c7e"
      },
      "execution_count": 169,
      "outputs": [
        {
          "output_type": "stream",
          "name": "stdout",
          "text": [
            "{'koń': 'horse', 'pies': 'dog', 'kot': 'cat', 'słoń': 'elephant'}\n"
          ]
        }
      ]
    },
    {
      "cell_type": "markdown",
      "source": [
        "```\n",
        "if warunek1:\n",
        "  # czynność 1\n",
        "elif warunek2:\n",
        "  # czynność 2\n",
        "elif warunek3:\n",
        "  # czynność 3\n",
        "else:\n",
        "  # inna czynność\n",
        "```"
      ],
      "metadata": {
        "id": "W5bIb4f69bjc"
      }
    },
    {
      "cell_type": "code",
      "source": [
        "a = True\n",
        "b = False"
      ],
      "metadata": {
        "id": "szyeLm6I9-an"
      },
      "execution_count": 170,
      "outputs": []
    },
    {
      "cell_type": "code",
      "source": [
        "print(f\"type(a): {type(a)}\")"
      ],
      "metadata": {
        "colab": {
          "base_uri": "https://localhost:8080/"
        },
        "id": "0SmNhx4U-Fkv",
        "outputId": "ca84317f-4f32-47dc-ac05-c5964ce34d20"
      },
      "execution_count": 171,
      "outputs": [
        {
          "output_type": "stream",
          "name": "stdout",
          "text": [
            "type(a): <class 'bool'>\n"
          ]
        }
      ]
    },
    {
      "cell_type": "code",
      "source": [
        "a = (5 == 6)\n",
        "print(f\"type(a): {type(a)}, wartość a: {a}\")"
      ],
      "metadata": {
        "colab": {
          "base_uri": "https://localhost:8080/"
        },
        "id": "w0Kbi2Ix-LwT",
        "outputId": "dba5796a-8e0a-47ae-b8ec-3982ddfaf2c1"
      },
      "execution_count": 174,
      "outputs": [
        {
          "output_type": "stream",
          "name": "stdout",
          "text": [
            "type(a): <class 'bool'>, wartość a: False\n"
          ]
        }
      ]
    },
    {
      "cell_type": "code",
      "source": [
        "a = 2\n",
        "b = (a != 5)        # != -> nie równa się\n",
        "c = (a == 5)        # == -> równa się\n",
        "print(b)"
      ],
      "metadata": {
        "colab": {
          "base_uri": "https://localhost:8080/"
        },
        "id": "_EwfBN69-bWt",
        "outputId": "e3ceb869-66f6-4068-cc3f-26cbe3ce2fde"
      },
      "execution_count": 179,
      "outputs": [
        {
          "output_type": "stream",
          "name": "stdout",
          "text": [
            "True\n"
          ]
        }
      ]
    },
    {
      "cell_type": "code",
      "source": [
        "a = int(input(\"Zgadnij jaka liczba została ukryta: \"))\n",
        "\n",
        "if a == 5:\n",
        "  print(\"Super a jest równe 5\")\n",
        "  print(\"więc nie musimy nic dodawać\")\n",
        "else:\n",
        "  print(\"No niestety ale nie jest równe 5\")\n",
        "  print(f\"wartość a to: {a}\")\n",
        "print(\"A ten napis pojawi się zawsze\")"
      ],
      "metadata": {
        "colab": {
          "base_uri": "https://localhost:8080/"
        },
        "id": "HgM7cIeU--sd",
        "outputId": "b2ab4e73-a160-447a-e617-acea7455bfa0"
      },
      "execution_count": 184,
      "outputs": [
        {
          "output_type": "stream",
          "name": "stdout",
          "text": [
            "Zgadnij jaka liczba została ukryta: 5\n",
            "Super a jest równe 5\n",
            "więc nie musimy nic dodawać\n",
            "A ten napis pojawi się zawsze\n"
          ]
        }
      ]
    },
    {
      "cell_type": "code",
      "source": [
        "x = int(input(\"Podaj liczbę:\"))\n",
        "\n",
        "a = x / 2\n",
        "print(f\"type(a): {type(a)} wartość a to: {a}\")"
      ],
      "metadata": {
        "colab": {
          "base_uri": "https://localhost:8080/"
        },
        "id": "KOlybggiAe_x",
        "outputId": "ed657745-2987-418d-9a74-0bf32c18bbc1"
      },
      "execution_count": 185,
      "outputs": [
        {
          "output_type": "stream",
          "name": "stdout",
          "text": [
            "Podaj liczbę:5\n",
            "type(a): <class 'float'> wartość a to: 2.5\n"
          ]
        }
      ]
    },
    {
      "cell_type": "code",
      "source": [
        "x = int(input(\"Podaj liczbę:\"))\n",
        "\n",
        "if (int(x / 2) * 2 == x):\n",
        "  print(\"mamy liczbę parzystą\")\n",
        "else:\n",
        "  print(\"liczba nieparzysta\")"
      ],
      "metadata": {
        "colab": {
          "base_uri": "https://localhost:8080/"
        },
        "id": "KqqaHpUdBSzx",
        "outputId": "b9022adb-4ea7-4811-8fe7-f0016f1b3706"
      },
      "execution_count": 187,
      "outputs": [
        {
          "output_type": "stream",
          "name": "stdout",
          "text": [
            "Podaj liczbę:4\n",
            "mamy liczbę parzystą\n"
          ]
        }
      ]
    },
    {
      "cell_type": "code",
      "source": [
        "x = int(input(\"Podaj liczbę:\"))\n",
        "\n",
        "if x % 2 == 0:                        # % - dzielenie modulo (z resztą)\n",
        "  print(\"mamy liczbę parzystą\")\n",
        "else:\n",
        "  print(\"liczba nieparzysta\")"
      ],
      "metadata": {
        "colab": {
          "base_uri": "https://localhost:8080/"
        },
        "id": "9cYauwxcB18l",
        "outputId": "3b5ae731-2737-41ad-f6dd-dcc9aaf71d2d"
      },
      "execution_count": 189,
      "outputs": [
        {
          "output_type": "stream",
          "name": "stdout",
          "text": [
            "Podaj liczbę:4\n",
            "mamy liczbę parzystą\n"
          ]
        }
      ]
    },
    {
      "cell_type": "code",
      "source": [
        "import math\n",
        "\n",
        "print(math.sqrt(25))"
      ],
      "metadata": {
        "colab": {
          "base_uri": "https://localhost:8080/"
        },
        "id": "Fxu8MVf9CjLX",
        "outputId": "bfc7680c-efc0-4a7f-dbf2-de34b68ba4a8"
      },
      "execution_count": 191,
      "outputs": [
        {
          "output_type": "stream",
          "name": "stdout",
          "text": [
            "5.0\n"
          ]
        }
      ]
    },
    {
      "cell_type": "code",
      "source": [
        "import math\n",
        "\n",
        "a = int(input(\"Podaj wartość a: \"))\n",
        "b = int(input(\"Podaj wartość b: \"))\n",
        "c = int(input(\"Podaj wartość c: \"))\n",
        "print(f\"Rozwiązujemy równanie w postaci y={a}x^2+{b}x+c\")\n",
        "\n",
        "# liczymy deltę\n",
        "d = b ** 2 - 4 * a * c      # b ** 2 -> b^2 (b kwadrat)\n",
        "\n",
        "if d < 0:\n",
        "  print(\"brak rozwiązań w ciele liczb rzeczywistych\")\n",
        "else:\n",
        "  print(f\"delta równa się: {d} liczymy dalej\")\n",
        "  if d == 0:\n",
        "    x = -b / 2 * a\n",
        "    print(f\"Obliczona wartość x: {x}\")\n",
        "  else:\n",
        "    x1 = (-b + math.sqrt(d)) / 2*a    # math.sqrt - pierwiastek (z biblioteki math)\n",
        "    x2 = (-b - math.sqrt(d)) / 2*a\n",
        "    print(f\"Obliczone wartości x to odpowiedni {x1} oraz {x2}\")"
      ],
      "metadata": {
        "colab": {
          "base_uri": "https://localhost:8080/"
        },
        "id": "fEo8iFskE3VZ",
        "outputId": "82345ec7-27c2-43a1-8e9b-a98ee33be779"
      },
      "execution_count": 198,
      "outputs": [
        {
          "output_type": "stream",
          "name": "stdout",
          "text": [
            "Podaj wartość a: 2\n",
            "Podaj wartość b: 10\n",
            "Podaj wartość c: 3\n",
            "Rozwiązujemy równanie w postaci y=2x^2+10x+c\n",
            "delta równa się: 76 liczymy dalej\n",
            "Obliczone wartości x to odpowiedni -1.282202112918652 oraz -18.717797887081346\n"
          ]
        }
      ]
    },
    {
      "cell_type": "markdown",
      "source": [
        "```\n",
        "for element in kolekcja:\n",
        "  # blok instrukcji\n",
        "```"
      ],
      "metadata": {
        "id": "cToCes0nI473"
      }
    },
    {
      "cell_type": "code",
      "source": [
        "lista = [1, 2, 3, 4, 5, 6, 7, 8, 9]\n",
        "\n",
        "for element in lista:\n",
        "  print(f\"kolejny element listy to: {element}\")"
      ],
      "metadata": {
        "colab": {
          "base_uri": "https://localhost:8080/"
        },
        "id": "KTVOiYrVI-wO",
        "outputId": "b00b1372-157e-4f74-e855-37f9b144965e"
      },
      "execution_count": 200,
      "outputs": [
        {
          "output_type": "stream",
          "name": "stdout",
          "text": [
            "kolejny element listy to: 1\n",
            "kolejny element listy to: 2\n",
            "kolejny element listy to: 3\n",
            "kolejny element listy to: 4\n",
            "kolejny element listy to: 5\n",
            "kolejny element listy to: 6\n",
            "kolejny element listy to: 7\n",
            "kolejny element listy to: 8\n",
            "kolejny element listy to: 9\n"
          ]
        }
      ]
    },
    {
      "cell_type": "code",
      "source": [
        "for element in lista:\n",
        "  if element % 2 == 0:\n",
        "    print(f\"element listy {element} jest parzysty\")\n",
        "  else:\n",
        "    print(f\"element listy {element} jest nieparzysty\")"
      ],
      "metadata": {
        "colab": {
          "base_uri": "https://localhost:8080/"
        },
        "id": "94UDRozUJfrC",
        "outputId": "5faa40f5-9342-485c-f1aa-310f107c3831"
      },
      "execution_count": 205,
      "outputs": [
        {
          "output_type": "stream",
          "name": "stdout",
          "text": [
            "element listy 1 jest nieparzysty\n",
            "element listy 2 jest parzysty\n",
            "element listy 3 jest nieparzysty\n",
            "element listy 4 jest parzysty\n",
            "element listy 5 jest nieparzysty\n",
            "element listy 6 jest parzysty\n",
            "element listy 7 jest nieparzysty\n",
            "element listy 8 jest parzysty\n",
            "element listy 9 jest nieparzysty\n"
          ]
        }
      ]
    },
    {
      "cell_type": "code",
      "source": [
        "for element in lista:\n",
        "  print(f\"element listy {element} jest \", end=\"\")\n",
        "  if element % 2 == 0:\n",
        "    print(\"parzysty\")\n",
        "  else:\n",
        "    print(\"nieparzysty\")\n"
      ],
      "metadata": {
        "colab": {
          "base_uri": "https://localhost:8080/"
        },
        "id": "_9YLIiQuK2G6",
        "outputId": "af3bbe68-e5ab-40c3-bcaa-bf75087beff7"
      },
      "execution_count": 207,
      "outputs": [
        {
          "output_type": "stream",
          "name": "stdout",
          "text": [
            "element listy 1 jest nieparzysty\n",
            "element listy 2 jest parzysty\n",
            "element listy 3 jest nieparzysty\n",
            "element listy 4 jest parzysty\n",
            "element listy 5 jest nieparzysty\n",
            "element listy 6 jest parzysty\n",
            "element listy 7 jest nieparzysty\n",
            "element listy 8 jest parzysty\n",
            "element listy 9 jest nieparzysty\n"
          ]
        }
      ]
    },
    {
      "cell_type": "code",
      "source": [
        "print(1, 2, 3, 4, sep='-')"
      ],
      "metadata": {
        "colab": {
          "base_uri": "https://localhost:8080/"
        },
        "id": "co78Yhq3LPEo",
        "outputId": "a71abf03-ee6f-424c-dca7-1b3e14850ec7"
      },
      "execution_count": 210,
      "outputs": [
        {
          "output_type": "stream",
          "name": "stdout",
          "text": [
            "1-2-3-4\n"
          ]
        }
      ]
    },
    {
      "cell_type": "code",
      "source": [
        "def colored(r, g, b, text):\n",
        "  return \"\\033[38;2;{};{};{}m{}\\033[38;2;255;255;255m\".format(r, g, b, text)"
      ],
      "metadata": {
        "id": "tAn_2DzjTu8v"
      },
      "execution_count": 247,
      "outputs": []
    },
    {
      "cell_type": "code",
      "source": [
        "cyfry = [1, 2, 3, 4, 5, 6, 7, 8, 9, 10]\n",
        "\n",
        "for a in cyfry:\n",
        "  for b in cyfry:\n",
        "    if b >= a :                             # cyfry na osi oraz nad\n",
        "      c = a * b\n",
        "      if c < 10:\n",
        "        print(\" \", end=\"\")\n",
        "      if c < 100:\n",
        "        print(\" \", end=\"\")\n",
        "      if a == b:\n",
        "        txt = colored(0, 0, 255, f\"{c}\")\n",
        "      else:\n",
        "        txt = colored(255, 0, 0, f\"{c}\")\n",
        "      print(txt, end=\"\")\n",
        "      if b != 10:\n",
        "        print(\", \", end=\"\")\n",
        "    else:                                   # cyfry pod osią\n",
        "      c = a * b\n",
        "      if c < 10:\n",
        "        print(\" \", end=\"\")\n",
        "      if c < 100:\n",
        "        print(\" \", end=\"\")\n",
        "      txt = colored(0, 255, 0, f\"{c}\")\n",
        "      print(txt, end=\"\")\n",
        "      if b != 10:\n",
        "        print(\", \", end=\"\")\n",
        "  print(\"\")\n"
      ],
      "metadata": {
        "colab": {
          "base_uri": "https://localhost:8080/"
        },
        "id": "MVs40FyuLv4Y",
        "outputId": "a4ba9677-c350-4c71-bb1d-c724e7849e48"
      },
      "execution_count": 250,
      "outputs": [
        {
          "output_type": "stream",
          "name": "stdout",
          "text": [
            "  \u001b[38;2;0;0;255m1\u001b[38;2;255;255;255m,   \u001b[38;2;255;0;0m2\u001b[38;2;255;255;255m,   \u001b[38;2;255;0;0m3\u001b[38;2;255;255;255m,   \u001b[38;2;255;0;0m4\u001b[38;2;255;255;255m,   \u001b[38;2;255;0;0m5\u001b[38;2;255;255;255m,   \u001b[38;2;255;0;0m6\u001b[38;2;255;255;255m,   \u001b[38;2;255;0;0m7\u001b[38;2;255;255;255m,   \u001b[38;2;255;0;0m8\u001b[38;2;255;255;255m,   \u001b[38;2;255;0;0m9\u001b[38;2;255;255;255m,  \u001b[38;2;255;0;0m10\u001b[38;2;255;255;255m\n",
            "  \u001b[38;2;0;255;0m2\u001b[38;2;255;255;255m,   \u001b[38;2;0;0;255m4\u001b[38;2;255;255;255m,   \u001b[38;2;255;0;0m6\u001b[38;2;255;255;255m,   \u001b[38;2;255;0;0m8\u001b[38;2;255;255;255m,  \u001b[38;2;255;0;0m10\u001b[38;2;255;255;255m,  \u001b[38;2;255;0;0m12\u001b[38;2;255;255;255m,  \u001b[38;2;255;0;0m14\u001b[38;2;255;255;255m,  \u001b[38;2;255;0;0m16\u001b[38;2;255;255;255m,  \u001b[38;2;255;0;0m18\u001b[38;2;255;255;255m,  \u001b[38;2;255;0;0m20\u001b[38;2;255;255;255m\n",
            "  \u001b[38;2;0;255;0m3\u001b[38;2;255;255;255m,   \u001b[38;2;0;255;0m6\u001b[38;2;255;255;255m,   \u001b[38;2;0;0;255m9\u001b[38;2;255;255;255m,  \u001b[38;2;255;0;0m12\u001b[38;2;255;255;255m,  \u001b[38;2;255;0;0m15\u001b[38;2;255;255;255m,  \u001b[38;2;255;0;0m18\u001b[38;2;255;255;255m,  \u001b[38;2;255;0;0m21\u001b[38;2;255;255;255m,  \u001b[38;2;255;0;0m24\u001b[38;2;255;255;255m,  \u001b[38;2;255;0;0m27\u001b[38;2;255;255;255m,  \u001b[38;2;255;0;0m30\u001b[38;2;255;255;255m\n",
            "  \u001b[38;2;0;255;0m4\u001b[38;2;255;255;255m,   \u001b[38;2;0;255;0m8\u001b[38;2;255;255;255m,  \u001b[38;2;0;255;0m12\u001b[38;2;255;255;255m,  \u001b[38;2;0;0;255m16\u001b[38;2;255;255;255m,  \u001b[38;2;255;0;0m20\u001b[38;2;255;255;255m,  \u001b[38;2;255;0;0m24\u001b[38;2;255;255;255m,  \u001b[38;2;255;0;0m28\u001b[38;2;255;255;255m,  \u001b[38;2;255;0;0m32\u001b[38;2;255;255;255m,  \u001b[38;2;255;0;0m36\u001b[38;2;255;255;255m,  \u001b[38;2;255;0;0m40\u001b[38;2;255;255;255m\n",
            "  \u001b[38;2;0;255;0m5\u001b[38;2;255;255;255m,  \u001b[38;2;0;255;0m10\u001b[38;2;255;255;255m,  \u001b[38;2;0;255;0m15\u001b[38;2;255;255;255m,  \u001b[38;2;0;255;0m20\u001b[38;2;255;255;255m,  \u001b[38;2;0;0;255m25\u001b[38;2;255;255;255m,  \u001b[38;2;255;0;0m30\u001b[38;2;255;255;255m,  \u001b[38;2;255;0;0m35\u001b[38;2;255;255;255m,  \u001b[38;2;255;0;0m40\u001b[38;2;255;255;255m,  \u001b[38;2;255;0;0m45\u001b[38;2;255;255;255m,  \u001b[38;2;255;0;0m50\u001b[38;2;255;255;255m\n",
            "  \u001b[38;2;0;255;0m6\u001b[38;2;255;255;255m,  \u001b[38;2;0;255;0m12\u001b[38;2;255;255;255m,  \u001b[38;2;0;255;0m18\u001b[38;2;255;255;255m,  \u001b[38;2;0;255;0m24\u001b[38;2;255;255;255m,  \u001b[38;2;0;255;0m30\u001b[38;2;255;255;255m,  \u001b[38;2;0;0;255m36\u001b[38;2;255;255;255m,  \u001b[38;2;255;0;0m42\u001b[38;2;255;255;255m,  \u001b[38;2;255;0;0m48\u001b[38;2;255;255;255m,  \u001b[38;2;255;0;0m54\u001b[38;2;255;255;255m,  \u001b[38;2;255;0;0m60\u001b[38;2;255;255;255m\n",
            "  \u001b[38;2;0;255;0m7\u001b[38;2;255;255;255m,  \u001b[38;2;0;255;0m14\u001b[38;2;255;255;255m,  \u001b[38;2;0;255;0m21\u001b[38;2;255;255;255m,  \u001b[38;2;0;255;0m28\u001b[38;2;255;255;255m,  \u001b[38;2;0;255;0m35\u001b[38;2;255;255;255m,  \u001b[38;2;0;255;0m42\u001b[38;2;255;255;255m,  \u001b[38;2;0;0;255m49\u001b[38;2;255;255;255m,  \u001b[38;2;255;0;0m56\u001b[38;2;255;255;255m,  \u001b[38;2;255;0;0m63\u001b[38;2;255;255;255m,  \u001b[38;2;255;0;0m70\u001b[38;2;255;255;255m\n",
            "  \u001b[38;2;0;255;0m8\u001b[38;2;255;255;255m,  \u001b[38;2;0;255;0m16\u001b[38;2;255;255;255m,  \u001b[38;2;0;255;0m24\u001b[38;2;255;255;255m,  \u001b[38;2;0;255;0m32\u001b[38;2;255;255;255m,  \u001b[38;2;0;255;0m40\u001b[38;2;255;255;255m,  \u001b[38;2;0;255;0m48\u001b[38;2;255;255;255m,  \u001b[38;2;0;255;0m56\u001b[38;2;255;255;255m,  \u001b[38;2;0;0;255m64\u001b[38;2;255;255;255m,  \u001b[38;2;255;0;0m72\u001b[38;2;255;255;255m,  \u001b[38;2;255;0;0m80\u001b[38;2;255;255;255m\n",
            "  \u001b[38;2;0;255;0m9\u001b[38;2;255;255;255m,  \u001b[38;2;0;255;0m18\u001b[38;2;255;255;255m,  \u001b[38;2;0;255;0m27\u001b[38;2;255;255;255m,  \u001b[38;2;0;255;0m36\u001b[38;2;255;255;255m,  \u001b[38;2;0;255;0m45\u001b[38;2;255;255;255m,  \u001b[38;2;0;255;0m54\u001b[38;2;255;255;255m,  \u001b[38;2;0;255;0m63\u001b[38;2;255;255;255m,  \u001b[38;2;0;255;0m72\u001b[38;2;255;255;255m,  \u001b[38;2;0;0;255m81\u001b[38;2;255;255;255m,  \u001b[38;2;255;0;0m90\u001b[38;2;255;255;255m\n",
            " \u001b[38;2;0;255;0m10\u001b[38;2;255;255;255m,  \u001b[38;2;0;255;0m20\u001b[38;2;255;255;255m,  \u001b[38;2;0;255;0m30\u001b[38;2;255;255;255m,  \u001b[38;2;0;255;0m40\u001b[38;2;255;255;255m,  \u001b[38;2;0;255;0m50\u001b[38;2;255;255;255m,  \u001b[38;2;0;255;0m60\u001b[38;2;255;255;255m,  \u001b[38;2;0;255;0m70\u001b[38;2;255;255;255m,  \u001b[38;2;0;255;0m80\u001b[38;2;255;255;255m,  \u001b[38;2;0;255;0m90\u001b[38;2;255;255;255m, \u001b[38;2;0;0;255m100\u001b[38;2;255;255;255m\n"
          ]
        }
      ]
    },
    {
      "cell_type": "code",
      "source": [
        "\n"
      ],
      "metadata": {
        "colab": {
          "base_uri": "https://localhost:8080/"
        },
        "id": "TahSF8voTEK3",
        "outputId": "f538471c-817f-4a9e-97b5-63250b1aa517"
      },
      "execution_count": 237,
      "outputs": [
        {
          "output_type": "stream",
          "name": "stdout",
          "text": [
            "<class 'range'>\n"
          ]
        }
      ]
    }
  ]
}