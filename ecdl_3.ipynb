{
  "nbformat": 4,
  "nbformat_minor": 0,
  "metadata": {
    "colab": {
      "name": "ecdl_3.ipynb",
      "provenance": [],
      "collapsed_sections": [],
      "authorship_tag": "ABX9TyNUBBfTVidQN9yw2WGSATFs",
      "include_colab_link": true
    },
    "kernelspec": {
      "name": "python3",
      "display_name": "Python 3"
    },
    "language_info": {
      "name": "python"
    }
  },
  "cells": [
    {
      "cell_type": "markdown",
      "metadata": {
        "id": "view-in-github",
        "colab_type": "text"
      },
      "source": [
        "<a href=\"https://colab.research.google.com/github/rroszczyk/ecdl_python/blob/main/ecdl_3.ipynb\" target=\"_parent\"><img src=\"https://colab.research.google.com/assets/colab-badge.svg\" alt=\"Open In Colab\"/></a>"
      ]
    },
    {
      "cell_type": "code",
      "execution_count": 5,
      "metadata": {
        "colab": {
          "base_uri": "https://localhost:8080/"
        },
        "id": "KTHpuzxomW10",
        "outputId": "abe4e1b3-72b9-489f-a9ae-d002f46118eb"
      },
      "outputs": [
        {
          "output_type": "stream",
          "name": "stdout",
          "text": [
            "Podaj liczbę a: 10\n",
            "Podaj liczbę b: 0\n",
            "wartość liczby b nie może być równa 0\n"
          ]
        }
      ],
      "source": [
        "a = int(input(\"Podaj liczbę a: \"))\n",
        "b = int(input(\"Podaj liczbę b: \"))\n",
        "\n",
        "if b != 0:\n",
        "  c = a / b\n",
        "  print(f\"Wyniki dzielenia {a} / {b} to {c}\")  \n",
        "else:\n",
        "  print(\"wartość liczby b nie może być równa 0\")\n",
        "\n"
      ]
    },
    {
      "cell_type": "code",
      "source": [
        "def add(a, b):\n",
        "  return a + b\n",
        "\n",
        "def sub(a, b):\n",
        "  return a - b\n",
        "\n",
        "def mul(a, b):\n",
        "  return a * b\n",
        "\n",
        "def div(a, b):\n",
        "  return a / b"
      ],
      "metadata": {
        "id": "ueKs3fQAnjyk"
      },
      "execution_count": 7,
      "outputs": []
    },
    {
      "cell_type": "code",
      "source": [
        "a = 10\n",
        "b = 5\n",
        "c = 2\n",
        "\n",
        "try:\n",
        "  z = div(a, sub(a, mul(b, c)))\n",
        "except Exception:\n",
        "  print(\"wystąpił jakiś błąd jednego z argumentów\")"
      ],
      "metadata": {
        "colab": {
          "base_uri": "https://localhost:8080/"
        },
        "id": "nq2VR-jxoHE8",
        "outputId": "85cfcb11-439d-44ff-8461-4fe2b9aaaf78"
      },
      "execution_count": 9,
      "outputs": [
        {
          "output_type": "stream",
          "name": "stdout",
          "text": [
            "wystąpił jakiś błąd jednego z argumentów\n"
          ]
        }
      ]
    },
    {
      "cell_type": "code",
      "source": [
        "try:\n",
        "  pass                # blok w którym sprawdzamy czy wystąpił błąd\n",
        "except Exception:\n",
        "  pass                # blok który się wykona gdy wystąpił błąd"
      ],
      "metadata": {
        "id": "0WZlOnnzolvt"
      },
      "execution_count": 10,
      "outputs": []
    },
    {
      "cell_type": "code",
      "source": [
        "def add(a, b):\n",
        "  if a > 100:\n",
        "    raise ValueError(\"Liczba a nie może być większa od 100\")\n",
        "  if a < 1:\n",
        "    raise ValueError(\"Liczba a nie może być mniejsza od 1\")\n",
        "  if b > 100:\n",
        "    raise ValueError(\"Liczba b nie może być większa od 100\")\n",
        "  if b < 1:\n",
        "    raise ValueError(\"Liczba b nie może być mniejsza od 1\")\n",
        "  if a + b > 100:\n",
        "    raise ValueError(\"Wynik operacji nie może być większy od 100\")\n",
        "  return a + b"
      ],
      "metadata": {
        "id": "ai_doTZxqH78"
      },
      "execution_count": 17,
      "outputs": []
    },
    {
      "cell_type": "code",
      "source": [
        "try:\n",
        "  print(add(10, 10))\n",
        "  print(add(50, 50))\n",
        "  print(add(110, 110))\n",
        "  print(add(70, 70))\n",
        "except Exception as e:\n",
        "  print(f\"nie można wykonać określonej operacji ponieważ występuje jakiś błąd: {e.args}\")"
      ],
      "metadata": {
        "colab": {
          "base_uri": "https://localhost:8080/"
        },
        "id": "etLeEqTvqtbh",
        "outputId": "4c831579-824f-4403-ab0f-c2ec646fedb4"
      },
      "execution_count": 21,
      "outputs": [
        {
          "output_type": "stream",
          "name": "stdout",
          "text": [
            "20\n",
            "100\n",
            "nie można wykonać określonej operacji ponieważ występuje jakiś błąd: ('Liczba a nie może być większa od 100',)\n"
          ]
        }
      ]
    },
    {
      "cell_type": "code",
      "source": [
        "try:\n",
        "  raise ZeroDivisionError(\"Nie wolno dzielić przez zero\")\n",
        "except Exception:\n",
        "  pass"
      ],
      "metadata": {
        "id": "cXmRz9-PsJ-u"
      },
      "execution_count": 23,
      "outputs": []
    },
    {
      "cell_type": "code",
      "source": [
        "def div(a, b):        # dzielenie w wersji dla przedszkolaka czyli liczby z zakresu od -100 do 100, bez dzielenia przez 0 i muszą dawać całkowity wynik bez reszty - inaczej odpowiednie błędy\n",
        "  if a > 100:\n",
        "    raise ValueError(\"Liczba a nie może być większa od 100\")\n",
        "  if a < -100:\n",
        "    raise ValueError(\"Liczba a nie może być mniejsza od -100\")\n",
        "  if b > 100:\n",
        "    raise ValueError(\"Liczba b nie może być większa od 100\")\n",
        "  if b < -100:\n",
        "    raise ValueError(\"Liczba b nie może być mniejsza od -100\")\n",
        "  if b == 0:\n",
        "    raise ZeroDivisionError(\"Parametr b musi być różny od 0\")\n",
        "  if a % b != 0:\n",
        "    raise ValueError(\"Te dwie liczby nie mogą być dzielone\")\n",
        "  return a // b"
      ],
      "metadata": {
        "id": "AxcW_AtGsdNQ"
      },
      "execution_count": 29,
      "outputs": []
    },
    {
      "cell_type": "code",
      "source": [
        "try:\n",
        "  print(div(10, 5))\n",
        "  print(div(10, 0))\n",
        "except ValueError as e:\n",
        "  print(f\"Wystąpił błąd wartości parametru funkcji: {e.args}\")\n",
        "except ZeroDivisionError as e:\n",
        "  print(f\"Wystąpił błąd, parametr b jest równy zero: {e.args}\")  \n",
        "except Exception as e:\n",
        "  print(\"Wystąpił jakiś inny błąd o którym nie mieliśmy pojęcia: {e.args}\")\n",
        "else:\n",
        "  print(\"Działanie zakończyło się sukcesem\")"
      ],
      "metadata": {
        "colab": {
          "base_uri": "https://localhost:8080/"
        },
        "id": "cfNvS913xgKl",
        "outputId": "d4103934-1d7c-4cf7-d454-8448cdeaf0e0"
      },
      "execution_count": 31,
      "outputs": [
        {
          "output_type": "stream",
          "name": "stdout",
          "text": [
            "2\n",
            "Wystąpił błąd, parametr b jest równy zero: ('Parametr b musi być różny od 0',)\n"
          ]
        }
      ]
    },
    {
      "cell_type": "code",
      "source": [
        "class ParamAError(Exception):\n",
        "  pass\n",
        "\n",
        "class ParamBError(Exception):\n",
        "  pass  \n",
        "\n",
        "class IntegerResultError(Exception):\n",
        "  pass"
      ],
      "metadata": {
        "id": "TrSv2nOGzlUF"
      },
      "execution_count": 32,
      "outputs": []
    },
    {
      "cell_type": "code",
      "source": [
        "def div(a, b):        # dzielenie w wersji dla przedszkolaka czyli liczby z zakresu od -100 do 100, bez dzielenia przez 0 i muszą dawać całkowity wynik bez reszty - inaczej odpowiednie błędy\n",
        "  if a > 100:\n",
        "    raise ParamAError(\"Liczba a nie może być większa od 100\")\n",
        "  if a < -100:\n",
        "    raise ParamAError(\"Liczba a nie może być mniejsza od -100\")\n",
        "  if b > 100:\n",
        "    raise ParamBError(\"Liczba b nie może być większa od 100\")\n",
        "  if b < -100:\n",
        "    raise ParamBError(\"Liczba b nie może być mniejsza od -100\")\n",
        "  if b == 0:\n",
        "    raise ZeroDivisionError(\"Parametr b musi być różny od 0\")\n",
        "  if a % b != 0:\n",
        "    raise IntegerResultError(\"Te dwie liczby nie mogą być dzielone\")\n",
        "  return a // b"
      ],
      "metadata": {
        "id": "kfpfT0Npz2Ed"
      },
      "execution_count": 33,
      "outputs": []
    },
    {
      "cell_type": "code",
      "source": [
        "try:\n",
        "  #print(div(1000, 0))\n",
        "  #print(div(0, 1000))  \n",
        "  print(div(10, 3))\n",
        "except ParamAError as e:\n",
        "  print(f\"Wystąpił bład parametru A: {e.args}\")\n",
        "except ParamBError as e:\n",
        "  print(f\"Wystąpił bład parametru B: {e.args}\")  \n",
        "except IntegerResultError as e:\n",
        "  print(f\"Wystąpił bład, liczba b nie jest podzielnikiem liczby a: {e.args}\")    \n",
        "except ValueError as e:\n",
        "  print(f\"Wystąpił błąd wartości parametru funkcji: {e.args}\")\n",
        "except ZeroDivisionError as e:\n",
        "  print(f\"Wystąpił błąd, parametr b jest równy zero: {e.args}\")  \n",
        "except Exception as e:\n",
        "  print(f\"Wystąpił jakiś inny błąd o którym nie mieliśmy pojęcia: {e.args}\")\n",
        "else:\n",
        "  print(\"Działanie zakończyło się sukcesem\")"
      ],
      "metadata": {
        "colab": {
          "base_uri": "https://localhost:8080/"
        },
        "id": "i1smuszWz7aq",
        "outputId": "0b1ba891-b040-4752-ad9a-f8fb626ef4d2"
      },
      "execution_count": 41,
      "outputs": [
        {
          "output_type": "stream",
          "name": "stdout",
          "text": [
            "Wystąpił bład, liczba b nie jest podzielnikiem liczby a: ('Te dwie liczby nie mogą być dzielone',)\n"
          ]
        }
      ]
    },
    {
      "cell_type": "code",
      "source": [
        "while True:\n",
        "  try:\n",
        "    x = int(input(\"Proszę wprowadzić dowolną liczbę całkowitą: \"))\n",
        "    break         # ta instrukcja spowoduje przerwanie pętli\n",
        "  except ValueError:\n",
        "    print(f\"Ups... to nie jest liczba całkowita\")\n",
        "    continue      # tu jest opcjonalna ponieważ pętla i tak będzie się wykonywać\n",
        "\n",
        "\n",
        "print(f\"Wprowadzona liczba to: {x}\")"
      ],
      "metadata": {
        "colab": {
          "base_uri": "https://localhost:8080/"
        },
        "id": "H458Z7wx1FED",
        "outputId": "fd2be336-3a85-417a-8e4c-6ddd3e875da7"
      },
      "execution_count": 45,
      "outputs": [
        {
          "output_type": "stream",
          "name": "stdout",
          "text": [
            "Proszę wprowadzić dowolną liczbę całkowitą: 10\n",
            "Wprowadzona liczba to: 10\n"
          ]
        }
      ]
    },
    {
      "cell_type": "code",
      "source": [
        "x = None\n",
        "for i in range(3, 0, -1):       # range(start, stop, krok)\n",
        "  try:\n",
        "    x = int(input(f\"Proszę wprowadzić dowolną liczbę całkowitą, masz {i} {'próby' if i > 1 else 'próbę'}: \"))\n",
        "    break         # ta instrukcja spowoduje przerwanie pętli\n",
        "  except ValueError:\n",
        "    print(f\"Ups... to nie jest liczba całkowita\")\n",
        "if x != None:\n",
        "  print(f\"Wprowadzona liczba to: {x}\")\n",
        "else:\n",
        "  print(\"Tym razem się nie udało\")"
      ],
      "metadata": {
        "colab": {
          "base_uri": "https://localhost:8080/"
        },
        "id": "yvxl_VFo2gWi",
        "outputId": "3adb9fa3-6807-48f4-f646-f7b976aec67c"
      },
      "execution_count": 72,
      "outputs": [
        {
          "output_type": "stream",
          "name": "stdout",
          "text": [
            "Proszę wprowadzić dowolną liczbę całkowitą, masz 3 próby: tgtr\n",
            "Ups... to nie jest liczba całkowita\n",
            "Proszę wprowadzić dowolną liczbę całkowitą, masz 2 próby: trhrth\n",
            "Ups... to nie jest liczba całkowita\n",
            "Proszę wprowadzić dowolną liczbę całkowitą, masz 1 próbę: 434\n",
            "Wprowadzona liczba to: 434\n"
          ]
        }
      ]
    },
    {
      "cell_type": "code",
      "source": [
        "def licznik_kotow(ile_kotow):\n",
        "  if ile_kotow == 1:\n",
        "    return \"kot\"\n",
        "  else:\n",
        "    return \"koty\"\n",
        "\n",
        "ile_kotow = 2\n",
        "\n",
        "print(f\"{ile_kotow} {licznik_kotow(ile_kotow)}\")\n"
      ],
      "metadata": {
        "colab": {
          "base_uri": "https://localhost:8080/"
        },
        "id": "HOt-rcJr8mi-",
        "outputId": "fc61f4f2-6b82-462b-f0bb-1c0bd6abd50c"
      },
      "execution_count": 58,
      "outputs": [
        {
          "output_type": "stream",
          "name": "stdout",
          "text": [
            "2 koty\n"
          ]
        }
      ]
    },
    {
      "cell_type": "code",
      "source": [
        "# x = a if b else c\n",
        "\n",
        "ile_kotow = 1\n",
        "print(f\"{ile_kotow} {'kot' if ile_kotow == 1 else 'koty'}\")\n",
        "\n",
        "ile_kotow = 2\n",
        "print(f\"{ile_kotow} {'kot' if ile_kotow == 1 else 'koty'}\")"
      ],
      "metadata": {
        "colab": {
          "base_uri": "https://localhost:8080/"
        },
        "id": "PJe0RkbV9kGx",
        "outputId": "2dbaac1d-20d4-401a-beb6-51e241826093"
      },
      "execution_count": 66,
      "outputs": [
        {
          "output_type": "stream",
          "name": "stdout",
          "text": [
            "1 kot\n",
            "2 koty\n"
          ]
        }
      ]
    },
    {
      "cell_type": "code",
      "source": [
        "def help(imie):\n",
        "  print(f\"Pomocy {imie} !!!!\")\n",
        "\n",
        "a = help\n",
        "\n",
        "print(help, a)\n",
        "\n",
        "a(\"Piotrze\")"
      ],
      "metadata": {
        "colab": {
          "base_uri": "https://localhost:8080/"
        },
        "id": "xdGzI9rJFTiV",
        "outputId": "9035831c-ad11-4702-c834-7f1613d2bf76"
      },
      "execution_count": 87,
      "outputs": [
        {
          "output_type": "stream",
          "name": "stdout",
          "text": [
            "<function help at 0x7f92364ac200> <function help at 0x7f92364ac200>\n",
            "Pomocy Piotrze !!!!\n"
          ]
        }
      ]
    },
    {
      "cell_type": "code",
      "source": [
        "def funkcja():\n",
        "  'Jakaś funkcja'\n",
        "  pass\n",
        "\n",
        "print(funkcja.__doc__)"
      ],
      "metadata": {
        "colab": {
          "base_uri": "https://localhost:8080/"
        },
        "id": "60ixbOcuJVjZ",
        "outputId": "82fbdb3f-5379-4257-ce24-fd58e8c85c1a"
      },
      "execution_count": 100,
      "outputs": [
        {
          "output_type": "stream",
          "name": "stdout",
          "text": [
            "Jakaś funkcja\n"
          ]
        }
      ]
    },
    {
      "cell_type": "code",
      "source": [
        "def add():\n",
        "  print(\"dodawanie\")\n",
        "\n",
        "def mul():\n",
        "  print(\"mnożenie\")\n",
        "\n",
        "def div():\n",
        "  print(\"dzielenie\")\n",
        "\n",
        "def sub():\n",
        "  print(\"odejmowanie\")\n",
        "\n",
        "def help():\n",
        "  print(\"pomoc\")\n",
        "\n",
        "operacje = {'a': add, 'd': div, 'm': mul, 's': sub}\n",
        "klawisz = 'z'\n",
        "\n",
        "operacja = operacje.get(klawisz, help)\n",
        "\n",
        "operacja()"
      ],
      "metadata": {
        "colab": {
          "base_uri": "https://localhost:8080/"
        },
        "id": "lRn5qMx5GKgJ",
        "outputId": "2170a583-0fa5-4bf5-9d71-9d736b2a6f35"
      },
      "execution_count": 92,
      "outputs": [
        {
          "output_type": "stream",
          "name": "stdout",
          "text": [
            "pomoc\n"
          ]
        }
      ]
    },
    {
      "cell_type": "code",
      "source": [
        "class ParamAError(Exception):\n",
        "  pass\n",
        "\n",
        "class ParamBError(Exception):\n",
        "  pass  \n",
        "\n",
        "class IntegerResultError(Exception):\n",
        "  pass\n",
        "\n",
        "class ResultError(Exception):\n",
        "  pass\n",
        "\n",
        "def div(a, b):        # dzielenie w wersji dla przedszkolaka czyli liczby z zakresu od -100 do 100, bez dzielenia przez 0 i muszą dawać całkowity wynik bez reszty - inaczej odpowiednie błędy\n",
        "  if a > 100:\n",
        "    raise ParamAError(\"Liczba a nie może być większa od 100\")\n",
        "  if a < -100:\n",
        "    raise ParamAError(\"Liczba a nie może być mniejsza od -100\")\n",
        "  if b > 100:\n",
        "    raise ParamBError(\"Liczba b nie może być większa od 100\")\n",
        "  if b < -100:\n",
        "    raise ParamBError(\"Liczba b nie może być mniejsza od -100\")\n",
        "  if b == 0:\n",
        "    raise ZeroDivisionError(\"Parametr b musi być różny od 0\")\n",
        "  if a % b != 0:\n",
        "    raise IntegerResultError(\"Te dwie liczby nie mogą być dzielone\")\n",
        "  return a // b\n",
        "\n",
        "def add(a, b):\n",
        "  if a > 100:\n",
        "    raise ParamAError(\"Liczba a nie może być większa od 100\")\n",
        "  if a < -100:\n",
        "    raise ParamAError(\"Liczba a nie może być mniejsza od -100\")\n",
        "  if b > 100:\n",
        "    raise ParamBError(\"Liczba b nie może być większa od 100\")\n",
        "  if b < -100:\n",
        "    raise ParamBError(\"Liczba b nie może być mniejsza od -100\")\n",
        "  if a + b > 100:\n",
        "    raise ResultError(\"Wynik operacji nie może być większy od 100\")\n",
        "  if a + b < -100:\n",
        "    raise ResultError(\"Wynik operacji nie może być mniejszy od -100\")    \n",
        "  return a + b  \n",
        "\n",
        "def mul(a, b):\n",
        "  if a > 100:\n",
        "    raise ParamAError(\"Liczba a nie może być większa od 100\")\n",
        "  if a < -100:\n",
        "    raise ParamAError(\"Liczba a nie może być mniejsza od -100\")\n",
        "  if b > 100:\n",
        "    raise ParamBError(\"Liczba b nie może być większa od 100\")\n",
        "  if b < -100:\n",
        "    raise ParamBError(\"Liczba b nie może być mniejsza od -100\")\n",
        "  if a * b > 1000:\n",
        "    raise ResultError(\"Wynik operacji nie może być większy od 1000\")\n",
        "  if a * b < -1000:\n",
        "    raise ResultError(\"Wynik operacji nie może być mniejszy od -1000\")    \n",
        "  return a * b  \n",
        "\n",
        "def sub(a, b):\n",
        "  if a > 100:\n",
        "    raise ParamAError(\"Liczba a nie może być większa od 100\")\n",
        "  if a < -100:\n",
        "    raise ParamAError(\"Liczba a nie może być mniejsza od -100\")\n",
        "  if b > 100:\n",
        "    raise ParamBError(\"Liczba b nie może być większa od 100\")\n",
        "  if b < -100:\n",
        "    raise ParamBError(\"Liczba b nie może być mniejsza od -100\")\n",
        "  if a - b > 100:\n",
        "    raise ResultError(\"Wynik operacji nie może być większy od 100\")\n",
        "  if a - b < -100:\n",
        "    raise ResultError(\"Wynik operacji nie może być mniejszy od -100\")    \n",
        "  return a - b  \n",
        "\n",
        "def wczytaj(napis):\n",
        "  while True:\n",
        "    try:\n",
        "      x = int(input(napis))\n",
        "      break         # ta instrukcja spowoduje przerwanie pętli\n",
        "    except ValueError:\n",
        "      print(f\"Ups... to nie jest liczba całkowita\")\n",
        "  return x\n",
        "\n",
        "def stary_kalkulator():       # powinien wczytać od użytkownik liczbę a oraz b, następnie rodzaj działania a, d, m, s, x - koniec działania programu liczba działań dowolna\n",
        "  while True:\n",
        "    try:\n",
        "      dzialanie = input(\"Jaką operację chcesz wykonać (h - pomoc): \")\n",
        "      if dzialanie == 'x':\n",
        "        print(\"Koniec pracy kalkulatora\")\n",
        "        break\n",
        "      elif dzialanie == 'a':\n",
        "        print(\"operacja dodawania a + b\")\n",
        "        a = wczytaj(\"Podaj liczbę a: \")\n",
        "        b = wczytaj(\"Podaj liczbę b: \")      \n",
        "        wynik = add(a, b)\n",
        "        print(f\"wynik {a} + {b} to: {wynik}\")\n",
        "      elif dzialanie == 'd':\n",
        "        print(\"operacja dzielenia a / b\")\n",
        "        a = wczytaj(\"Podaj liczbę a: \")\n",
        "        b = wczytaj(\"Podaj liczbę b: \")      \n",
        "        wynik = div(a, b)\n",
        "        print(f\"wynik {a} / {b} to: {wynik}\")      \n",
        "      elif dzialanie == 'm':\n",
        "        print(\"operacja mnożenia a * b\")\n",
        "        a = wczytaj(\"Podaj liczbę a: \")\n",
        "        b = wczytaj(\"Podaj liczbę b: \")      \n",
        "        wynik = mul(a, b)\n",
        "        print(f\"wynik {a} * {b} to: {wynik}\")\n",
        "      elif dzialanie == 's':\n",
        "        print(\"operacja odejmowania a - b\")\n",
        "        a = wczytaj(\"Podaj liczbę a: \")\n",
        "        b = wczytaj(\"Podaj liczbę b: \")      \n",
        "        wynik = sub(a, b)\n",
        "        print(f\"wynik {a} - {b} to: {wynik}\")      \n",
        "      else:\n",
        "        print(\"dozwolone operacje to a - dodawanie, d - dzielenie, m - mnożenie, s - odejmowanie, h - pomoc, x - koniec\")\n",
        "    except Exception as e:\n",
        "      print(f\"Wystąpił błąd jakiegoś parametru bądź operacji: {e.args}\")\n",
        "\n",
        "def power(a, b):\n",
        "  return a ** b\n",
        "\n",
        "def nowy_kalkulator():\n",
        "  operacje = {'a': add, 'd': div, 'm': mul, 's': sub, 'p': power}  \n",
        "  while True:\n",
        "    try:\n",
        "      dzialanie = input(\"Jaką operację chcesz wykonać (h - pomoc): \")\n",
        "      if dzialanie == 'x':\n",
        "        print(\"Koniec pracy kalkulatora\")\n",
        "        break\n",
        "      elif dzialanie == 'h':\n",
        "        print(\"dozwolone operacje to a - dodawanie, d - dzielenie, m - mnożenie, s - odejmowanie, h - pomoc, p - potęgowanie, x - koniec\")\n",
        "        continue\n",
        "      operacja = operacje.get(dzialanie)\n",
        "      a = wczytaj(\"Podaj liczbę a: \")\n",
        "      b = wczytaj(\"Podaj liczbę b: \")      \n",
        "      wynik = operacja(a, b)\n",
        "      print(f\"wynik operacji to: {wynik}\")\n",
        "    except Exception as e:\n",
        "      print(f\"Wystąpił błąd jakiegoś parametru bądź operacji: {e.args}\")\n",
        "    \n",
        "nowy_kalkulator()"
      ],
      "metadata": {
        "colab": {
          "base_uri": "https://localhost:8080/"
        },
        "id": "5SKJx3jc_pT3",
        "outputId": "b098170d-bd09-4f96-9f76-4cf74011d2f1"
      },
      "execution_count": 96,
      "outputs": [
        {
          "output_type": "stream",
          "name": "stdout",
          "text": [
            "Jaką operację chcesz wykonać (h - pomoc): h\n",
            "dozwolone operacje to a - dodawanie, d - dzielenie, m - mnożenie, s - odejmowanie, h - pomoc, p - potęgowanie, x - koniec\n",
            "Jaką operację chcesz wykonać (h - pomoc): p\n",
            "Podaj liczbę a: 10\n",
            "Podaj liczbę b: 2\n",
            "wynik operacji to: 100\n",
            "Jaką operację chcesz wykonać (h - pomoc): x\n",
            "Koniec pracy kalkulatora\n"
          ]
        }
      ]
    },
    {
      "cell_type": "code",
      "source": [
        "def div(a, b):\n",
        "  'dzielenie'\n",
        "  return a // b\n",
        "\n",
        "def add(a, b):\n",
        "  'dodawanie'\n",
        "  return a + b  \n",
        "\n",
        "def mul(a, b):\n",
        "  'mnożenie'\n",
        "  return a * b  \n",
        "\n",
        "def sub(a, b):\n",
        "  'odejmowanie'\n",
        "  return a - b  \n",
        "\n",
        "def power(a, b):\n",
        "  'potęgowanie'\n",
        "  return a ** b\n",
        "\n",
        "def modulo(a, b):\n",
        "  'reszta z dzielenia'\n",
        "  return a & b\n",
        "\n",
        "def wczytaj(napis):\n",
        "  while True:\n",
        "    try:\n",
        "      x = int(input(napis))\n",
        "      break         # ta instrukcja spowoduje przerwanie pętli\n",
        "    except ValueError:\n",
        "      print(f\"Ups... to nie jest liczba całkowita\")\n",
        "  return x\n",
        "\n",
        "def nowy_kalkulator():\n",
        "  operacje = {'a': add, 'd': div, 'm': mul, 's': sub, 'p': power, 'r': modulo}  \n",
        "  while True:\n",
        "    try:\n",
        "      dzialanie = input(\"Jaką operację chcesz wykonać (h - pomoc): \")\n",
        "      if dzialanie == 'x':\n",
        "        print(\"Koniec pracy kalkulatora\")\n",
        "        break\n",
        "      elif dzialanie == 'h':\n",
        "        print(\"dozwolone operacje to:\")\n",
        "        for k, v in operacje.items():\n",
        "          print(f\"\\t {k} - {v.__doc__}\")\n",
        "        print(\"\\t h - pomoc\")\n",
        "        print(\"\\t x - zakończenie programu\")          \n",
        "      operacja = operacje.get(dzialanie)\n",
        "      a = wczytaj(\"Podaj liczbę a: \")\n",
        "      b = wczytaj(\"Podaj liczbę b: \")      \n",
        "      wynik = operacja(a, b)\n",
        "      print(f\"wynik operacji to: {wynik}\")\n",
        "    except Exception as e:\n",
        "      print(f\"Wystąpił błąd jakiegoś parametru bądź operacji: {e.args}\")\n",
        "    \n",
        "nowy_kalkulator()\n"
      ],
      "metadata": {
        "colab": {
          "base_uri": "https://localhost:8080/"
        },
        "id": "QW2zcXjAJD0r",
        "outputId": "310fd52d-38f1-4e69-97e2-a23472d218f4"
      },
      "execution_count": 114,
      "outputs": [
        {
          "output_type": "stream",
          "name": "stdout",
          "text": [
            "Jaką operację chcesz wykonać (h - pomoc): x\n",
            "Koniec pracy kalkulatora\n"
          ]
        }
      ]
    },
    {
      "cell_type": "code",
      "source": [
        "try:\n",
        "  print(\"Tu generujemy jakiś błąd\")\n",
        "  raise Exception(\"to jest jakiś błąd\")\n",
        "except:\n",
        "  print(\"Tu obsługujemy jakiś błąd\")\n",
        "finally:\n",
        "  print(\"A to wykonujemy na koniec\")"
      ],
      "metadata": {
        "colab": {
          "base_uri": "https://localhost:8080/"
        },
        "id": "Kn59ZbFdMX4G",
        "outputId": "b8bab58b-545f-49ef-b12c-87f5dc15757c"
      },
      "execution_count": 115,
      "outputs": [
        {
          "output_type": "stream",
          "name": "stdout",
          "text": [
            "Tu generujemy jakiś błąd\n",
            "Tu obsługujemy jakiś błąd\n",
            "A to wykonujemy na koniec\n"
          ]
        }
      ]
    }
  ]
}