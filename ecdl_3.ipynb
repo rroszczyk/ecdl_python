{
  "nbformat": 4,
  "nbformat_minor": 0,
  "metadata": {
    "colab": {
      "name": "ecdl_3.ipynb",
      "provenance": [],
      "collapsed_sections": [],
      "authorship_tag": "ABX9TyMekv8rK549obDJUEW/GPzP",
      "include_colab_link": true
    },
    "kernelspec": {
      "name": "python3",
      "display_name": "Python 3"
    },
    "language_info": {
      "name": "python"
    }
  },
  "cells": [
    {
      "cell_type": "markdown",
      "metadata": {
        "id": "view-in-github",
        "colab_type": "text"
      },
      "source": [
        "<a href=\"https://colab.research.google.com/github/rroszczyk/ecdl_python/blob/main/ecdl_3.ipynb\" target=\"_parent\"><img src=\"https://colab.research.google.com/assets/colab-badge.svg\" alt=\"Open In Colab\"/></a>"
      ]
    },
    {
      "cell_type": "code",
      "execution_count": 5,
      "metadata": {
        "colab": {
          "base_uri": "https://localhost:8080/"
        },
        "id": "KTHpuzxomW10",
        "outputId": "abe4e1b3-72b9-489f-a9ae-d002f46118eb"
      },
      "outputs": [
        {
          "output_type": "stream",
          "name": "stdout",
          "text": [
            "Podaj liczbę a: 10\n",
            "Podaj liczbę b: 0\n",
            "wartość liczby b nie może być równa 0\n"
          ]
        }
      ],
      "source": [
        "a = int(input(\"Podaj liczbę a: \"))\n",
        "b = int(input(\"Podaj liczbę b: \"))\n",
        "\n",
        "if b != 0:\n",
        "  c = a / b\n",
        "  print(f\"Wyniki dzielenia {a} / {b} to {c}\")  \n",
        "else:\n",
        "  print(\"wartość liczby b nie może być równa 0\")\n",
        "\n"
      ]
    },
    {
      "cell_type": "code",
      "source": [
        "def add(a, b):\n",
        "  return a + b\n",
        "\n",
        "def sub(a, b):\n",
        "  return a - b\n",
        "\n",
        "def mul(a, b):\n",
        "  return a * b\n",
        "\n",
        "def div(a, b):\n",
        "  return a / b"
      ],
      "metadata": {
        "id": "ueKs3fQAnjyk"
      },
      "execution_count": 7,
      "outputs": []
    },
    {
      "cell_type": "code",
      "source": [
        "a = 10\n",
        "b = 5\n",
        "c = 2\n",
        "\n",
        "try:\n",
        "  z = div(a, sub(a, mul(b, c)))\n",
        "except Exception:\n",
        "  print(\"wystąpił jakiś błąd jednego z argumentów\")"
      ],
      "metadata": {
        "colab": {
          "base_uri": "https://localhost:8080/"
        },
        "id": "nq2VR-jxoHE8",
        "outputId": "85cfcb11-439d-44ff-8461-4fe2b9aaaf78"
      },
      "execution_count": 9,
      "outputs": [
        {
          "output_type": "stream",
          "name": "stdout",
          "text": [
            "wystąpił jakiś błąd jednego z argumentów\n"
          ]
        }
      ]
    },
    {
      "cell_type": "code",
      "source": [
        "try:\n",
        "  pass                # blok w którym sprawdzamy czy wystąpił błąd\n",
        "except Exception:\n",
        "  pass                # blok który się wykona gdy wystąpił błąd"
      ],
      "metadata": {
        "id": "0WZlOnnzolvt"
      },
      "execution_count": 10,
      "outputs": []
    },
    {
      "cell_type": "code",
      "source": [
        "def add(a, b):\n",
        "  if a > 100:\n",
        "    raise ValueError(\"Liczba a nie może być większa od 100\")\n",
        "  if a < 1:\n",
        "    raise ValueError(\"Liczba a nie może być mniejsza od 1\")\n",
        "  if b > 100:\n",
        "    raise ValueError(\"Liczba b nie może być większa od 100\")\n",
        "  if b < 1:\n",
        "    raise ValueError(\"Liczba b nie może być mniejsza od 1\")\n",
        "  if a + b > 100:\n",
        "    raise ValueError(\"Wynik operacji nie może być większy od 100\")\n",
        "  return a + b"
      ],
      "metadata": {
        "id": "ai_doTZxqH78"
      },
      "execution_count": 17,
      "outputs": []
    },
    {
      "cell_type": "code",
      "source": [
        "try:\n",
        "  print(add(10, 10))\n",
        "  print(add(50, 50))\n",
        "  print(add(110, 110))\n",
        "  print(add(70, 70))\n",
        "except Exception as e:\n",
        "  print(f\"nie można wykonać określonej operacji ponieważ występuje jakiś błąd: {e.args}\")"
      ],
      "metadata": {
        "colab": {
          "base_uri": "https://localhost:8080/"
        },
        "id": "etLeEqTvqtbh",
        "outputId": "4c831579-824f-4403-ab0f-c2ec646fedb4"
      },
      "execution_count": 21,
      "outputs": [
        {
          "output_type": "stream",
          "name": "stdout",
          "text": [
            "20\n",
            "100\n",
            "nie można wykonać określonej operacji ponieważ występuje jakiś błąd: ('Liczba a nie może być większa od 100',)\n"
          ]
        }
      ]
    },
    {
      "cell_type": "code",
      "source": [
        "try:\n",
        "  raise ZeroDivisionError(\"Nie wolno dzielić przez zero\")\n",
        "except Exception:\n",
        "  pass"
      ],
      "metadata": {
        "id": "cXmRz9-PsJ-u"
      },
      "execution_count": 23,
      "outputs": []
    },
    {
      "cell_type": "code",
      "source": [
        "def div(a, b):        # dzielenie w wersji dla przedszkolaka czyli liczby z zakresu od 1 do 100, bez dzielenia przez 0 i muszą dawać całkowity wynik bez reszty - inaczej odpowiednie błędy\n",
        "  pass"
      ],
      "metadata": {
        "id": "AxcW_AtGsdNQ"
      },
      "execution_count": null,
      "outputs": []
    }
  ]
}