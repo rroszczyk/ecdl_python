{
  "nbformat": 4,
  "nbformat_minor": 0,
  "metadata": {
    "colab": {
      "name": "ecdl_9.ipynb",
      "provenance": [],
      "collapsed_sections": [],
      "authorship_tag": "ABX9TyOM8uxg0mdWbTaOWVcRk7vx",
      "include_colab_link": true
    },
    "kernelspec": {
      "name": "python3",
      "display_name": "Python 3"
    },
    "language_info": {
      "name": "python"
    }
  },
  "cells": [
    {
      "cell_type": "markdown",
      "metadata": {
        "id": "view-in-github",
        "colab_type": "text"
      },
      "source": [
        "<a href=\"https://colab.research.google.com/github/rroszczyk/ecdl_python/blob/main/ecdl_9.ipynb\" target=\"_parent\"><img src=\"https://colab.research.google.com/assets/colab-badge.svg\" alt=\"Open In Colab\"/></a>"
      ]
    },
    {
      "cell_type": "code",
      "execution_count": 3,
      "metadata": {
        "colab": {
          "base_uri": "https://localhost:8080/"
        },
        "id": "dGMHBHR4AglN",
        "outputId": "1a90e30a-de0c-44b2-d1c4-f7c4f8ade2b3"
      },
      "outputs": [
        {
          "output_type": "stream",
          "name": "stdout",
          "text": [
            "sys.version_info(major=3, minor=7, micro=13, releaselevel='final', serial=0), 1013\n",
            "namespace(_multiarch='x86_64-linux-gnu', cache_tag='cpython-37', hexversion=50793968, name='cpython', version=sys.version_info(major=3, minor=7, micro=13, releaselevel='final', serial=0))\n"
          ]
        }
      ],
      "source": [
        "import sys\n",
        "\n",
        "print(f\"{sys.version_info}, {sys.api_version}\")\n",
        "print(f\"{sys.implementation}\")"
      ]
    },
    {
      "cell_type": "code",
      "source": [
        "import os\n",
        "print(os.getcwd())       # '/' ukośnik w prawą stronę - dla środowsika Unix, '\\' ukośnik w lewą stronę dla środowiska Windows\n",
        "\n",
        "try:\n",
        "  os.mkdir('tymczasowy')      # utworzenie katalogu 'tymczasowy'\n",
        "  os.chdir('tymczasowy')      # zmienia katalog roboczy na 'tymczasowy'\n",
        "except:\n",
        "  pass\n",
        "\n"
      ],
      "metadata": {
        "colab": {
          "base_uri": "https://localhost:8080/"
        },
        "id": "MLG-OYYOBZs6",
        "outputId": "54bc0c2c-1f9a-4893-d85c-49c8e963ce3e"
      },
      "execution_count": 16,
      "outputs": [
        {
          "output_type": "stream",
          "name": "stdout",
          "text": [
            "/content/tymczasowy\n"
          ]
        }
      ]
    },
    {
      "cell_type": "code",
      "source": [
        "print(\"Jakiś napis\") # -> komunikat jest wysyłany na standardowe wyjście\n",
        "\n",
        "sys.stderr.write(\"Wypisanie komunikatu błędu\")                        # nie zostanie przekierowane przy użyciu >> \n",
        "sys.stdout.write(\"Wypisanie komunikatu na standardowe wyjście\")       # można przekierować używająć >> do pliku python program.py >> wyjscie.txt"
      ],
      "metadata": {
        "colab": {
          "base_uri": "https://localhost:8080/"
        },
        "id": "HrFwdad7CpPF",
        "outputId": "2e5a42ae-bf8d-49b1-ec03-58fe23852f37"
      },
      "execution_count": 18,
      "outputs": [
        {
          "output_type": "stream",
          "name": "stdout",
          "text": [
            "Jakiś napis\n",
            "Wypisanie komunikatu na standardowe wyjście"
          ]
        },
        {
          "output_type": "stream",
          "name": "stderr",
          "text": [
            "Wypisanie komunikatu błędu"
          ]
        }
      ]
    },
    {
      "cell_type": "code",
      "source": [
        "import math"
      ],
      "metadata": {
        "id": "FydBG5mbEohW"
      },
      "execution_count": 19,
      "outputs": []
    },
    {
      "cell_type": "code",
      "source": [
        "print(math.cos(math.pi / 4))\n",
        "\n",
        "print(math.log(1024, 2))"
      ],
      "metadata": {
        "colab": {
          "base_uri": "https://localhost:8080/"
        },
        "id": "NqJP7KTbEqsD",
        "outputId": "2b9d5253-d70f-4700-d08f-209bf67879f5"
      },
      "execution_count": 22,
      "outputs": [
        {
          "output_type": "stream",
          "name": "stdout",
          "text": [
            "0.7071067811865476\n",
            "10.0\n"
          ]
        }
      ]
    },
    {
      "cell_type": "code",
      "source": [
        "import random"
      ],
      "metadata": {
        "id": "YcSDaXpxE9nN"
      },
      "execution_count": 23,
      "outputs": []
    },
    {
      "cell_type": "code",
      "source": [
        "i = 1023\n",
        "# 959\n",
        "# 247\n",
        "# 951\n",
        "# 783\n",
        "#39"
      ],
      "metadata": {
        "id": "-T3pH6MFF4fG"
      },
      "execution_count": 99,
      "outputs": []
    },
    {
      "cell_type": "code",
      "source": [
        "for k in range(5):\n",
        "  i = i * 433\n",
        "  if i > 1000:\n",
        "    i = i - 1000\n",
        "  r = i % 1000\n",
        "  print(r)"
      ],
      "metadata": {
        "colab": {
          "base_uri": "https://localhost:8080/"
        },
        "id": "V1EmTkiVGGc2",
        "outputId": "48fad669-cc6c-4388-d77a-dce2723ef46c"
      },
      "execution_count": 100,
      "outputs": [
        {
          "output_type": "stream",
          "name": "stdout",
          "text": [
            "959\n",
            "247\n",
            "951\n",
            "783\n",
            "39\n"
          ]
        }
      ]
    },
    {
      "cell_type": "code",
      "source": [
        "random.seed(100)\n",
        "\n",
        "lista = []\n",
        "\n",
        "for k in range(5):\n",
        "  lista.append(random.randint(0, 1000))\n",
        "\n",
        "\n",
        "if sum(lista) == 2847:\n",
        "  print(\"Funkcja działa poprawnie\")\n",
        "else:\n",
        "  print(\"Funkcja działa błędnie\")"
      ],
      "metadata": {
        "colab": {
          "base_uri": "https://localhost:8080/"
        },
        "id": "oeDaWJMhFVV0",
        "outputId": "5080e16d-e52a-4af1-bd15-71fc1f844aed"
      },
      "execution_count": 129,
      "outputs": [
        {
          "output_type": "stream",
          "name": "stdout",
          "text": [
            "Funkcja działa poprawnie\n"
          ]
        }
      ]
    },
    {
      "cell_type": "code",
      "source": [
        "owoce = ['jabłka', 'gruszki', 'banany', 'pomarańcze', 'cytryny']\n",
        "\n",
        "print(random.choice(owoce))\n",
        "\n",
        "print(random.sample(range(1, 1000, 2), 10))\n",
        "\n",
        "print(random.random())"
      ],
      "metadata": {
        "colab": {
          "base_uri": "https://localhost:8080/"
        },
        "id": "ZdtdiRxfH_S-",
        "outputId": "53a7ba5e-aaf1-4e16-dd6e-72cb6ba25c42"
      },
      "execution_count": 144,
      "outputs": [
        {
          "output_type": "stream",
          "name": "stdout",
          "text": [
            "pomarańcze\n",
            "[259, 245, 867, 843, 931, 723, 731, 447, 785, 909]\n",
            "0.5135789722286814\n"
          ]
        }
      ]
    }
  ]
}