{
  "nbformat": 4,
  "nbformat_minor": 0,
  "metadata": {
    "colab": {
      "name": "ecdl_5.ipynb",
      "provenance": [],
      "authorship_tag": "ABX9TyOxaSAWRHloRsFmcgxo9+ST",
      "include_colab_link": true
    },
    "kernelspec": {
      "name": "python3",
      "display_name": "Python 3"
    },
    "language_info": {
      "name": "python"
    }
  },
  "cells": [
    {
      "cell_type": "markdown",
      "metadata": {
        "id": "view-in-github",
        "colab_type": "text"
      },
      "source": [
        "<a href=\"https://colab.research.google.com/github/rroszczyk/ecdl_python/blob/main/ecdl_5.ipynb\" target=\"_parent\"><img src=\"https://colab.research.google.com/assets/colab-badge.svg\" alt=\"Open In Colab\"/></a>"
      ]
    },
    {
      "cell_type": "code",
      "source": [
        "# float\n",
        "# int\n",
        "# bool\n",
        "# str"
      ],
      "metadata": {
        "id": "IYtp8ua4Q0Bm"
      },
      "execution_count": 9,
      "outputs": []
    },
    {
      "cell_type": "code",
      "source": [
        "# definicja kota\n",
        "# - umaszczenie\n",
        "# - liczba łapek\n",
        "# - ogon\n",
        "# - uszy\n",
        "# - imie\n",
        "# - liczba wąsów\n",
        "# - wiek\n",
        "# - wage\n",
        "# - wzrost w kłębie"
      ],
      "metadata": {
        "id": "ZHCAAxMcRQ-4"
      },
      "execution_count": null,
      "outputs": []
    },
    {
      "cell_type": "code",
      "source": [
        "def wypisz(umaszczenie, lapki, ogon, uszy, imie, wasy, wiek, waga, wzrost):\n",
        "  pass"
      ],
      "metadata": {
        "id": "ipr-0Oo8Ry7H"
      },
      "execution_count": null,
      "outputs": []
    },
    {
      "cell_type": "code",
      "source": [
        "class Kot:\n",
        "  umaszczenie = \"\"\n",
        "  lapki = 4\n",
        "  ogon = True\n",
        "  uszy = 2\n",
        "  imie = \"\"\n",
        "  wasy = 8\n",
        "  wiek = \"\"\n",
        "  waga = \"\"\n",
        "  wzrost = \"\"\n",
        "  def __init__(self, umaszczenie, imie, wiek, waga, wzrost, lapki=4, ogon=True, uszy=2, wasy=8):\n",
        "    self.umaszczenie = umaszczenie\n",
        "    self.lapki = lapki\n",
        "    self.ogon = ogon\n",
        "    self.imie = imie\n",
        "    self.wasy = wasy\n",
        "    self.wiek = wiek\n",
        "    self.waga = waga\n",
        "    self.wzrost = wzrost\n",
        "\n",
        "  def __str__(self):\n",
        "    return f\"KOT -> Imie: {self.imie}, Umaszczenie: {self.umaszczenie}, Wiek: {self.wiek}, Wzrost: {self.wzrost}, Łapki: {self.lapki}, Ogon: {self.ogon}, Uszy: {self.uszy}, Wąsy: {self.wasy}\"\n",
        "\n"
      ],
      "metadata": {
        "id": "vTZK-iKRSQAb"
      },
      "execution_count": 16,
      "outputs": []
    },
    {
      "cell_type": "code",
      "source": [
        "print(Kot.lapki, Kot.ogon, Kot.wasy, Kot.imie)"
      ],
      "metadata": {
        "colab": {
          "base_uri": "https://localhost:8080/"
        },
        "id": "HPXO7rNKTcDo",
        "outputId": "8cb3ac93-6b46-4685-daa9-41d1fe005e11"
      },
      "execution_count": 11,
      "outputs": [
        {
          "output_type": "stream",
          "name": "stdout",
          "text": [
            "4 True 8 \n"
          ]
        }
      ]
    },
    {
      "cell_type": "code",
      "source": [
        "puszek = Kot(\"rudy\", \"Puszek\", 2, 6, 30)\n",
        "mruczek = Kot(\"bury\", \"Mruczek\", 2, 5.5, 35, ogon=False)"
      ],
      "metadata": {
        "id": "FNJYOeKhTrBS"
      },
      "execution_count": 23,
      "outputs": []
    },
    {
      "cell_type": "code",
      "source": [
        "print(puszek)\n",
        "print(mruczek)\n",
        "print(Kot)"
      ],
      "metadata": {
        "colab": {
          "base_uri": "https://localhost:8080/"
        },
        "id": "SQPo34F7UKNz",
        "outputId": "a76df896-8222-4562-c6d8-34f33fdda5b2"
      },
      "execution_count": 24,
      "outputs": [
        {
          "output_type": "stream",
          "name": "stdout",
          "text": [
            "KOT -> Imie: Puszek, Umaszczenie: rudy, Wiek: 2, Wzrost: 30, Łapki: 4, Ogon: True, Uszy: 2, Wąsy: 8\n",
            "KOT -> Imie: Mruczek, Umaszczenie: bury, Wiek: 2, Wzrost: 35, Łapki: 4, Ogon: False, Uszy: 2, Wąsy: 8\n",
            "<class '__main__.Kot'>\n"
          ]
        }
      ]
    },
    {
      "cell_type": "code",
      "source": [
        "mruczek.oczy = 'niebieskie'"
      ],
      "metadata": {
        "id": "xm0Os-61VhNB"
      },
      "execution_count": 25,
      "outputs": []
    },
    {
      "cell_type": "code",
      "source": [
        "#print(puszek.oczy)\n",
        "print(mruczek.oczy)"
      ],
      "metadata": {
        "colab": {
          "base_uri": "https://localhost:8080/"
        },
        "id": "F99IckuOVr9x",
        "outputId": "9cb96138-b3d2-42a5-e989-3b14dc441cd9"
      },
      "execution_count": 27,
      "outputs": [
        {
          "output_type": "stream",
          "name": "stdout",
          "text": [
            "niebieskie\n"
          ]
        }
      ]
    },
    {
      "cell_type": "code",
      "source": [
        "class Pizza:\n",
        "  nazwa = None\n",
        "  papryka = False\n",
        "  ser = True\n",
        "  cebula = False\n",
        "  ananas = False\n",
        "  pieczarki = False\n",
        "  pomidory = False\n",
        "  def __init__(self, nazwa):          # konstruktor    \n",
        "    self.nazwa = nazwa\n",
        "  def __str__(self):\n",
        "    s = \"\"\n",
        "    for k, v in self.__dict__.items():\n",
        "      s = s + f\"{k}: {v}, \"\n",
        "    s = s + \"\\n\"\n",
        "    return s"
      ],
      "metadata": {
        "id": "t58Vjn93V79R"
      },
      "execution_count": 38,
      "outputs": []
    },
    {
      "cell_type": "code",
      "source": [
        "class Hawajska(Pizza):\n",
        "  def __init__(self):\n",
        "    Pizza.__init__(self, \"Hawajska\")\n",
        "    self.ananas = True\n",
        "    self.papryka = True\n",
        "    self.pomidory = True\n",
        "    self.szynka = True"
      ],
      "metadata": {
        "id": "CJs2CycAWw5U"
      },
      "execution_count": 41,
      "outputs": []
    },
    {
      "cell_type": "code",
      "source": [
        "hawajska = Hawajska()\n",
        "pizza = Pizza(\"Nijaka\")\n",
        "print(hawajska)\n",
        "print(pizza)\n",
        "\n",
        "print(pizza.ser, pizza.cebula)"
      ],
      "metadata": {
        "colab": {
          "base_uri": "https://localhost:8080/"
        },
        "id": "2dmyW-zvXGa7",
        "outputId": "53571beb-1cf8-44b1-989f-9f9080f1ee31"
      },
      "execution_count": 45,
      "outputs": [
        {
          "output_type": "stream",
          "name": "stdout",
          "text": [
            "nazwa: Hawajska, ananas: True, papryka: True, pomidory: True, szynka: True, \n",
            "\n",
            "nazwa: Nijaka, \n",
            "\n",
            "True False\n"
          ]
        }
      ]
    },
    {
      "cell_type": "code",
      "source": [
        "def pieczPizze(pizza):\n",
        "  pizza.czasPieczenia = 20\n",
        "  pizza.przypalona = False\n",
        "\n",
        "pieczPizze(hawajska)\n",
        "\n",
        "print(hawajska.przypalona)\n",
        "\n",
        "print(hawajska)"
      ],
      "metadata": {
        "colab": {
          "base_uri": "https://localhost:8080/"
        },
        "id": "GvWerRS3YgTr",
        "outputId": "b03ad552-dd66-4654-edfe-87eb44ea67a9"
      },
      "execution_count": 48,
      "outputs": [
        {
          "output_type": "stream",
          "name": "stdout",
          "text": [
            "False\n",
            "nazwa: Hawajska, ananas: True, papryka: True, pomidory: True, szynka: True, czasPieczenia: 20, przypalona: False, \n",
            "\n"
          ]
        }
      ]
    },
    {
      "cell_type": "code",
      "source": [
        "class Samochod:\n",
        "  'Klasa definiująca samochód'\n",
        "  def __init__(self, marka, kolor, drzwi):      # konstruktor - domyślna funkcja wywoływana w trakcie tworzenia obiektu\n",
        "    print(\"Składam samochód w fabryce\")\n",
        "    self.marka = marka\n",
        "    self.kolor = kolor\n",
        "    self.drzwi = drzwi\n",
        "  def __str__(self):\n",
        "    s = \"\"\n",
        "    for k, v in self.__dict__.items():\n",
        "      s = s + f\"{k}: {v}, \"\n",
        "    return s + \"\\n\""
      ],
      "metadata": {
        "id": "4FzTetsXZk_H"
      },
      "execution_count": 57,
      "outputs": []
    },
    {
      "cell_type": "code",
      "source": [
        "class Honda(Samochod):\n",
        "  def __init__(self, kolor, drzwi=5):\n",
        "    Samochod.__init__(self, \"Honda\", kolor, drzwi)"
      ],
      "metadata": {
        "id": "ssqb_FxFaQFv"
      },
      "execution_count": 58,
      "outputs": []
    },
    {
      "cell_type": "code",
      "source": [
        "czerwonaHonda = Honda(\"czerwona\")     # tworzenie obiektu \n",
        "\n",
        "print(czerwonaHonda)"
      ],
      "metadata": {
        "colab": {
          "base_uri": "https://localhost:8080/"
        },
        "id": "-xZjHzG1aeeG",
        "outputId": "6a908173-1d1b-4d86-913b-ba4f57cf9a92"
      },
      "execution_count": 59,
      "outputs": [
        {
          "output_type": "stream",
          "name": "stdout",
          "text": [
            "Składam samochód w fabryce\n",
            "marka: Honda, kolor: czerwona, drzwi: 5, \n",
            "\n"
          ]
        }
      ]
    },
    {
      "cell_type": "code",
      "source": [
        "class Figura:\n",
        "  def __init__(self, nazwa):\n",
        "    self.nazwa = nazwa\n",
        "  \n",
        "  def polePowierzchni():\n",
        "    return 0\n",
        "\n",
        "  def __str__(self):\n",
        "    return f\"{self.nazwa} pole powierzchni: {self.polePowierzchni()}\""
      ],
      "metadata": {
        "id": "wyWmB95VclMZ"
      },
      "execution_count": 61,
      "outputs": []
    },
    {
      "cell_type": "code",
      "source": [
        "class Kwadrat(Figura):\n",
        "  def __init__(self, dlugosc_boku):\n",
        "    Figura.__init__(self, \"kwadrat\")\n",
        "    self.dlugosc_boku = dlugosc_boku\n",
        "\n",
        "  def polePowierzchni(self):\n",
        "      return self.dlugosc_boku * self.dlugosc_boku\n",
        "\n",
        "class Prostokat(Figura):\n",
        "  def __init__(self, dlugosc_boku_1, dlugosc_boku_2):\n",
        "    Figura.__init__(self, \"prostokąt\")    \n",
        "    self.dlugosc_boku_1 = dlugosc_boku_1\n",
        "    self.dlugosc_boku_2 = dlugosc_boku_2\n",
        "\n",
        "  def polePowierzchni(self):\n",
        "    return self.dlugosc_boku_1 * self.dlugosc_boku_2\n",
        "\n",
        "class Trapez(Figura):\n",
        "  def __init__(self, dlugosc_boku_1, dlugosc_boku_2, wysokosc):\n",
        "    Figura.__init__(self, \"trapez\")    \n",
        "    self.dlugosc_boku_1 = dlugosc_boku_1\n",
        "    self.dlugosc_boku_2 = dlugosc_boku_2\n",
        "    self.wysokosc = wysokosc\n",
        "\n",
        "  def polePowierzchni(self):\n",
        "    return 0.5 * (self.dlugosc_boku_1 + self.dlugosc_boku_2) * self.wysokosc"
      ],
      "metadata": {
        "id": "2qMbxfhMc5Hu"
      },
      "execution_count": 62,
      "outputs": []
    },
    {
      "cell_type": "code",
      "source": [
        "kwadrat1 = Kwadrat(5)\n",
        "kwadrat2 = Kwadrat(10)\n",
        "\n",
        "prostokat = Prostokat(5, 10)\n",
        "\n",
        "trapez = Trapez(2, 4, 3)\n",
        "\n",
        "print(kwadrat1)\n",
        "print(kwadrat2)\n",
        "print(prostokat)\n",
        "print(trapez)"
      ],
      "metadata": {
        "colab": {
          "base_uri": "https://localhost:8080/"
        },
        "id": "xCsfZIMmeV_8",
        "outputId": "3f709ee0-af9c-491a-fe54-c3888756299b"
      },
      "execution_count": 63,
      "outputs": [
        {
          "output_type": "stream",
          "name": "stdout",
          "text": [
            "kwadrat pole powierzchni: 25\n",
            "kwadrat pole powierzchni: 100\n",
            "prostokąt pole powierzchni: 50\n",
            "trapez pole powierzchni: 9.0\n"
          ]
        }
      ]
    },
    {
      "cell_type": "code",
      "source": [
        "class People:\n",
        "  'klasa definiująca użytkownika szkoły'\n",
        "  def __init__(self, imie, dlugopis, identyfikator ):\n",
        "    self.imie = imie\n",
        "    self.identyfikator = identyfikator \n",
        "    self.dlugopis = None\n",
        "    pass\n",
        "\n",
        "class Student(People):\n",
        "  'klasa definiująca ucznia szkoły'\n",
        "  def __init__(self, imie, dlugopis, identyfikator, srednia, zeszyt, klasa):\n",
        "    People.__init__(self, imie, dlugopis, identyfikator)\n",
        "    self.srednia = srednia\n",
        "    self.zeszyt = zeszyt\n",
        "    self.klasa = klasa\n",
        "\n",
        "\n",
        "class Teacher(People):\n",
        "  'klasa definiująca nauczyciela'\n",
        "  def __init__(self, imie, dlugopis, identyfikator, pensja, wychowawstwo, przedmiot):\n",
        "    People.__init__(self, imie, dlugopis, identyfikator)\n",
        "    self.pensja = pensja\n",
        "    self.wychowawstwo = wychowawstwo\n",
        "    self.przedmiot = przedmiot\n"
      ],
      "metadata": {
        "id": "0r30K0D0fak2"
      },
      "execution_count": 66,
      "outputs": []
    },
    {
      "cell_type": "code",
      "source": [
        "klasa = {}\n",
        "\n",
        "piotr = Student(imie=\"Piotr\", dlugopis=True, identyfikator=\"0001\", srednia=5.0, zeszyt=True, klasa=\"IIIb\")\n",
        "klasa[piotr.imie] = piotr\n",
        "\n",
        "adrian = Student(imie=\"Adrian\", dlugopis=True, identyfikator=\"0002\", srednia=5.0, zeszyt=True, klasa=\"IIa\")\n",
        "klasa[adrian.imie] = adrian\n",
        "\n",
        "marian = Student(imie=\"Marian\", dlugopis=True, identyfikator=\"0020\", srednia=2.0, zeszyt=False, klasa=\"IVa\")\n",
        "klasa[marian.imie] = marian\n",
        "\n",
        "anna = Student(imie=\"Anna\", dlugopis=True, identyfikator=\"0022\", srednia=6.0, zeszyt=True, klasa=\"IIa\")\n",
        "klasa[anna.imie] = anna\n",
        "\n",
        "for uczen in klasa.values():\n",
        "  print(f\"Imie: {uczen.imie}\")\n",
        "  print(f\"Identyfikator: {uczen.identyfikator}\")  \n",
        "  print(f\"Zeszyt: {uczen.zeszyt}\")    \n",
        "  print(f\"Klasa: {uczen.klasa}\")\n",
        "  print(\"-\"*20)"
      ],
      "metadata": {
        "colab": {
          "base_uri": "https://localhost:8080/"
        },
        "id": "I3e89Ii7hW-t",
        "outputId": "545f5964-21bc-44ce-d129-90564496e8bb"
      },
      "execution_count": 72,
      "outputs": [
        {
          "output_type": "stream",
          "name": "stdout",
          "text": [
            "Imie: Piotr\n",
            "Identyfikator: 0001\n",
            "Zeszyt: True\n",
            "Klasa: IIIb\n",
            "--------------------\n",
            "Imie: Adrian\n",
            "Identyfikator: 0002\n",
            "Zeszyt: True\n",
            "Klasa: IIa\n",
            "--------------------\n",
            "Imie: Marian\n",
            "Identyfikator: 0020\n",
            "Zeszyt: False\n",
            "Klasa: IVa\n",
            "--------------------\n",
            "Imie: Anna\n",
            "Identyfikator: 0022\n",
            "Zeszyt: True\n",
            "Klasa: IIa\n",
            "--------------------\n"
          ]
        }
      ]
    },
    {
      "cell_type": "code",
      "source": [
        "class Zwierze:\n",
        "  pass\n",
        "\n",
        "class Ryba(Zwierze):\n",
        "  pass\n",
        "\n",
        "class Ssak(Zwierze):\n",
        "  pass\n",
        "\n",
        "class Ptak(Zwierze):\n",
        "  pass\n",
        "\n",
        "class Gad(Zwierze):\n",
        "  pass\n",
        "\n",
        "class Plaz(Zwierze):\n",
        "  pass    \n",
        "\n",
        "class Delfin(Ssak, Ryba):\n",
        "  pass\n",
        "  \n",
        "zoo = {}   # powinno być w zoo co najmniej 5 ryb, 5 ssaków, 5 ptaków, 5 gadów, 5 płazów"
      ],
      "metadata": {
        "id": "UMcjV5r2jW-8"
      },
      "execution_count": null,
      "outputs": []
    }
  ]
}