{
  "nbformat": 4,
  "nbformat_minor": 0,
  "metadata": {
    "colab": {
      "name": "ecdl_10.ipynb",
      "provenance": [],
      "collapsed_sections": [],
      "authorship_tag": "ABX9TyMNUr1Cd+dNIaHTDAG0bfrg",
      "include_colab_link": true
    },
    "kernelspec": {
      "name": "python3",
      "display_name": "Python 3"
    },
    "language_info": {
      "name": "python"
    }
  },
  "cells": [
    {
      "cell_type": "markdown",
      "metadata": {
        "id": "view-in-github",
        "colab_type": "text"
      },
      "source": [
        "<a href=\"https://colab.research.google.com/github/rroszczyk/ecdl_python/blob/main/ecdl_10.ipynb\" target=\"_parent\"><img src=\"https://colab.research.google.com/assets/colab-badge.svg\" alt=\"Open In Colab\"/></a>"
      ]
    },
    {
      "cell_type": "code",
      "execution_count": 6,
      "metadata": {
        "colab": {
          "base_uri": "https://localhost:8080/"
        },
        "id": "zEVo_RgkK5-B",
        "outputId": "3184ee80-5353-4313-90f5-cb304cd0720b"
      },
      "outputs": [
        {
          "output_type": "stream",
          "name": "stdout",
          "text": [
            "Wprowadź wartość rachunku: 100\n",
            "Wprowadź liczbę ludzi: 0\n",
            "Należy wprowadzić liczbę ludzi różną od zera\n",
            "Wprowadź liczbę ludzi: 10\n",
            "Każda osoba musi zapłacić: 10.0\n"
          ]
        }
      ],
      "source": [
        "# Pobranie wartości poczatkowych\n",
        "rachunek = float(input('Wprowadź wartość rachunku: '))\n",
        "liczbaLudzi = 0\n",
        "while liczbaLudzi == 0:\n",
        "  liczbaLudzi = float(input('Wprowadź liczbę ludzi: '))\n",
        "  if (liczbaLudzi == 0):\n",
        "    print(\"Należy wprowadzić liczbę ludzi różną od zera\")\n",
        "\n",
        "iloraz = float(0)\n",
        "\n",
        "# Podziel dwie liczby\n",
        "iloraz = rachunek / liczbaLudzi\n",
        "\n",
        "# Wyźwietl iloraz dwóch liczb\n",
        "print(\"Każda osoba musi zapłacić:\", iloraz)"
      ]
    },
    {
      "cell_type": "code",
      "source": [
        "\n",
        "# dalej mamy definicję trzech imion\n",
        "imie1 = \"Janusz\"\n",
        "imie2 = \"Marta\"\n",
        "imie3 = \"Emil\"\n",
        "\n",
        "# w tym miejscu wypisujemy imona \n",
        "print(imie1, imie2, imie3) \n",
        "\n",
        "# w tym miejscu budujemy zdanie\n",
        "zdanie = \"trzy osoby \" + imie1 + \" \" + imie2 + \" \" +imie3\n",
        "\n",
        "# i wypisujemy na ekran ładne zdanie\n",
        "print(zdanie.capitalize(), end=\".\")       # capitalize zamienia litery w zdaniu na \"Zdanie po zaczynające się z wielkiej litery\"\n",
        "                                          # end = \".\" - dodaje kropkę na końcu zdania"
      ],
      "metadata": {
        "colab": {
          "base_uri": "https://localhost:8080/"
        },
        "id": "NNk1scC-MLLZ",
        "outputId": "d43c9eb0-a4d9-4510-b19a-3bc9b35cd107"
      },
      "execution_count": 10,
      "outputs": [
        {
          "output_type": "stream",
          "name": "stdout",
          "text": [
            "Janusz Marta Emil\n",
            "Trzy osoby janusz marta emil."
          ]
        }
      ]
    },
    {
      "cell_type": "code",
      "source": [
        "# Wstaw kod, w którym zdefiniujesz zmienną o nazwie mojeZwierzatko i zainicjujesz ją\n",
        "# używając imienia Felix\n",
        "\n",
        "\n",
        "\n",
        "# zdefiniuj i zainicjuj zmienną mojeZwierzatko\n",
        "mojeZwierzatko=\"Felix\"\n",
        "\n",
        "# Wypisz imie\n",
        "print(\"Imie mojego zwierzątka: \", mojeZwierzatko)  # z dwoma spacjami\n",
        "print(\"Imie mojego zwierzątka:\", mojeZwierzatko)   # poprawione - z jedną\n",
        "print(\"Imie mojego zwierzątka: \" + mojeZwierzatko) # poprawione - z jedną\n",
        "print(\"Imie mojego zwierzątka: \", mojeZwierzatko, sep='')  # poprawione - z jedną"
      ],
      "metadata": {
        "colab": {
          "base_uri": "https://localhost:8080/"
        },
        "id": "5gIhfsbQND32",
        "outputId": "81a27ad2-d588-4176-bdc5-a14c8a4bf187"
      },
      "execution_count": 16,
      "outputs": [
        {
          "output_type": "stream",
          "name": "stdout",
          "text": [
            "Imie mojego zwierzątka:  Felix\n",
            "Imie mojego zwierzątka: Felix\n",
            "Imie mojego zwierzątka: Felix\n",
            "Imie mojego zwierzątka: Felix\n"
          ]
        }
      ]
    },
    {
      "cell_type": "code",
      "source": [
        "# Wstaw kod do programu, który zmiennej cena przypisze wartość 24\n",
        "\n",
        "\n",
        "# definicja i inicjacja zmiennej cena\n",
        "cena = 0\n",
        "\n",
        "# przypisz wartość zmiennej cena\n",
        "cena = 24\n",
        "\n",
        "# Wypisz liczbę\n",
        "print(cena)"
      ],
      "metadata": {
        "colab": {
          "base_uri": "https://localhost:8080/"
        },
        "id": "GyivsmwFOeaa",
        "outputId": "7765fa01-2c4b-4458-af0a-4fde4e5688d0"
      },
      "execution_count": 17,
      "outputs": [
        {
          "output_type": "stream",
          "name": "stdout",
          "text": [
            "24\n"
          ]
        }
      ]
    },
    {
      "cell_type": "code",
      "source": [
        "# Zmień kod programu tak, aby wartośc 24 przypisana zmiennej liczba była typu całkowitego\n",
        "\n",
        "#liczba = float(24)\n",
        "liczba = int(24) \n",
        "#albo dodać linię liczba = int(liczba)\n",
        "\n",
        "# Wypisz liczbę\n",
        "print(\"Twoja liczba: \",liczba)"
      ],
      "metadata": {
        "colab": {
          "base_uri": "https://localhost:8080/"
        },
        "id": "u99XhnJFOxYT",
        "outputId": "21deaedd-14ca-4e2c-bc25-457812de93b4"
      },
      "execution_count": 20,
      "outputs": [
        {
          "output_type": "stream",
          "name": "stdout",
          "text": [
            "Twoja liczba:  24\n"
          ]
        }
      ]
    },
    {
      "cell_type": "code",
      "source": [
        "# Wstaw kod, który krotce (tupli) o nazwie poryRoku przypisze nazwy pór roku:\n",
        "# wiosna,lato, jesień, zima.\n",
        "\n",
        "poryRoku = ('wiosna', 'lato', 'jesień', 'zima') # tupl\n",
        "print(\"Cztery pory roku to: \", poryRoku)\n",
        "\n",
        "poryRoku = ['wiosna', 'lato', 'jesień', 'zima'] # listę\n",
        "print(\"Cztery pory roku to: \", poryRoku)\n",
        "\n",
        "poryRoku = {1:'wiosna', 2:'lato', 3:'jesień', 4:'zima'} # słownik\n",
        "print(\"Cztery pory roku to: \", poryRoku)\n"
      ],
      "metadata": {
        "colab": {
          "base_uri": "https://localhost:8080/"
        },
        "id": "elaH7tP7PI_J",
        "outputId": "2def89dd-918b-458f-8981-28efa86d61a6"
      },
      "execution_count": 24,
      "outputs": [
        {
          "output_type": "stream",
          "name": "stdout",
          "text": [
            "Cztery pory roku to:  ('wiosna', 'lato', 'jesień', 'zima')\n",
            "Cztery pory roku to:  ['wiosna', 'lato', 'jesień', 'zima']\n",
            "Cztery pory roku to:  {1: 'wiosna', 2: 'lato', 3: 'jesień', 4: 'zima'}\n"
          ]
        }
      ]
    },
    {
      "cell_type": "code",
      "source": [
        "poryRoku = ('wiosna', 'lato', 'jesień', 'zima') # tupl\n",
        "print(\"Cztery pory roku to: \", poryRoku)\n",
        "\n",
        "for pora in poryRoku:\n",
        "  print(pora)\n",
        "\n",
        "print(poryRoku[2])\n",
        "# poryRoku.append(\"przedwiośnie\")  -> tupl nie pozwala na dodawanie elementów !!!\n",
        "# poryRoku[0] = 'spring'           -> tupl nie pozwala na zmianę wartości elementów !!!\n",
        "#                                  -> tupl jest 'tylko do odczytu'\n"
      ],
      "metadata": {
        "colab": {
          "base_uri": "https://localhost:8080/"
        },
        "id": "aQgauViuQiXM",
        "outputId": "7559ee30-df9b-43dc-bc7b-0ba876122b4b"
      },
      "execution_count": 35,
      "outputs": [
        {
          "output_type": "stream",
          "name": "stdout",
          "text": [
            "Cztery pory roku to:  ('wiosna', 'lato', 'jesień', 'zima')\n",
            "wiosna\n",
            "lato\n",
            "jesień\n",
            "zima\n",
            "jesień\n"
          ]
        }
      ]
    },
    {
      "cell_type": "code",
      "source": [
        "poryRoku = ['wiosna', 'lato', 'jesień', 'zima'] # listę\n",
        "print(\"Cztery pory roku to: \", poryRoku)\n",
        "\n",
        "for pora in poryRoku:\n",
        "  print(pora)\n",
        "\n",
        "print(poryRoku[2])  \n",
        "\n",
        "poryRoku.append(\"przedwiośnie\")\n",
        "poryRoku[0] = 'spring'\n",
        "\n",
        "print(\"Pory roku to: \", poryRoku)"
      ],
      "metadata": {
        "colab": {
          "base_uri": "https://localhost:8080/"
        },
        "id": "twtJzMx6Q4kt",
        "outputId": "f2b54f71-d0b4-41ed-e4a7-96433728b248"
      },
      "execution_count": 36,
      "outputs": [
        {
          "output_type": "stream",
          "name": "stdout",
          "text": [
            "Cztery pory roku to:  ['wiosna', 'lato', 'jesień', 'zima']\n",
            "wiosna\n",
            "lato\n",
            "jesień\n",
            "zima\n",
            "jesień\n",
            "Pory roku to:  ['spring', 'lato', 'jesień', 'zima', 'przedwiośnie']\n"
          ]
        }
      ]
    },
    {
      "cell_type": "code",
      "source": [
        "# Program pyta użytkownika o jego wzrost.\n",
        "# Zaktualizuj program tak, aby wypisywał wzrost użytkownika na ekranie.\n",
        "\n",
        "mojWzrost = int(input(\"Podaj swój wzrost: \"))\n",
        "\n",
        "# Zaktualizuj program tutaj\n",
        "print(mojWzrost)\n",
        "\n",
        "print(f\"Twój wzrost to: {mojWzrost} cm\")\n",
        "print(\"Twój wzrost to: {} cm\".format(mojWzrost))\n"
      ],
      "metadata": {
        "colab": {
          "base_uri": "https://localhost:8080/"
        },
        "id": "HeNNzXKXSBlb",
        "outputId": "dc652dd5-22c7-40fb-af1f-066f2583c987"
      },
      "execution_count": 38,
      "outputs": [
        {
          "output_type": "stream",
          "name": "stdout",
          "text": [
            "Podaj swój wzrost: 182\n",
            "182\n",
            "Twój wzrost to: 182 cm\n",
            "Twój wzrost to: 182 cm\n"
          ]
        }
      ]
    },
    {
      "cell_type": "code",
      "source": [
        "# Zmodyfikuj  program tak, aby wypisywał komunikat: Liczba należy do przedziału, \n",
        "# jeżeli podana przez użytkownika liczba jest mniejsza od 20, a większa lub rowna 13.\n",
        "# W przeciwnym wypadku powinien zostać wypisany komunikat: Liczba nie należy do przedziału.\n",
        "# Użyj operatora AND. \n",
        "\n",
        "liczba = int(input(\"Proszę podać liczbę:\"))\n",
        "\n",
        "if (liczba < 20 and liczba >= 13):\n",
        "    print(\"Liczba należy do przedziału\")\n",
        "\n",
        "else:\n",
        "    print(\"Liczba nie należy do przedziału\")\n",
        "    "
      ],
      "metadata": {
        "colab": {
          "base_uri": "https://localhost:8080/"
        },
        "id": "tT-f5sv3SorM",
        "outputId": "61edfc91-67e3-4d60-943a-d84633662ec1"
      },
      "execution_count": 42,
      "outputs": [
        {
          "output_type": "stream",
          "name": "stdout",
          "text": [
            "Proszę podać liczbę:17\n",
            "Liczba należy do przedziału\n"
          ]
        }
      ]
    },
    {
      "cell_type": "code",
      "source": [
        "# Wstaw kod, który za pomocą instrukcji warunkowej \"if ... else\", \n",
        "# sprawdzi, czy uczeń zdał egzamin. Uczeń zdał egzamin, jeżeli otrzymał wynik wyższy lub równy 75\n",
        "\n",
        "\n",
        "mojWynik = int(input(\"Proszę wprowadzić swój wynik:\"))\n",
        "\n",
        "\n",
        "if mojWynik >= 75:\n",
        "    print(\"Zdałeś egzamin\")\n",
        "else:\n",
        "    print(\"Przykro nam, nie zdałeś egzaminu\")\n",
        "\n",
        "\n"
      ],
      "metadata": {
        "colab": {
          "base_uri": "https://localhost:8080/"
        },
        "id": "FQxbX_MjTgfH",
        "outputId": "daba9537-6006-415e-93fc-62953784f686"
      },
      "execution_count": 44,
      "outputs": [
        {
          "output_type": "stream",
          "name": "stdout",
          "text": [
            "Proszę wprowadzić swój wynik:85\n",
            "Zdałeś egzamin\n"
          ]
        }
      ]
    },
    {
      "cell_type": "code",
      "source": [
        "# Zmodyfikuj program, aby zdefiniować funkcję o nazwie Odejmowanie, \n",
        "# która obliczy różnicę dwóch liczb podanych przez użytkownika \n",
        "# i zwróci wynik obliczeń.\n",
        "\n",
        "\n",
        "liczba1 = int(input(\"Wprowadź pierwszą liczbę: \"))\n",
        "liczba2 = int(input(\"Wprowadź druga liczbę: \"))\n",
        "wynik = 0\n",
        "roznica = 0\n",
        "\n",
        "# Zmień kod w tym miejscu\n",
        "def Odejmowanie(liczba1, liczba2):\n",
        "    wynik = liczba1 - liczba2\n",
        "    return wynik\n",
        "\n",
        "roznica = Odejmowanie(liczba1,liczba2)\n",
        "\n",
        "print(\"wynik wynosi:\",roznica)\n",
        "\n",
        "\n",
        "# przykładowa definicja funkcji\n",
        "def NazwaFunkcji(paremtr1, parametr2, parametr3):\n",
        "  '''\n",
        "  Dokumentacja funkcji\n",
        "  '''\n",
        "  # ciało funkcji\n",
        "  pass\n",
        "\n"
      ],
      "metadata": {
        "colab": {
          "base_uri": "https://localhost:8080/"
        },
        "id": "x2kOf248T69W",
        "outputId": "46b33a58-0ad0-4f41-89dc-49dea2c4cc57"
      },
      "execution_count": 45,
      "outputs": [
        {
          "output_type": "stream",
          "name": "stdout",
          "text": [
            "Wprowadź pierwszą liczbę: 100\n",
            "Wprowadź druga liczbę: 20\n",
            "wynik wynosi: 80\n"
          ]
        }
      ]
    },
    {
      "cell_type": "code",
      "source": [
        "# Zmodyfikuj program tak, aby korzystajšc z biblioteki 'random' dostarczonej z Pythonem\n",
        "# wykorzystał dostępne funkcje do wygenerowania liczby losowej z przedziału od 2 do 12 włacznie.\n",
        "\n",
        "import random\n",
        "\n",
        "# Zaktualizuj kod w tym miejscu\n",
        "mojaLiczba = random.randint(2, 12)\n",
        "\n",
        "print(mojaLiczba)\n",
        " \n"
      ],
      "metadata": {
        "colab": {
          "base_uri": "https://localhost:8080/"
        },
        "id": "T4rohm1RVrjR",
        "outputId": "64def510-2dc4-4c75-93cf-b12f2d6de236"
      },
      "execution_count": 51,
      "outputs": [
        {
          "output_type": "stream",
          "name": "stdout",
          "text": [
            "6\n"
          ]
        }
      ]
    },
    {
      "cell_type": "code",
      "source": [
        "# Znajdź w programie i popraw jeden bład w pisowni i jeden błąd interpunkcyjny.\n",
        "import random\n",
        "\n",
        "mojWiek = random.randint(1,100)\n",
        "\n",
        "if(mojWiek > 16):\n",
        "    print(\"Proszę kupić bilet normalny\")\n",
        "else:\n",
        "    print(\"Proszę kupić bilet ulgowy\")\n",
        "\n"
      ],
      "metadata": {
        "colab": {
          "base_uri": "https://localhost:8080/"
        },
        "id": "LC5zHC6EV_U2",
        "outputId": "f38fd48a-8cf8-4adc-f537-40d116bf2d32"
      },
      "execution_count": 54,
      "outputs": [
        {
          "output_type": "stream",
          "name": "stdout",
          "text": [
            "Proszę kupić bilet normalny\n"
          ]
        }
      ]
    },
    {
      "cell_type": "code",
      "source": [
        "# Znajdź w programie i popraw jeden błąd logiczny i jeden błąd typu danych\n",
        "liczba1 = int(35)\n",
        "liczba2 = int(15)\n",
        "\n",
        "logiczna = True\n",
        "\n",
        "wynik =  liczba1 - liczba2\n",
        "\n",
        "if (wynik > 10):\n",
        "    logiczna = True\n",
        "else:\n",
        "    logiczna = False\n",
        "\n",
        "print(logiczna)\n",
        "\n"
      ],
      "metadata": {
        "colab": {
          "base_uri": "https://localhost:8080/"
        },
        "id": "s7k_pMbpWQYx",
        "outputId": "f5b1c4d7-9eca-433b-c7a4-8ff1b50e386d"
      },
      "execution_count": 57,
      "outputs": [
        {
          "output_type": "stream",
          "name": "stdout",
          "text": [
            "True\n"
          ]
        }
      ]
    },
    {
      "cell_type": "code",
      "source": [
        "wynik = 20\n",
        "\n",
        "print(wynik << 10)   # mnożenie wyniku przez 2^10 (1024)  - przesunięcie w lewo o 10 bitów\n",
        "print(wynik >> 10)   # dzielenie wyniku przez 2^10 (1024) - przesunięcie w prawo o 10 bitów\n"
      ],
      "metadata": {
        "colab": {
          "base_uri": "https://localhost:8080/"
        },
        "id": "ItfU6DiLXOi_",
        "outputId": "48a862e7-adf4-49d8-86e8-aee3c4a80f91"
      },
      "execution_count": 60,
      "outputs": [
        {
          "output_type": "stream",
          "name": "stdout",
          "text": [
            "20480\n",
            "0\n"
          ]
        }
      ]
    },
    {
      "cell_type": "code",
      "source": [
        "# napisz program wypisujący różnicę pomiędzy sześcianami, a kwadratami liczb z listy\n",
        "liczby = [1, 2, 3, 5, 7, 11, 13, 17]\n",
        "\n",
        "for liczba in liczby:\n",
        "  szescian = liczba ** 3\n",
        "  kwadrat = liczba ** 2\n",
        "  print(f\"Liczba: {liczba} -> {szescian - kwadrat}\")"
      ],
      "metadata": {
        "colab": {
          "base_uri": "https://localhost:8080/"
        },
        "id": "lZcjh8-iYOVP",
        "outputId": "39b51f6e-afd4-4ec3-8cd6-e6616dc18d40"
      },
      "execution_count": 64,
      "outputs": [
        {
          "output_type": "stream",
          "name": "stdout",
          "text": [
            "Liczba: 1 -> 0\n",
            "Liczba: 2 -> 4\n",
            "Liczba: 3 -> 18\n",
            "Liczba: 5 -> 100\n",
            "Liczba: 7 -> 294\n",
            "Liczba: 11 -> 1210\n",
            "Liczba: 13 -> 2028\n",
            "Liczba: 17 -> 4624\n"
          ]
        }
      ]
    },
    {
      "cell_type": "code",
      "source": [
        "# napisz program wypisujący różnicę pomiędzy sześcianami, a kwadratami liczb z listy\n",
        "liczby = [1, 2, 3, 5, 7, 11, 13, 17]\n",
        "\n",
        "szescian = []\n",
        "kwadrat = []\n",
        "\n",
        "for liczba in liczby:\n",
        "  szescian.append(liczba ** 3)\n",
        "\n",
        "for liczba in liczby:  \n",
        "  kwadrat.append(liczba ** 2)\n",
        "\n",
        "for i in range(len(liczby)):\n",
        "  print(f\"Liczba: {liczby[i]} -> {szescian[i] - kwadrat[i]}\")\n",
        "\n"
      ],
      "metadata": {
        "colab": {
          "base_uri": "https://localhost:8080/"
        },
        "id": "wLTIJfDIa3OO",
        "outputId": "1eeb7e1b-3c21-486c-c8e8-fa61c2f86abd"
      },
      "execution_count": 66,
      "outputs": [
        {
          "output_type": "stream",
          "name": "stdout",
          "text": [
            "Liczba: 1 -> 0\n",
            "Liczba: 2 -> 4\n",
            "Liczba: 3 -> 18\n",
            "Liczba: 5 -> 100\n",
            "Liczba: 7 -> 294\n",
            "Liczba: 11 -> 1210\n",
            "Liczba: 13 -> 2028\n",
            "Liczba: 17 -> 4624\n"
          ]
        }
      ]
    },
    {
      "cell_type": "code",
      "source": [
        "# napisz program wypisujący wartość kolejnej liczby podzieloną przez poprzednią\n",
        "liczby = [0, 1, 2, 3, 5, 7, 11, 13, 17, 19]"
      ],
      "metadata": {
        "id": "y_--44GeZSLU"
      },
      "execution_count": null,
      "outputs": []
    }
  ]
}