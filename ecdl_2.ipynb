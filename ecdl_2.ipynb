{
  "nbformat": 4,
  "nbformat_minor": 0,
  "metadata": {
    "colab": {
      "name": "ecdl_2.ipynb",
      "provenance": [],
      "authorship_tag": "ABX9TyPT7mVsFI2wjZHUvhMQLnOt",
      "include_colab_link": true
    },
    "kernelspec": {
      "name": "python3",
      "display_name": "Python 3"
    },
    "language_info": {
      "name": "python"
    }
  },
  "cells": [
    {
      "cell_type": "markdown",
      "metadata": {
        "id": "view-in-github",
        "colab_type": "text"
      },
      "source": [
        "<a href=\"https://colab.research.google.com/github/rroszczyk/ecdl_python/blob/main/ecdl_2.ipynb\" target=\"_parent\"><img src=\"https://colab.research.google.com/assets/colab-badge.svg\" alt=\"Open In Colab\"/></a>"
      ]
    },
    {
      "cell_type": "markdown",
      "source": [
        "Myślenie komputacyjne to:\n",
        "1. Myślenie o komputerach i ile one kosztują\n",
        "2. **Analizowanie problemów i znajdowanie możliwych rozwiązań.**\n",
        "3. Używanie kalkulatora do obliczania wartości wyrażeń matematycznych\n",
        "4. Sprawdzanie błędów w programie przed jego wersjonowaniem\n",
        "\n",
        "Pojęcie kod maszyowy oznacza:\n",
        "1. **Ciąg zer i jedynek utworzony z kodu źródłowego.**\n",
        "2. Graficzny sposób reprezentacji algorytmu\n",
        "3. Kilka prostych instrukcji, które należy wykonać jedna po drugiej\n",
        "4. Opis objaśniający co program powinien robić i jak działać\n",
        "\n",
        "Proces jasno określający problemy, które mają zostać rozwiązane podczas tworzenia nowego programu nazywamy:\n",
        "1. **Analizowanie**\n",
        "2. Projektowanie\n",
        "3. Programowanie\n",
        "4. Wprowadzanie poprawek\n",
        "\n"
      ],
      "metadata": {
        "id": "beiA3BipIgqd"
      }
    },
    {
      "cell_type": "markdown",
      "source": [
        "10, \"napis\", ('ala', 'ma', 'kota'), True"
      ],
      "metadata": {
        "id": "bSadRUwTLvwV"
      }
    },
    {
      "cell_type": "code",
      "execution_count": 1,
      "metadata": {
        "colab": {
          "base_uri": "https://localhost:8080/"
        },
        "id": "T6RFTs6dIQrB",
        "outputId": "c4edfb6a-5e4a-4414-bf61-c5def8e9d1ea"
      },
      "outputs": [
        {
          "output_type": "stream",
          "name": "stdout",
          "text": [
            "<class 'int'>\n",
            "93995368303392\n"
          ]
        }
      ],
      "source": [
        "zmienna = 10\n",
        "print(type(zmienna))\n",
        "print(id(zmienna))"
      ]
    },
    {
      "cell_type": "code",
      "source": [
        "zmienna = \"napis\"\n",
        "print(type(zmienna))\n",
        "print(id(zmienna))"
      ],
      "metadata": {
        "colab": {
          "base_uri": "https://localhost:8080/"
        },
        "id": "-z-ZZzM_NLvL",
        "outputId": "9b3ddd1b-90fb-4080-9dd7-a1844d233e31"
      },
      "execution_count": 2,
      "outputs": [
        {
          "output_type": "stream",
          "name": "stdout",
          "text": [
            "<class 'str'>\n",
            "140487055705968\n"
          ]
        }
      ]
    },
    {
      "cell_type": "code",
      "source": [
        "zmienna = 3.14\n",
        "print(type(zmienna))\n",
        "print(id(zmienna))"
      ],
      "metadata": {
        "colab": {
          "base_uri": "https://localhost:8080/"
        },
        "id": "XOKEz8LsNX2J",
        "outputId": "4dde9c2d-1f8a-4017-9991-79793517eef1"
      },
      "execution_count": 3,
      "outputs": [
        {
          "output_type": "stream",
          "name": "stdout",
          "text": [
            "<class 'float'>\n",
            "140487132304784\n"
          ]
        }
      ]
    },
    {
      "cell_type": "code",
      "source": [
        "zmienna = True\n",
        "print(type(zmienna))\n",
        "print(id(zmienna))"
      ],
      "metadata": {
        "colab": {
          "base_uri": "https://localhost:8080/"
        },
        "id": "L5Q2IF6rNdLP",
        "outputId": "3334a0dc-5337-41c5-a866-eff8d867c089"
      },
      "execution_count": 4,
      "outputs": [
        {
          "output_type": "stream",
          "name": "stdout",
          "text": [
            "<class 'bool'>\n",
            "93995367629056\n"
          ]
        }
      ]
    },
    {
      "cell_type": "code",
      "source": [
        "zmienna = ('ala', 'ma', 'kota')\n",
        "print(type(zmienna))\n",
        "print(id(zmienna))"
      ],
      "metadata": {
        "colab": {
          "base_uri": "https://localhost:8080/"
        },
        "id": "Lue8z6o-NikH",
        "outputId": "79899310-8e63-40e9-bccf-75210ce66cdb"
      },
      "execution_count": 5,
      "outputs": [
        {
          "output_type": "stream",
          "name": "stdout",
          "text": [
            "<class 'tuple'>\n",
            "140487091693360\n"
          ]
        }
      ]
    },
    {
      "cell_type": "code",
      "source": [
        "zmienna = ['ala', 'ma', 'kota']\n",
        "print(type(zmienna))\n",
        "print(id(zmienna))"
      ],
      "metadata": {
        "colab": {
          "base_uri": "https://localhost:8080/"
        },
        "id": "n2opp8hnNnaV",
        "outputId": "f60f06d4-3865-41b6-9667-5533f7d18a75"
      },
      "execution_count": 6,
      "outputs": [
        {
          "output_type": "stream",
          "name": "stdout",
          "text": [
            "<class 'list'>\n",
            "140486920394224\n"
          ]
        }
      ]
    },
    {
      "cell_type": "code",
      "source": [
        "zmienna = {\"imie\": \"ala\", \"zwierze\": \"kot\"}\n",
        "print(type(zmienna))\n",
        "print(id(zmienna))"
      ],
      "metadata": {
        "colab": {
          "base_uri": "https://localhost:8080/"
        },
        "id": "e68J297HN1u2",
        "outputId": "d85b752c-9134-4d96-a19c-ae650fd2a140"
      },
      "execution_count": 7,
      "outputs": [
        {
          "output_type": "stream",
          "name": "stdout",
          "text": [
            "<class 'dict'>\n",
            "140486919612608\n"
          ]
        }
      ]
    },
    {
      "cell_type": "code",
      "source": [
        "krotka = ('ala', 'ma', 'kota')\n",
        "lista = ['ala', 'ma', 'kota']\n",
        "slownik = {\"imie\": \"ala\", \"zwierze\": \"kot\"}      # klucz - \"imię\" -> wartość -> \"ala\""
      ],
      "metadata": {
        "id": "2ejTuE5xOG8A"
      },
      "execution_count": 8,
      "outputs": []
    },
    {
      "cell_type": "code",
      "source": [
        "print(krotka[1])\n",
        "print(lista[2])\n",
        "print(slownik[\"zwierze\"])"
      ],
      "metadata": {
        "colab": {
          "base_uri": "https://localhost:8080/"
        },
        "id": "7RemZzE2OQbE",
        "outputId": "9a48f779-9d0f-40a7-fa40-eecdf05303fc"
      },
      "execution_count": 12,
      "outputs": [
        {
          "output_type": "stream",
          "name": "stdout",
          "text": [
            "ma\n",
            "kota\n",
            "kot\n"
          ]
        }
      ]
    },
    {
      "cell_type": "code",
      "source": [
        "a = 10 > 5\n",
        "print(a)"
      ],
      "metadata": {
        "colab": {
          "base_uri": "https://localhost:8080/"
        },
        "id": "BeOkllu2PIdU",
        "outputId": "576a6ec4-7413-447e-b150-b546de84825f"
      },
      "execution_count": 17,
      "outputs": [
        {
          "output_type": "stream",
          "name": "stdout",
          "text": [
            "True\n"
          ]
        }
      ]
    },
    {
      "cell_type": "code",
      "source": [
        "if 10 > 5:\n",
        "  print(\"Ala ma kota\")"
      ],
      "metadata": {
        "colab": {
          "base_uri": "https://localhost:8080/"
        },
        "id": "0TjIoX3nP6gG",
        "outputId": "cf409077-b67d-4f5f-c411-13fe46234752"
      },
      "execution_count": 18,
      "outputs": [
        {
          "output_type": "stream",
          "name": "stdout",
          "text": [
            "Ala ma kota\n"
          ]
        }
      ]
    },
    {
      "cell_type": "code",
      "source": [
        "zmienna = 2\n",
        "if zmienna > 5:\n",
        "  print(\"Ala ma kota\")\n",
        "else:\n",
        "  print(\"Ala ma psa\")"
      ],
      "metadata": {
        "colab": {
          "base_uri": "https://localhost:8080/"
        },
        "id": "lEcCGk3eQ3I0",
        "outputId": "69739fc8-64f7-439c-8350-80971a6199e1"
      },
      "execution_count": 20,
      "outputs": [
        {
          "output_type": "stream",
          "name": "stdout",
          "text": [
            "Ala ma psa\n"
          ]
        }
      ]
    },
    {
      "cell_type": "markdown",
      "source": [
        "```\n",
        "if (warunek):\n",
        "  blok_kodu\n",
        "  pierwsza_instrukcja_bloku\n",
        "  druga_instrukcja_bloku\n",
        "else:\n",
        "  drugi_blok_kodu\n",
        "  pierwsza_instrukcja_drugiego_bloku\n",
        "  druga_instrukcja_drugiego_bloku  \n",
        "```"
      ],
      "metadata": {
        "id": "JsXA19b1QPBf"
      }
    },
    {
      "cell_type": "code",
      "source": [
        "zmienna = int(input(\"Podaj liczbę: \"))\n",
        "if zmienna > 5:\n",
        "  print(\"Ala ma kota\")\n",
        "else:\n",
        "  print(\"Ala ma psa\")\n"
      ],
      "metadata": {
        "colab": {
          "base_uri": "https://localhost:8080/"
        },
        "id": "Net69SwJREqv",
        "outputId": "2e6853a5-2606-43c5-ae18-8a45154c5df6"
      },
      "execution_count": 24,
      "outputs": [
        {
          "output_type": "stream",
          "name": "stdout",
          "text": [
            "Podaj liczbę: 2\n",
            "Ala ma psa\n"
          ]
        }
      ]
    },
    {
      "cell_type": "code",
      "source": [
        "zmienna = \"5\"\n",
        "liczba = int(zmienna)\n",
        "print(f\"{zmienna}, {liczba}\")"
      ],
      "metadata": {
        "colab": {
          "base_uri": "https://localhost:8080/"
        },
        "id": "JxzgZZvyRrRf",
        "outputId": "1caf5b5d-6c94-4be3-ba69-d883207d14cd"
      },
      "execution_count": 25,
      "outputs": [
        {
          "output_type": "stream",
          "name": "stdout",
          "text": [
            "5, 5\n"
          ]
        }
      ]
    },
    {
      "cell_type": "markdown",
      "source": [
        "f\"dowolnym napisem {fragment_kodu_w_pythonie}\""
      ],
      "metadata": {
        "id": "Hgn69jWzSCAL"
      }
    },
    {
      "cell_type": "code",
      "source": [
        "t = \"liczba: {zmienna}\"       # zwykły napis\n",
        "print(t)\n",
        "s = f\"liczba: {zmienna}\"      # f-string\n",
        "print(s)\n",
        "print(zmienna)\n",
        "print(type(s))"
      ],
      "metadata": {
        "colab": {
          "base_uri": "https://localhost:8080/"
        },
        "id": "raVYuMKJSLPV",
        "outputId": "93010eb4-f252-4d35-f147-601223543a01"
      },
      "execution_count": 30,
      "outputs": [
        {
          "output_type": "stream",
          "name": "stdout",
          "text": [
            "liczba: {zmienna}\n",
            "liczba: 5\n",
            "5\n",
            "<class 'str'>\n"
          ]
        }
      ]
    },
    {
      "cell_type": "code",
      "source": [
        "liczba = .6               # 3.14, 5., .6\n",
        "print(f\"zmienna o nazwie: liczba, jest typu: {type(liczba)} i ma wartość: {liczba}\")"
      ],
      "metadata": {
        "colab": {
          "base_uri": "https://localhost:8080/"
        },
        "id": "MXb-idl3TIEh",
        "outputId": "12ac4c0c-f2c4-4506-c6c0-4cad637d4e45"
      },
      "execution_count": 37,
      "outputs": [
        {
          "output_type": "stream",
          "name": "stdout",
          "text": [
            "zmienna o nazwie: liczba, jest typu: <class 'float'> i ma wartość: 0.6\n"
          ]
        }
      ]
    },
    {
      "cell_type": "code",
      "source": [
        "liczba = float(5)\n",
        "print(f\"zmienna o nazwie: liczba, jest typu: {type(liczba)} i ma wartość: {liczba}\")"
      ],
      "metadata": {
        "colab": {
          "base_uri": "https://localhost:8080/"
        },
        "id": "jKSoDoqCUaZo",
        "outputId": "84570c29-b4ec-4eb7-8974-43dfc2d9fc50"
      },
      "execution_count": 38,
      "outputs": [
        {
          "output_type": "stream",
          "name": "stdout",
          "text": [
            "zmienna o nazwie: liczba, jest typu: <class 'float'> i ma wartość: 5.0\n"
          ]
        }
      ]
    },
    {
      "cell_type": "code",
      "source": [
        "liczba = int(3.14)\n",
        "print(f\"zmienna o nazwie: liczba, jest typu: {type(liczba)} i ma wartość: {liczba}\")"
      ],
      "metadata": {
        "colab": {
          "base_uri": "https://localhost:8080/"
        },
        "id": "F_UkjlUfUiqK",
        "outputId": "7075d3fb-2ce3-46a9-87cb-46a8df21e4bb"
      },
      "execution_count": 39,
      "outputs": [
        {
          "output_type": "stream",
          "name": "stdout",
          "text": [
            "zmienna o nazwie: liczba, jest typu: <class 'int'> i ma wartość: 3\n"
          ]
        }
      ]
    },
    {
      "cell_type": "code",
      "source": [
        "znak = \"A\"\n",
        "print(ord(znak))      # ord -> konwersja znaku na jego indeks w tabeli ASCII\n",
        "print(chr(67))        # chr -> konwersja liczby (indeksu) na znak z tabeli ASCII"
      ],
      "metadata": {
        "colab": {
          "base_uri": "https://localhost:8080/"
        },
        "id": "K84p6mITUtwd",
        "outputId": "c6574baf-767e-4bc1-d0e2-22991dfdd9f0"
      },
      "execution_count": 42,
      "outputs": [
        {
          "output_type": "stream",
          "name": "stdout",
          "text": [
            "65\n",
            "C\n"
          ]
        }
      ]
    },
    {
      "cell_type": "code",
      "source": [
        ""
      ],
      "metadata": {
        "id": "GGLpU1MvUyIq"
      },
      "execution_count": null,
      "outputs": []
    },
    {
      "cell_type": "code",
      "source": [
        "liczby = [1, 2, 3, 4, 5, 6, 7, 8, 9]\n",
        "\n",
        "for liczba in liczby:\n",
        "  print(f\"{liczba} \", end=\"\")"
      ],
      "metadata": {
        "colab": {
          "base_uri": "https://localhost:8080/"
        },
        "id": "v6mHyG_JVG4_",
        "outputId": "0c6e9c3a-f6da-47e7-e897-72b8c1054144"
      },
      "execution_count": 49,
      "outputs": [
        {
          "output_type": "stream",
          "name": "stdout",
          "text": [
            "1 2 3 4 5 6 7 8 9 "
          ]
        }
      ]
    },
    {
      "cell_type": "code",
      "source": [
        "napis = \"Ala ma kota\"\n",
        "\n",
        "for znak in napis:\n",
        "  print(znak)"
      ],
      "metadata": {
        "colab": {
          "base_uri": "https://localhost:8080/"
        },
        "id": "LMccRN3XV6X2",
        "outputId": "4d8181c5-93b1-4d6c-8024-5b66234c15b5"
      },
      "execution_count": 44,
      "outputs": [
        {
          "output_type": "stream",
          "name": "stdout",
          "text": [
            "A\n",
            "l\n",
            "a\n",
            " \n",
            "m\n",
            "a\n",
            " \n",
            "k\n",
            "o\n",
            "t\n",
            "a\n"
          ]
        }
      ]
    },
    {
      "cell_type": "code",
      "source": [
        "for y in range(0, 16):                    # 17 = 16 + 1     33 = 32 + 1   32 = 16 * 2\n",
        "  for x in range(1, 17):\n",
        "    idx = y * 16 + x                      # idx = y * 16 + x\n",
        "    if (idx < 10):\n",
        "      print(\" \", end='')\n",
        "    if (idx < 100):\n",
        "      print(\" \", end='')\n",
        "    if idx in [8, 9, 10, 13]:\n",
        "      print(f\"{idx}: '-' \", end='')\n",
        "    else:\n",
        "      print(f\"{idx}: '{chr(idx)}' \", end='')\n",
        "  print(\"\")"
      ],
      "metadata": {
        "colab": {
          "base_uri": "https://localhost:8080/"
        },
        "id": "xZ8hvHvwWjjn",
        "outputId": "e8a7655b-273a-413b-9f73-a97757ba460c"
      },
      "execution_count": 78,
      "outputs": [
        {
          "output_type": "stream",
          "name": "stdout",
          "text": [
            "  1: '\u0001'   2: '\u0002'   3: '\u0003'   4: '\u0004'   5: '\u0005'   6: '\u0006'   7: '\u0007'   8: '-'   9: '-'  10: '-'  11: '\u000b'  12: '\f'  13: '-'  14: '\u000e'  15: '\u000f'  16: '\u0010' \n",
            " 17: '\u0011'  18: '\u0012'  19: '\u0013'  20: '\u0014'  21: '\u0015'  22: '\u0016'  23: '\u0017'  24: '\u0018'  25: '\u0019'  26: '\u001a'  27: '\u001b'  28: '\u001c'  29: '\u001d'  30: '\u001e'  31: '\u001f'  32: ' ' \n",
            " 33: '!'  34: '\"'  35: '#'  36: '$'  37: '%'  38: '&'  39: '''  40: '('  41: ')'  42: '*'  43: '+'  44: ','  45: '-'  46: '.'  47: '/'  48: '0' \n",
            " 49: '1'  50: '2'  51: '3'  52: '4'  53: '5'  54: '6'  55: '7'  56: '8'  57: '9'  58: ':'  59: ';'  60: '<'  61: '='  62: '>'  63: '?'  64: '@' \n",
            " 65: 'A'  66: 'B'  67: 'C'  68: 'D'  69: 'E'  70: 'F'  71: 'G'  72: 'H'  73: 'I'  74: 'J'  75: 'K'  76: 'L'  77: 'M'  78: 'N'  79: 'O'  80: 'P' \n",
            " 81: 'Q'  82: 'R'  83: 'S'  84: 'T'  85: 'U'  86: 'V'  87: 'W'  88: 'X'  89: 'Y'  90: 'Z'  91: '['  92: '\\'  93: ']'  94: '^'  95: '_'  96: '`' \n",
            " 97: 'a'  98: 'b'  99: 'c' 100: 'd' 101: 'e' 102: 'f' 103: 'g' 104: 'h' 105: 'i' 106: 'j' 107: 'k' 108: 'l' 109: 'm' 110: 'n' 111: 'o' 112: 'p' \n",
            "113: 'q' 114: 'r' 115: 's' 116: 't' 117: 'u' 118: 'v' 119: 'w' 120: 'x' 121: 'y' 122: 'z' 123: '{' 124: '|' 125: '}' 126: '~' 127: '' 128: '' \n",
            "129: '' 130: '' 131: '' 132: '' 133: '' 134: '' 135: '' 136: '' 137: '' 138: '' 139: '' 140: '' 141: '' 142: '' 143: '' 144: '' \n",
            "145: '' 146: '' 147: '' 148: '' 149: '' 150: '' 151: '' 152: '' 153: '' 154: '' 155: '' 156: '' 157: '' 158: '' 159: '' 160: ' ' \n",
            "161: '¡' 162: '¢' 163: '£' 164: '¤' 165: '¥' 166: '¦' 167: '§' 168: '¨' 169: '©' 170: 'ª' 171: '«' 172: '¬' 173: '­' 174: '®' 175: '¯' 176: '°' \n",
            "177: '±' 178: '²' 179: '³' 180: '´' 181: 'µ' 182: '¶' 183: '·' 184: '¸' 185: '¹' 186: 'º' 187: '»' 188: '¼' 189: '½' 190: '¾' 191: '¿' 192: 'À' \n",
            "193: 'Á' 194: 'Â' 195: 'Ã' 196: 'Ä' 197: 'Å' 198: 'Æ' 199: 'Ç' 200: 'È' 201: 'É' 202: 'Ê' 203: 'Ë' 204: 'Ì' 205: 'Í' 206: 'Î' 207: 'Ï' 208: 'Ð' \n",
            "209: 'Ñ' 210: 'Ò' 211: 'Ó' 212: 'Ô' 213: 'Õ' 214: 'Ö' 215: '×' 216: 'Ø' 217: 'Ù' 218: 'Ú' 219: 'Û' 220: 'Ü' 221: 'Ý' 222: 'Þ' 223: 'ß' 224: 'à' \n",
            "225: 'á' 226: 'â' 227: 'ã' 228: 'ä' 229: 'å' 230: 'æ' 231: 'ç' 232: 'è' 233: 'é' 234: 'ê' 235: 'ë' 236: 'ì' 237: 'í' 238: 'î' 239: 'ï' 240: 'ð' \n",
            "241: 'ñ' 242: 'ò' 243: 'ó' 244: 'ô' 245: 'õ' 246: 'ö' 247: '÷' 248: 'ø' 249: 'ù' 250: 'ú' 251: 'û' 252: 'ü' 253: 'ý' 254: 'þ' 255: 'ÿ' 256: 'Ā' \n"
          ]
        }
      ]
    },
    {
      "cell_type": "code",
      "source": [
        "znak = chr(9)                       # tabulator\n",
        "print(f\"{ord(znak)}, '{znak}'\")\n",
        "\n",
        "znak = chr(8)                       # backspace\n",
        "print(f\"{ord(znak)}, '{znak}'\")\n",
        "\n",
        "znak = chr(10)                      # LF line feed (przejście do nowego wiersza w systemie UNIX)\n",
        "print(f\"{ord(znak)}, '{znak}'\")\n",
        "\n",
        "znak = chr(13)                      # CR cartridge return (powrót karetki) - razem z CRLF w Windows znak końca wiersza\n",
        "print(f\"{ord(znak)}, '{znak}'\")\n"
      ],
      "metadata": {
        "colab": {
          "base_uri": "https://localhost:8080/"
        },
        "id": "K6rzljfBaoBA",
        "outputId": "01b362cd-55aa-4214-a74c-c2a93bf861e2"
      },
      "execution_count": 73,
      "outputs": [
        {
          "output_type": "stream",
          "name": "stdout",
          "text": [
            "9, '\t'\n",
            "8, '\b'\n",
            "10, '\n",
            "'\n",
            "13, '\r'\n"
          ]
        }
      ]
    },
    {
      "cell_type": "code",
      "source": [
        "print(\"tabulator: '\\t'\")\n",
        "print(\"znak nowego wiersza: '\\n'\")"
      ],
      "metadata": {
        "colab": {
          "base_uri": "https://localhost:8080/"
        },
        "id": "LEy21w66b3Dd",
        "outputId": "6047b1f4-0e39-468e-802c-f3e63b89f965"
      },
      "execution_count": 75,
      "outputs": [
        {
          "output_type": "stream",
          "name": "stdout",
          "text": [
            "tabulator: '\t'\n",
            "znak nowego wiersza: '\n",
            "'\n"
          ]
        }
      ]
    },
    {
      "cell_type": "code",
      "source": [
        "slownik = {\"1\": \"Adrian\", \"2\": \"Joanna\", \"3\": \"Karol\", \"4\": \"Kuba\", \"5\": \"Małgorzata\", \"6\": \"Paweł\", \"7\": \"Piotr\"}\n",
        "\n",
        "for element in slownik.items():           # ze słownika wyjmujemy tuple\n",
        "  print(f\"{type(element)}, {element}\")\n",
        "\n",
        "for (k, v) in slownik.items():            # ze słownika wyjmujemy rozpakowane tuple do zmiennych k, v\n",
        "  print(f\"klucz: {k}, wartość: {v}\")\n",
        "\n",
        "for k in slownik.keys():                  # ze słownika wyjmujemy klucze\n",
        "  print(f\"{type(k)}, {k}\")\n",
        "\n",
        "for v in slownik.values():                # ze słownika wyjmujemy wartości\n",
        "  print(f\"{type(v)}, {v}\")  "
      ],
      "metadata": {
        "colab": {
          "base_uri": "https://localhost:8080/"
        },
        "id": "7rHXupMec0au",
        "outputId": "e8613bff-211b-4f7a-c98f-e9779c83ce07"
      },
      "execution_count": 93,
      "outputs": [
        {
          "output_type": "stream",
          "name": "stdout",
          "text": [
            "<class 'tuple'>, ('1', 'Adrian')\n",
            "<class 'tuple'>, ('2', 'Joanna')\n",
            "<class 'tuple'>, ('3', 'Karol')\n",
            "<class 'tuple'>, ('4', 'Kuba')\n",
            "<class 'tuple'>, ('5', 'Małgorzata')\n",
            "<class 'tuple'>, ('6', 'Paweł')\n",
            "<class 'tuple'>, ('7', 'Piotr')\n",
            "klucz: 1, wartość: Adrian\n",
            "klucz: 2, wartość: Joanna\n",
            "klucz: 3, wartość: Karol\n",
            "klucz: 4, wartość: Kuba\n",
            "klucz: 5, wartość: Małgorzata\n",
            "klucz: 6, wartość: Paweł\n",
            "klucz: 7, wartość: Piotr\n",
            "<class 'str'>, 1\n",
            "<class 'str'>, 2\n",
            "<class 'str'>, 3\n",
            "<class 'str'>, 4\n",
            "<class 'str'>, 5\n",
            "<class 'str'>, 6\n",
            "<class 'str'>, 7\n",
            "<class 'str'>, Adrian\n",
            "<class 'str'>, Joanna\n",
            "<class 'str'>, Karol\n",
            "<class 'str'>, Kuba\n",
            "<class 'str'>, Małgorzata\n",
            "<class 'str'>, Paweł\n",
            "<class 'str'>, Piotr\n"
          ]
        }
      ]
    },
    {
      "cell_type": "code",
      "source": [
        "slownik = {\"1\": \"Adrian\", \"2\": \"Joanna\", \"3\": \"Karol\", \"4\": \"Kuba\", \"5\": \"Małgorzata\", \"6\": \"Paweł\", \"7\": \"Piotr\"}\n",
        "\n",
        "lista = list(slownik.keys())          # rzutowanie typu lista_kluczy na listę\n"
      ],
      "metadata": {
        "colab": {
          "base_uri": "https://localhost:8080/"
        },
        "id": "XLK2wMK7eyO1",
        "outputId": "0f9caed9-4301-4e6b-a298-fa9b68492d91"
      },
      "execution_count": 95,
      "outputs": [
        {
          "output_type": "stream",
          "name": "stdout",
          "text": [
            "<class 'list'>\n"
          ]
        }
      ]
    },
    {
      "cell_type": "code",
      "source": [
        "zmienna = 10\n",
        "print(f\"zmienna typ: {type(zmienna)}, adres: {id(zmienna)}, wartość: {zmienna}\")"
      ],
      "metadata": {
        "colab": {
          "base_uri": "https://localhost:8080/"
        },
        "id": "8V61RNAkfWBB",
        "outputId": "e07fa852-10ae-4261-d2a0-02da3f1a68a6"
      },
      "execution_count": 100,
      "outputs": [
        {
          "output_type": "stream",
          "name": "stdout",
          "text": [
            "zmienna typ: <class 'int'>, adres: 93995368303392, wartość: 10\n"
          ]
        }
      ]
    },
    {
      "cell_type": "code",
      "source": [
        "druga_zmienna = zmienna\n",
        "print(f\"zmienna typ: {type(zmienna)}, adres: {id(zmienna)}, wartość: {zmienna}\")\n",
        "print(f\"zmienna typ: {type(druga_zmienna)}, adres: {id(druga_zmienna)}, wartość: {druga_zmienna}\")"
      ],
      "metadata": {
        "colab": {
          "base_uri": "https://localhost:8080/"
        },
        "id": "hR5aT1bXflbx",
        "outputId": "6b7bea52-55a3-423f-d337-7b88a127757d"
      },
      "execution_count": 101,
      "outputs": [
        {
          "output_type": "stream",
          "name": "stdout",
          "text": [
            "zmienna typ: <class 'int'>, adres: 93995368303392, wartość: 10\n",
            "zmienna typ: <class 'int'>, adres: 93995368303392, wartość: 10\n"
          ]
        }
      ]
    },
    {
      "cell_type": "code",
      "source": [
        "zmienna = 100\n",
        "print(f\"zmienna typ: {type(zmienna)}, adres: {id(zmienna)}, wartość: {zmienna}\")\n",
        "print(f\"zmienna typ: {type(druga_zmienna)}, adres: {id(druga_zmienna)}, wartość: {druga_zmienna}\")"
      ],
      "metadata": {
        "colab": {
          "base_uri": "https://localhost:8080/"
        },
        "id": "AwSkcs9IgLDo",
        "outputId": "1c25066c-5bc4-4dcc-f5d5-2a49f3e8bcc6"
      },
      "execution_count": 102,
      "outputs": [
        {
          "output_type": "stream",
          "name": "stdout",
          "text": [
            "zmienna typ: <class 'int'>, adres: 93995368306272, wartość: 100\n",
            "zmienna typ: <class 'int'>, adres: 93995368303392, wartość: 10\n"
          ]
        }
      ]
    },
    {
      "cell_type": "code",
      "source": [
        "a = 10\n",
        "b = 3\n",
        "\n",
        "c = a / b   # dzielenie zmiennoprzecionkowe\n",
        "d = a % b   # reszta z dzielenia\n",
        "e = a // b  # dzielenie całkowite bez reszty e = int(a / b)\n",
        "\n",
        "print(f\"a: {a}, b: {b}, c: {c}, d: {d}, e: {e}\")"
      ],
      "metadata": {
        "colab": {
          "base_uri": "https://localhost:8080/"
        },
        "id": "TUafRhFNgl_8",
        "outputId": "5a6599c2-b606-44b6-ab91-8b28e82af53d"
      },
      "execution_count": 103,
      "outputs": [
        {
          "output_type": "stream",
          "name": "stdout",
          "text": [
            "a: 10, b: 3, c: 3.3333333333333335, d: 1, e: 3\n"
          ]
        }
      ]
    },
    {
      "cell_type": "code",
      "source": [
        "i = 0\n",
        "while i <= 10:\n",
        "  print(f\"aktualna wartość i to: {i}\")\n",
        "  i = i + 1  "
      ],
      "metadata": {
        "colab": {
          "base_uri": "https://localhost:8080/"
        },
        "id": "Ld1ReDW8ipZF",
        "outputId": "eeca7c91-4e59-48a4-81ea-db4c92c328ed"
      },
      "execution_count": 105,
      "outputs": [
        {
          "output_type": "stream",
          "name": "stdout",
          "text": [
            "aktualna wartość i to: 0\n",
            "aktualna wartość i to: 1\n",
            "aktualna wartość i to: 2\n",
            "aktualna wartość i to: 3\n",
            "aktualna wartość i to: 4\n",
            "aktualna wartość i to: 5\n",
            "aktualna wartość i to: 6\n",
            "aktualna wartość i to: 7\n",
            "aktualna wartość i to: 8\n",
            "aktualna wartość i to: 9\n",
            "aktualna wartość i to: 10\n"
          ]
        }
      ]
    },
    {
      "cell_type": "code",
      "source": [
        "i = 0\n",
        "while True:\n",
        "  i = i + 1\n",
        "  if (i % 3 == 0):\n",
        "    continue            # continue -> wraca do początku przetwarzania pętli while\n",
        "  if (i >= 15):\n",
        "    break               # while -> przerywa przetwarzanie pętli while\n",
        "  print(f\"{i}\")\n",
        "\n",
        "print(f\"Aktualna wartość i to: {i}\")"
      ],
      "metadata": {
        "colab": {
          "base_uri": "https://localhost:8080/"
        },
        "id": "OdUdx_zdjNlb",
        "outputId": "1e403836-4e25-4572-b00f-da0d5195a798"
      },
      "execution_count": 107,
      "outputs": [
        {
          "output_type": "stream",
          "name": "stdout",
          "text": [
            "1\n",
            "2\n",
            "4\n",
            "5\n",
            "7\n",
            "8\n",
            "10\n",
            "11\n",
            "13\n",
            "14\n",
            "Aktualna wartość i to: 16\n"
          ]
        }
      ]
    },
    {
      "cell_type": "code",
      "source": [
        "i = 10\n",
        "\n",
        "i = i + 1\n",
        "print(i)\n",
        "\n",
        "i += 1        # i = i + 1\n",
        "print(i)\n",
        "\n",
        "i -= 1        # i = i - 1\n",
        "print(i)\n",
        "\n",
        "i //= 2       # i = i // 2\n",
        "print(i)\n",
        "\n",
        "i %= 2        # i = i % 2\n",
        "print(i)"
      ],
      "metadata": {
        "colab": {
          "base_uri": "https://localhost:8080/"
        },
        "id": "ta7tfTbvkrbE",
        "outputId": "44e709a6-1064-4556-b144-f07d732fc24b"
      },
      "execution_count": 113,
      "outputs": [
        {
          "output_type": "stream",
          "name": "stdout",
          "text": [
            "11\n",
            "12\n",
            "11\n",
            "5\n",
            "1\n"
          ]
        }
      ]
    },
    {
      "cell_type": "code",
      "source": [
        "i = 5 ** 2      # ** - potęgowanie odpowiednik ^\n",
        "print(i)"
      ],
      "metadata": {
        "colab": {
          "base_uri": "https://localhost:8080/"
        },
        "id": "tUSc3R6zlVUz",
        "outputId": "a28c7273-1f6c-4fad-95cd-c1d6ac143f75"
      },
      "execution_count": 114,
      "outputs": [
        {
          "output_type": "stream",
          "name": "stdout",
          "text": [
            "25\n"
          ]
        }
      ]
    },
    {
      "cell_type": "code",
      "source": [
        "a = 'Ala'\n",
        "\n",
        "b = a * 10\n",
        "\n",
        "print(b)"
      ],
      "metadata": {
        "colab": {
          "base_uri": "https://localhost:8080/"
        },
        "id": "xBHWtaPelj5A",
        "outputId": "f4ae560f-1717-4765-d7ad-921d9c4eaa52"
      },
      "execution_count": 116,
      "outputs": [
        {
          "output_type": "stream",
          "name": "stdout",
          "text": [
            "AlaAlaAlaAlaAlaAlaAlaAlaAlaAla\n"
          ]
        }
      ]
    },
    {
      "cell_type": "code",
      "source": [
        "a = 5\n",
        "b = 10\n",
        "\n",
        "c = a > b       # większe\n",
        "c = a < b       # mniejsze\n",
        "c = a == b      # równe\n",
        "c = a != b      # nie równe\n",
        "\n",
        "c = a > b       # większe\n",
        "\n",
        "#print(f\"{not c}\")     # not c -> negacja c\n",
        "\n",
        "print(\"Tabela Boolea dla operacji AND\")\n",
        "for a in [True, False]:\n",
        "  for b in [True, False]:\n",
        "    print(f\"{a} {b} {a and b}\")\n",
        "\n",
        "for i in range(1, 101):\n",
        "  if i % 3 == 0 and i % 10 == 0:\n",
        "    print(f\"Liczba {i} jest podzielna przez 3 oraz 10\")\n",
        "\n",
        "print(\"Tabela Boolea dla operacji OR\")\n",
        "for a in [True, False]:\n",
        "  for b in [True, False]:\n",
        "    print(f\"{a} {b} {a or b}\")    \n",
        "\n",
        "for i in range(1, 101):\n",
        "  if i % 3 == 0 or i % 10 == 0:\n",
        "    print(f\"Liczba {i} jest podzielna przez 3 lub 10\")\n"
      ],
      "metadata": {
        "colab": {
          "base_uri": "https://localhost:8080/"
        },
        "id": "x2ScCGX0mFVr",
        "outputId": "5de34ac5-db56-455f-abd5-5264ee4ce61b"
      },
      "execution_count": 125,
      "outputs": [
        {
          "output_type": "stream",
          "name": "stdout",
          "text": [
            "Tabela Boolea dla operacji AND\n",
            "True True True\n",
            "True False False\n",
            "False True False\n",
            "False False False\n",
            "Liczba 30 jest podzielna przez 3 oraz 10\n",
            "Liczba 60 jest podzielna przez 3 oraz 10\n",
            "Liczba 90 jest podzielna przez 3 oraz 10\n",
            "Tabela Boolea dla operacji OR\n",
            "True True True\n",
            "True False True\n",
            "False True True\n",
            "False False False\n",
            "Liczba 3 jest podzielna przez 3 lub 10\n",
            "Liczba 6 jest podzielna przez 3 lub 10\n",
            "Liczba 9 jest podzielna przez 3 lub 10\n",
            "Liczba 10 jest podzielna przez 3 lub 10\n",
            "Liczba 12 jest podzielna przez 3 lub 10\n",
            "Liczba 15 jest podzielna przez 3 lub 10\n",
            "Liczba 18 jest podzielna przez 3 lub 10\n",
            "Liczba 20 jest podzielna przez 3 lub 10\n",
            "Liczba 21 jest podzielna przez 3 lub 10\n",
            "Liczba 24 jest podzielna przez 3 lub 10\n",
            "Liczba 27 jest podzielna przez 3 lub 10\n",
            "Liczba 30 jest podzielna przez 3 lub 10\n",
            "Liczba 33 jest podzielna przez 3 lub 10\n",
            "Liczba 36 jest podzielna przez 3 lub 10\n",
            "Liczba 39 jest podzielna przez 3 lub 10\n",
            "Liczba 40 jest podzielna przez 3 lub 10\n",
            "Liczba 42 jest podzielna przez 3 lub 10\n",
            "Liczba 45 jest podzielna przez 3 lub 10\n",
            "Liczba 48 jest podzielna przez 3 lub 10\n",
            "Liczba 50 jest podzielna przez 3 lub 10\n",
            "Liczba 51 jest podzielna przez 3 lub 10\n",
            "Liczba 54 jest podzielna przez 3 lub 10\n",
            "Liczba 57 jest podzielna przez 3 lub 10\n",
            "Liczba 60 jest podzielna przez 3 lub 10\n",
            "Liczba 63 jest podzielna przez 3 lub 10\n",
            "Liczba 66 jest podzielna przez 3 lub 10\n",
            "Liczba 69 jest podzielna przez 3 lub 10\n",
            "Liczba 70 jest podzielna przez 3 lub 10\n",
            "Liczba 72 jest podzielna przez 3 lub 10\n",
            "Liczba 75 jest podzielna przez 3 lub 10\n",
            "Liczba 78 jest podzielna przez 3 lub 10\n",
            "Liczba 80 jest podzielna przez 3 lub 10\n",
            "Liczba 81 jest podzielna przez 3 lub 10\n",
            "Liczba 84 jest podzielna przez 3 lub 10\n",
            "Liczba 87 jest podzielna przez 3 lub 10\n",
            "Liczba 90 jest podzielna przez 3 lub 10\n",
            "Liczba 93 jest podzielna przez 3 lub 10\n",
            "Liczba 96 jest podzielna przez 3 lub 10\n",
            "Liczba 99 jest podzielna przez 3 lub 10\n",
            "Liczba 100 jest podzielna przez 3 lub 10\n"
          ]
        }
      ]
    },
    {
      "cell_type": "code",
      "source": [
        "a = False\n",
        "\n",
        "b = 2 == 7\n",
        "\n",
        "c = []  # False (fałsz)\n",
        "print(f\"c: {type(c)}\")\n",
        "\n",
        "if not c: \n",
        "  print(\"lista c nie ma żadnych elementów i jest fałszem\")\n",
        "\n",
        "d = ()  # False (fałsz)\n",
        "print(f\"d: {type(d)}\")\n",
        "\n",
        "if not d: \n",
        "  print(\"krotka d nie ma żadnych elementów i jest fałszem\")\n",
        "\n",
        "e = {}  # False (fałsz)\n",
        "print(f\"e: {type(e)}\")\n",
        "\n",
        "if not e: \n",
        "  print(\"słownik e nie ma żadnych elementów i jest fałszem\")\n",
        "\n",
        "g = 5 - 5 # False (fałsz)\n",
        "print(f\"g: {type(g)}\")\n",
        "\n",
        "if not g: \n",
        "  print(\"wartość zero jest fałszem\")\n",
        "\n",
        "z = None # False (fałsz) \n",
        "print(f\"z: {type(z)}\")\n",
        "\n",
        "if not z:\n",
        "  print(\"None jest fałszem\")"
      ],
      "metadata": {
        "colab": {
          "base_uri": "https://localhost:8080/"
        },
        "id": "nIM5_ttvoSEU",
        "outputId": "935ef65c-8364-4750-e27a-3b58a9f4102c"
      },
      "execution_count": 135,
      "outputs": [
        {
          "output_type": "stream",
          "name": "stdout",
          "text": [
            "c: <class 'list'>\n",
            "lista c nie ma żadnych elementów i jest fałszem\n",
            "d: <class 'tuple'>\n",
            "krotka d nie ma żadnych elementów i jest fałszem\n",
            "e: <class 'dict'>\n",
            "słownik e nie ma żadnych elementów i jest fałszem\n",
            "g: <class 'int'>\n",
            "wartość zero jest fałszem\n",
            "z: <class 'NoneType'>\n",
            "None jest fałszem\n"
          ]
        }
      ]
    },
    {
      "cell_type": "code",
      "source": [
        "x = 0b0011            # OR dla każdego bitu z obu liczb czyli | 0 | 0 | 1 | 1 |\n",
        "y = 0b1100            #                                       | 1 | 1 | 0 | 0 |\n",
        "                      # OR                                    | 1 | 1 | 1 | 1 |\n",
        "\n",
        "print(f\"x = {x}\")\n",
        "print(f\"y = {y}\")\n",
        "\n",
        "print(f\"x + y = {x + y}\")\n",
        "print(f\"x | y = {x | y}\")\n",
        "\n",
        "z = x | y\n",
        "print(\"x {0:{fill}8b}\".format(x, fill='0'))\n",
        "print(\"y {0:{fill}8b}\".format(y, fill='0'))\n",
        "print(\"wynik {0:{fill}8b}\".format(z, fill='0'))"
      ],
      "metadata": {
        "colab": {
          "base_uri": "https://localhost:8080/"
        },
        "id": "lww9Nf69qCCn",
        "outputId": "1a135bfa-8923-49fe-dce2-366b80b38227"
      },
      "execution_count": 144,
      "outputs": [
        {
          "output_type": "stream",
          "name": "stdout",
          "text": [
            "x = 3\n",
            "y = 12\n",
            "x + y = 15\n",
            "x | y = 15\n",
            "x 00000011\n",
            "y 00001100\n",
            "wynik 00001111\n"
          ]
        }
      ]
    },
    {
      "cell_type": "code",
      "source": [
        "lubi_jablka = 0b0001\n",
        "lubi_banany = 0b0010\n",
        "lubi_cytryny = 0b0100\n",
        "lubi_pomarancze = 0b1000\n",
        "\n",
        "slownik = {\"ala\": lubi_jablka + lubi_banany, \"basia\": lubi_jablka + lubi_cytryny, \"kasia\": lubi_jablka + lubi_pomarancze + lubi_cytryny}\n",
        "\n",
        "for k, v in slownik.items():\n",
        "  print(f\"{k} kod: {v} \", end='')\n",
        "  if v & lubi_jablka:\n",
        "    print(\"lubi jabłka \", end='')\n",
        "  if v & lubi_banany:\n",
        "    print(\"lubi banany \", end='')\n",
        "  if v & lubi_cytryny:\n",
        "    print(\"lubi cytryny \", end='')        \n",
        "  if v & lubi_pomarancze:\n",
        "    print(\"lubi pomarancze\", end='')    \n",
        "  print(\"\")"
      ],
      "metadata": {
        "colab": {
          "base_uri": "https://localhost:8080/"
        },
        "id": "9GJ-Jc35r4Kp",
        "outputId": "0071dae5-ddcc-41e5-8dab-efb44413885c"
      },
      "execution_count": 153,
      "outputs": [
        {
          "output_type": "stream",
          "name": "stdout",
          "text": [
            "ala kod: 3 lubi jabłka lubi banany \n",
            "basia kod: 5 lubi jabłka lubi cytryny \n",
            "kasia kod: 13 lubi jabłka lubi cytryny lubi pomarancze\n"
          ]
        }
      ]
    },
    {
      "cell_type": "code",
      "source": [
        "a = [5]\n",
        "b = a\n",
        "\n",
        "if a == b:\n",
        "  print(\"obiekty mają takie same wartości\")\n",
        "\n",
        "print(id(a))\n",
        "print(id(b))\n",
        "\n",
        "if a is b:\n",
        "  print(\"To ten sam obiekt i zajmuje to samo miejsce w pamięci\")\n",
        "else:\n",
        "  print(\"To są dwa różne obiekty\")"
      ],
      "metadata": {
        "colab": {
          "base_uri": "https://localhost:8080/"
        },
        "id": "hNPH_9NRtrPM",
        "outputId": "74308ce9-0818-4d7a-eeda-df6cf8fae4d6"
      },
      "execution_count": 159,
      "outputs": [
        {
          "output_type": "stream",
          "name": "stdout",
          "text": [
            "obiekty mają takie same wartości\n",
            "140486917780496\n",
            "140486917780496\n",
            "To ten sam obiekt i zajmuje to samo miejsce w pamięcie\n"
          ]
        }
      ]
    },
    {
      "cell_type": "code",
      "source": [
        "a = [5]\n",
        "b = [5]\n",
        "\n",
        "if a == b:\n",
        "  print(\"obiekty mają takie same wartości\")\n",
        "\n",
        "print(id(a))\n",
        "print(id(b))\n",
        "\n",
        "if a is b:\n",
        "  print(\"To ten sam obiekt i zajmuje to samo miejsce w pamięci\")\n",
        "else:\n",
        "  print(\"To są dwa różne obiekty\")"
      ],
      "metadata": {
        "colab": {
          "base_uri": "https://localhost:8080/"
        },
        "id": "gaQHXzRjuQke",
        "outputId": "51c9b463-50e5-463c-8d8a-246c88850e8e"
      },
      "execution_count": 160,
      "outputs": [
        {
          "output_type": "stream",
          "name": "stdout",
          "text": [
            "obiekty mają takie same wartości\n",
            "140486917649184\n",
            "140486918135632\n",
            "To są dwa różne obiekty\n"
          ]
        }
      ]
    },
    {
      "cell_type": "code",
      "source": [
        "a = [5]\n",
        "b = [5]\n",
        "\n",
        "c = a is b \n",
        "print(c)"
      ],
      "metadata": {
        "colab": {
          "base_uri": "https://localhost:8080/"
        },
        "id": "R1HaCN6VuRtw",
        "outputId": "9bddad0c-db39-4f6b-dbfc-b9dbcd9f9f5d"
      },
      "execution_count": 163,
      "outputs": [
        {
          "output_type": "stream",
          "name": "stdout",
          "text": [
            "False\n"
          ]
        }
      ]
    },
    {
      "cell_type": "code",
      "source": [
        "a = 5\n",
        "\n",
        "print(type(a))\n",
        "\n",
        "c = type(a) is int\n",
        "\n",
        "print(c)\n",
        "\n"
      ],
      "metadata": {
        "colab": {
          "base_uri": "https://localhost:8080/"
        },
        "id": "7FrDWNQrusib",
        "outputId": "5a1d6542-f850-4a24-9090-3a55210743a6"
      },
      "execution_count": 165,
      "outputs": [
        {
          "output_type": "stream",
          "name": "stdout",
          "text": [
            "<class 'int'>\n",
            "True\n"
          ]
        }
      ]
    },
    {
      "cell_type": "code",
      "source": [
        "a = [\"5.\"]\n",
        "\n",
        "if type(a) is int:\n",
        "  print(\"a jest zmienną całkowitoliczbową\")\n",
        "elif type(a) is str:\n",
        "  print(\"a jest zmienną tpu napis\")  \n",
        "elif type(a) is float:\n",
        "  print(\"a jest zmienną tpu zmiennoprzecinkowego\")    \n",
        "else:\n",
        "  print(\"Nie wiem co to za typ danych\")"
      ],
      "metadata": {
        "colab": {
          "base_uri": "https://localhost:8080/"
        },
        "id": "hjwPdKhLu4lc",
        "outputId": "fd1d4ae5-b6ad-43c3-81f0-50bc15b59957"
      },
      "execution_count": 169,
      "outputs": [
        {
          "output_type": "stream",
          "name": "stdout",
          "text": [
            "Nie wiem co to za typ danych\n"
          ]
        }
      ]
    },
    {
      "cell_type": "code",
      "source": [
        "zoo = ['pies', 'kot', 'mysz', 'papuga', 'słoń', 'lew']\n",
        "\n",
        "zwierze = input(\"Podaj nazwę zwierzęcia: \")\n",
        "\n",
        "if zwierze in zoo:\n",
        "  print(f\"{zwierze} jest w naszym zoo\")\n",
        "else:\n",
        "  zoo.append(zwierze)\n",
        "  print(f\"w naszym zoo są teraz takie zwierzęta: {zoo}\")"
      ],
      "metadata": {
        "colab": {
          "base_uri": "https://localhost:8080/"
        },
        "id": "GEE_k_76vcZs",
        "outputId": "0a1f14f3-3ffc-4935-a941-238a97646d51"
      },
      "execution_count": 174,
      "outputs": [
        {
          "output_type": "stream",
          "name": "stdout",
          "text": [
            "Podaj nazwę zwierzęcia: wąż\n",
            "w naszym zoo są teraz takie zwierzęta: ['pies', 'kot', 'mysz', 'papuga', 'słoń', 'lew', 'wąż']\n"
          ]
        }
      ]
    },
    {
      "cell_type": "code",
      "source": [
        "napis = \"Ala ma kota\"\n",
        "\n",
        "litera = 'm'\n",
        "\n",
        "for l in napis:\n",
        "  if l == litera:\n",
        "    print(f\"litera {litera} występuje w napisie {napis}\")\n",
        "\n",
        "if litera in napis:\n",
        "  print(f\"litera {litera} występuje w napisie {napis}\")"
      ],
      "metadata": {
        "colab": {
          "base_uri": "https://localhost:8080/"
        },
        "id": "Jq2NzlqOwh2b",
        "outputId": "5e13c5ed-f1b4-4bec-a682-48932d4a030a"
      },
      "execution_count": 176,
      "outputs": [
        {
          "output_type": "stream",
          "name": "stdout",
          "text": [
            "litera m występuje w napisie Ala ma kota\n",
            "litera m występuje w napisie Ala ma kota\n"
          ]
        }
      ]
    }
  ]
}