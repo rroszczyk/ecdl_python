{
  "nbformat": 4,
  "nbformat_minor": 0,
  "metadata": {
    "colab": {
      "name": "ecdl_2.ipynb",
      "provenance": [],
      "authorship_tag": "ABX9TyMQrRmOyvbtsUghq6/qvo8Q",
      "include_colab_link": true
    },
    "kernelspec": {
      "name": "python3",
      "display_name": "Python 3"
    },
    "language_info": {
      "name": "python"
    }
  },
  "cells": [
    {
      "cell_type": "markdown",
      "metadata": {
        "id": "view-in-github",
        "colab_type": "text"
      },
      "source": [
        "<a href=\"https://colab.research.google.com/github/rroszczyk/ecdl_python/blob/main/ecdl_2.ipynb\" target=\"_parent\"><img src=\"https://colab.research.google.com/assets/colab-badge.svg\" alt=\"Open In Colab\"/></a>"
      ]
    },
    {
      "cell_type": "markdown",
      "source": [
        "Myślenie komputacyjne to:\n",
        "1. Myślenie o komputerach i ile one kosztują\n",
        "2. **Analizowanie problemów i znajdowanie możliwych rozwiązań.**\n",
        "3. Używanie kalkulatora do obliczania wartości wyrażeń matematycznych\n",
        "4. Sprawdzanie błędów w programie przed jego wersjonowaniem\n",
        "\n",
        "Pojęcie kod maszyowy oznacza:\n",
        "1. **Ciąg zer i jedynek utworzony z kodu źródłowego.**\n",
        "2. Graficzny sposób reprezentacji algorytmu\n",
        "3. Kilka prostych instrukcji, które należy wykonać jedna po drugiej\n",
        "4. Opis objaśniający co program powinien robić i jak działać\n",
        "\n",
        "Proces jasno określający problemy, które mają zostać rozwiązane podczas tworzenia nowego programu nazywamy:\n",
        "1. **Analizowanie**\n",
        "2. Projektowanie\n",
        "3. Programowanie\n",
        "4. Wprowadzanie poprawek\n",
        "\n"
      ],
      "metadata": {
        "id": "beiA3BipIgqd"
      }
    },
    {
      "cell_type": "markdown",
      "source": [
        "10, \"napis\", ('ala', 'ma', 'kota'), True"
      ],
      "metadata": {
        "id": "bSadRUwTLvwV"
      }
    },
    {
      "cell_type": "code",
      "execution_count": 1,
      "metadata": {
        "colab": {
          "base_uri": "https://localhost:8080/"
        },
        "id": "T6RFTs6dIQrB",
        "outputId": "c4edfb6a-5e4a-4414-bf61-c5def8e9d1ea"
      },
      "outputs": [
        {
          "output_type": "stream",
          "name": "stdout",
          "text": [
            "<class 'int'>\n",
            "93995368303392\n"
          ]
        }
      ],
      "source": [
        "zmienna = 10\n",
        "print(type(zmienna))\n",
        "print(id(zmienna))"
      ]
    },
    {
      "cell_type": "code",
      "source": [
        "zmienna = \"napis\"\n",
        "print(type(zmienna))\n",
        "print(id(zmienna))"
      ],
      "metadata": {
        "colab": {
          "base_uri": "https://localhost:8080/"
        },
        "id": "-z-ZZzM_NLvL",
        "outputId": "9b3ddd1b-90fb-4080-9dd7-a1844d233e31"
      },
      "execution_count": 2,
      "outputs": [
        {
          "output_type": "stream",
          "name": "stdout",
          "text": [
            "<class 'str'>\n",
            "140487055705968\n"
          ]
        }
      ]
    },
    {
      "cell_type": "code",
      "source": [
        "zmienna = 3.14\n",
        "print(type(zmienna))\n",
        "print(id(zmienna))"
      ],
      "metadata": {
        "colab": {
          "base_uri": "https://localhost:8080/"
        },
        "id": "XOKEz8LsNX2J",
        "outputId": "4dde9c2d-1f8a-4017-9991-79793517eef1"
      },
      "execution_count": 3,
      "outputs": [
        {
          "output_type": "stream",
          "name": "stdout",
          "text": [
            "<class 'float'>\n",
            "140487132304784\n"
          ]
        }
      ]
    },
    {
      "cell_type": "code",
      "source": [
        "zmienna = True\n",
        "print(type(zmienna))\n",
        "print(id(zmienna))"
      ],
      "metadata": {
        "colab": {
          "base_uri": "https://localhost:8080/"
        },
        "id": "L5Q2IF6rNdLP",
        "outputId": "3334a0dc-5337-41c5-a866-eff8d867c089"
      },
      "execution_count": 4,
      "outputs": [
        {
          "output_type": "stream",
          "name": "stdout",
          "text": [
            "<class 'bool'>\n",
            "93995367629056\n"
          ]
        }
      ]
    },
    {
      "cell_type": "code",
      "source": [
        "zmienna = ('ala', 'ma', 'kota')\n",
        "print(type(zmienna))\n",
        "print(id(zmienna))"
      ],
      "metadata": {
        "colab": {
          "base_uri": "https://localhost:8080/"
        },
        "id": "Lue8z6o-NikH",
        "outputId": "79899310-8e63-40e9-bccf-75210ce66cdb"
      },
      "execution_count": 5,
      "outputs": [
        {
          "output_type": "stream",
          "name": "stdout",
          "text": [
            "<class 'tuple'>\n",
            "140487091693360\n"
          ]
        }
      ]
    },
    {
      "cell_type": "code",
      "source": [
        "zmienna = ['ala', 'ma', 'kota']\n",
        "print(type(zmienna))\n",
        "print(id(zmienna))"
      ],
      "metadata": {
        "colab": {
          "base_uri": "https://localhost:8080/"
        },
        "id": "n2opp8hnNnaV",
        "outputId": "f60f06d4-3865-41b6-9667-5533f7d18a75"
      },
      "execution_count": 6,
      "outputs": [
        {
          "output_type": "stream",
          "name": "stdout",
          "text": [
            "<class 'list'>\n",
            "140486920394224\n"
          ]
        }
      ]
    },
    {
      "cell_type": "code",
      "source": [
        "zmienna = {\"imie\": \"ala\", \"zwierze\": \"kot\"}\n",
        "print(type(zmienna))\n",
        "print(id(zmienna))"
      ],
      "metadata": {
        "colab": {
          "base_uri": "https://localhost:8080/"
        },
        "id": "e68J297HN1u2",
        "outputId": "d85b752c-9134-4d96-a19c-ae650fd2a140"
      },
      "execution_count": 7,
      "outputs": [
        {
          "output_type": "stream",
          "name": "stdout",
          "text": [
            "<class 'dict'>\n",
            "140486919612608\n"
          ]
        }
      ]
    },
    {
      "cell_type": "code",
      "source": [
        "krotka = ('ala', 'ma', 'kota')\n",
        "lista = ['ala', 'ma', 'kota']\n",
        "slownik = {\"imie\": \"ala\", \"zwierze\": \"kot\"}      # klucz - \"imię\" -> wartość -> \"ala\""
      ],
      "metadata": {
        "id": "2ejTuE5xOG8A"
      },
      "execution_count": 8,
      "outputs": []
    },
    {
      "cell_type": "code",
      "source": [
        "print(krotka[1])\n",
        "print(lista[2])\n",
        "print(slownik[\"zwierze\"])"
      ],
      "metadata": {
        "colab": {
          "base_uri": "https://localhost:8080/"
        },
        "id": "7RemZzE2OQbE",
        "outputId": "9a48f779-9d0f-40a7-fa40-eecdf05303fc"
      },
      "execution_count": 12,
      "outputs": [
        {
          "output_type": "stream",
          "name": "stdout",
          "text": [
            "ma\n",
            "kota\n",
            "kot\n"
          ]
        }
      ]
    },
    {
      "cell_type": "code",
      "source": [
        "a = 10 > 5\n",
        "print(a)"
      ],
      "metadata": {
        "colab": {
          "base_uri": "https://localhost:8080/"
        },
        "id": "BeOkllu2PIdU",
        "outputId": "576a6ec4-7413-447e-b150-b546de84825f"
      },
      "execution_count": 17,
      "outputs": [
        {
          "output_type": "stream",
          "name": "stdout",
          "text": [
            "True\n"
          ]
        }
      ]
    },
    {
      "cell_type": "code",
      "source": [
        "if 10 > 5:\n",
        "  print(\"Ala ma kota\")"
      ],
      "metadata": {
        "colab": {
          "base_uri": "https://localhost:8080/"
        },
        "id": "0TjIoX3nP6gG",
        "outputId": "cf409077-b67d-4f5f-c411-13fe46234752"
      },
      "execution_count": 18,
      "outputs": [
        {
          "output_type": "stream",
          "name": "stdout",
          "text": [
            "Ala ma kota\n"
          ]
        }
      ]
    },
    {
      "cell_type": "code",
      "source": [
        "zmienna = 2\n",
        "if zmienna > 5:\n",
        "  print(\"Ala ma kota\")\n",
        "else:\n",
        "  print(\"Ala ma psa\")"
      ],
      "metadata": {
        "colab": {
          "base_uri": "https://localhost:8080/"
        },
        "id": "lEcCGk3eQ3I0",
        "outputId": "69739fc8-64f7-439c-8350-80971a6199e1"
      },
      "execution_count": 20,
      "outputs": [
        {
          "output_type": "stream",
          "name": "stdout",
          "text": [
            "Ala ma psa\n"
          ]
        }
      ]
    },
    {
      "cell_type": "markdown",
      "source": [
        "```\n",
        "if (warunek):\n",
        "  blok_kodu\n",
        "  pierwsza_instrukcja_bloku\n",
        "  druga_instrukcja_bloku\n",
        "else:\n",
        "  drugi_blok_kodu\n",
        "  pierwsza_instrukcja_drugiego_bloku\n",
        "  druga_instrukcja_drugiego_bloku  \n",
        "```"
      ],
      "metadata": {
        "id": "JsXA19b1QPBf"
      }
    },
    {
      "cell_type": "code",
      "source": [
        "zmienna = int(input(\"Podaj liczbę: \"))\n",
        "if zmienna > 5:\n",
        "  print(\"Ala ma kota\")\n",
        "else:\n",
        "  print(\"Ala ma psa\")\n"
      ],
      "metadata": {
        "colab": {
          "base_uri": "https://localhost:8080/"
        },
        "id": "Net69SwJREqv",
        "outputId": "2e6853a5-2606-43c5-ae18-8a45154c5df6"
      },
      "execution_count": 24,
      "outputs": [
        {
          "output_type": "stream",
          "name": "stdout",
          "text": [
            "Podaj liczbę: 2\n",
            "Ala ma psa\n"
          ]
        }
      ]
    },
    {
      "cell_type": "code",
      "source": [
        "zmienna = \"5\"\n",
        "liczba = int(zmienna)\n",
        "print(f\"{zmienna}, {liczba}\")"
      ],
      "metadata": {
        "colab": {
          "base_uri": "https://localhost:8080/"
        },
        "id": "JxzgZZvyRrRf",
        "outputId": "1caf5b5d-6c94-4be3-ba69-d883207d14cd"
      },
      "execution_count": 25,
      "outputs": [
        {
          "output_type": "stream",
          "name": "stdout",
          "text": [
            "5, 5\n"
          ]
        }
      ]
    },
    {
      "cell_type": "markdown",
      "source": [
        "f\"dowolnym napisem {fragment_kodu_w_pythonie}\""
      ],
      "metadata": {
        "id": "Hgn69jWzSCAL"
      }
    },
    {
      "cell_type": "code",
      "source": [
        "t = \"liczba: {zmienna}\"       # zwykły napis\n",
        "print(t)\n",
        "s = f\"liczba: {zmienna}\"      # f-string\n",
        "print(s)\n",
        "print(zmienna)\n",
        "print(type(s))"
      ],
      "metadata": {
        "colab": {
          "base_uri": "https://localhost:8080/"
        },
        "id": "raVYuMKJSLPV",
        "outputId": "93010eb4-f252-4d35-f147-601223543a01"
      },
      "execution_count": 30,
      "outputs": [
        {
          "output_type": "stream",
          "name": "stdout",
          "text": [
            "liczba: {zmienna}\n",
            "liczba: 5\n",
            "5\n",
            "<class 'str'>\n"
          ]
        }
      ]
    },
    {
      "cell_type": "code",
      "source": [
        "liczba = .6               # 3.14, 5., .6\n",
        "print(f\"zmienna o nazwie: liczba, jest typu: {type(liczba)} i ma wartość: {liczba}\")"
      ],
      "metadata": {
        "colab": {
          "base_uri": "https://localhost:8080/"
        },
        "id": "MXb-idl3TIEh",
        "outputId": "12ac4c0c-f2c4-4506-c6c0-4cad637d4e45"
      },
      "execution_count": 37,
      "outputs": [
        {
          "output_type": "stream",
          "name": "stdout",
          "text": [
            "zmienna o nazwie: liczba, jest typu: <class 'float'> i ma wartość: 0.6\n"
          ]
        }
      ]
    },
    {
      "cell_type": "code",
      "source": [
        "liczba = float(5)\n",
        "print(f\"zmienna o nazwie: liczba, jest typu: {type(liczba)} i ma wartość: {liczba}\")"
      ],
      "metadata": {
        "colab": {
          "base_uri": "https://localhost:8080/"
        },
        "id": "jKSoDoqCUaZo",
        "outputId": "84570c29-b4ec-4eb7-8974-43dfc2d9fc50"
      },
      "execution_count": 38,
      "outputs": [
        {
          "output_type": "stream",
          "name": "stdout",
          "text": [
            "zmienna o nazwie: liczba, jest typu: <class 'float'> i ma wartość: 5.0\n"
          ]
        }
      ]
    },
    {
      "cell_type": "code",
      "source": [
        "liczba = int(3.14)\n",
        "print(f\"zmienna o nazwie: liczba, jest typu: {type(liczba)} i ma wartość: {liczba}\")"
      ],
      "metadata": {
        "colab": {
          "base_uri": "https://localhost:8080/"
        },
        "id": "F_UkjlUfUiqK",
        "outputId": "7075d3fb-2ce3-46a9-87cb-46a8df21e4bb"
      },
      "execution_count": 39,
      "outputs": [
        {
          "output_type": "stream",
          "name": "stdout",
          "text": [
            "zmienna o nazwie: liczba, jest typu: <class 'int'> i ma wartość: 3\n"
          ]
        }
      ]
    },
    {
      "cell_type": "code",
      "source": [
        "znak = \"A\"\n",
        "print(ord(znak))      # ord -> konwersja znaku na jego indeks w tabeli ASCII\n",
        "print(chr(67))        # chr -> konwersja liczby (indeksu) na znak z tabeli ASCII"
      ],
      "metadata": {
        "colab": {
          "base_uri": "https://localhost:8080/"
        },
        "id": "K84p6mITUtwd",
        "outputId": "c6574baf-767e-4bc1-d0e2-22991dfdd9f0"
      },
      "execution_count": 42,
      "outputs": [
        {
          "output_type": "stream",
          "name": "stdout",
          "text": [
            "65\n",
            "C\n"
          ]
        }
      ]
    },
    {
      "cell_type": "code",
      "source": [
        ""
      ],
      "metadata": {
        "id": "GGLpU1MvUyIq"
      },
      "execution_count": null,
      "outputs": []
    },
    {
      "cell_type": "code",
      "source": [
        "liczby = [1, 2, 3, 4, 5, 6, 7, 8, 9]\n",
        "\n",
        "for liczba in liczby:\n",
        "  print(f\"{liczba} \", end=\"\")"
      ],
      "metadata": {
        "colab": {
          "base_uri": "https://localhost:8080/"
        },
        "id": "v6mHyG_JVG4_",
        "outputId": "0c6e9c3a-f6da-47e7-e897-72b8c1054144"
      },
      "execution_count": 49,
      "outputs": [
        {
          "output_type": "stream",
          "name": "stdout",
          "text": [
            "1 2 3 4 5 6 7 8 9 "
          ]
        }
      ]
    },
    {
      "cell_type": "code",
      "source": [
        "napis = \"Ala ma kota\"\n",
        "\n",
        "for znak in napis:\n",
        "  print(znak)"
      ],
      "metadata": {
        "colab": {
          "base_uri": "https://localhost:8080/"
        },
        "id": "LMccRN3XV6X2",
        "outputId": "4d8181c5-93b1-4d6c-8024-5b66234c15b5"
      },
      "execution_count": 44,
      "outputs": [
        {
          "output_type": "stream",
          "name": "stdout",
          "text": [
            "A\n",
            "l\n",
            "a\n",
            " \n",
            "m\n",
            "a\n",
            " \n",
            "k\n",
            "o\n",
            "t\n",
            "a\n"
          ]
        }
      ]
    },
    {
      "cell_type": "code",
      "source": [
        "for y in range(0, 16):                    # 17 = 16 + 1     33 = 32 + 1   32 = 16 * 2\n",
        "  for x in range(1, 17):\n",
        "    idx = y * 16 + x                      # idx = y * 16 + x\n",
        "    if (idx < 10):\n",
        "      print(\" \", end='')\n",
        "    if (idx < 100):\n",
        "      print(\" \", end='')      \n",
        "    print(f\"{idx}: '{chr(idx)}' \", end='')\n",
        "  print(\"\")"
      ],
      "metadata": {
        "colab": {
          "base_uri": "https://localhost:8080/"
        },
        "id": "xZ8hvHvwWjjn",
        "outputId": "178ce24d-6a1b-483a-dd12-22f17de961ee"
      },
      "execution_count": 65,
      "outputs": [
        {
          "output_type": "stream",
          "name": "stdout",
          "text": [
            "  1: '\u0001'   2: '\u0002'   3: '\u0003'   4: '\u0004'   5: '\u0005'   6: '\u0006'   7: '\u0007'   8: '\b'   9: '\t'  10: '\n",
            "'  11: '\u000b'  12: '\f'  13: '\r'  14: '\u000e'  15: '\u000f'  16: '\u0010' \n",
            " 17: '\u0011'  18: '\u0012'  19: '\u0013'  20: '\u0014'  21: '\u0015'  22: '\u0016'  23: '\u0017'  24: '\u0018'  25: '\u0019'  26: '\u001a'  27: '\u001b'  28: '\u001c'  29: '\u001d'  30: '\u001e'  31: '\u001f'  32: ' ' \n",
            " 33: '!'  34: '\"'  35: '#'  36: '$'  37: '%'  38: '&'  39: '''  40: '('  41: ')'  42: '*'  43: '+'  44: ','  45: '-'  46: '.'  47: '/'  48: '0' \n",
            " 49: '1'  50: '2'  51: '3'  52: '4'  53: '5'  54: '6'  55: '7'  56: '8'  57: '9'  58: ':'  59: ';'  60: '<'  61: '='  62: '>'  63: '?'  64: '@' \n",
            " 65: 'A'  66: 'B'  67: 'C'  68: 'D'  69: 'E'  70: 'F'  71: 'G'  72: 'H'  73: 'I'  74: 'J'  75: 'K'  76: 'L'  77: 'M'  78: 'N'  79: 'O'  80: 'P' \n",
            " 81: 'Q'  82: 'R'  83: 'S'  84: 'T'  85: 'U'  86: 'V'  87: 'W'  88: 'X'  89: 'Y'  90: 'Z'  91: '['  92: '\\'  93: ']'  94: '^'  95: '_'  96: '`' \n",
            " 97: 'a'  98: 'b'  99: 'c' 100: 'd' 101: 'e' 102: 'f' 103: 'g' 104: 'h' 105: 'i' 106: 'j' 107: 'k' 108: 'l' 109: 'm' 110: 'n' 111: 'o' 112: 'p' \n",
            "113: 'q' 114: 'r' 115: 's' 116: 't' 117: 'u' 118: 'v' 119: 'w' 120: 'x' 121: 'y' 122: 'z' 123: '{' 124: '|' 125: '}' 126: '~' 127: '' 128: '' \n",
            "129: '' 130: '' 131: '' 132: '' 133: '' 134: '' 135: '' 136: '' 137: '' 138: '' 139: '' 140: '' 141: '' 142: '' 143: '' 144: '' \n",
            "145: '' 146: '' 147: '' 148: '' 149: '' 150: '' 151: '' 152: '' 153: '' 154: '' 155: '' 156: '' 157: '' 158: '' 159: '' 160: ' ' \n",
            "161: '¡' 162: '¢' 163: '£' 164: '¤' 165: '¥' 166: '¦' 167: '§' 168: '¨' 169: '©' 170: 'ª' 171: '«' 172: '¬' 173: '­' 174: '®' 175: '¯' 176: '°' \n",
            "177: '±' 178: '²' 179: '³' 180: '´' 181: 'µ' 182: '¶' 183: '·' 184: '¸' 185: '¹' 186: 'º' 187: '»' 188: '¼' 189: '½' 190: '¾' 191: '¿' 192: 'À' \n",
            "193: 'Á' 194: 'Â' 195: 'Ã' 196: 'Ä' 197: 'Å' 198: 'Æ' 199: 'Ç' 200: 'È' 201: 'É' 202: 'Ê' 203: 'Ë' 204: 'Ì' 205: 'Í' 206: 'Î' 207: 'Ï' 208: 'Ð' \n",
            "209: 'Ñ' 210: 'Ò' 211: 'Ó' 212: 'Ô' 213: 'Õ' 214: 'Ö' 215: '×' 216: 'Ø' 217: 'Ù' 218: 'Ú' 219: 'Û' 220: 'Ü' 221: 'Ý' 222: 'Þ' 223: 'ß' 224: 'à' \n",
            "225: 'á' 226: 'â' 227: 'ã' 228: 'ä' 229: 'å' 230: 'æ' 231: 'ç' 232: 'è' 233: 'é' 234: 'ê' 235: 'ë' 236: 'ì' 237: 'í' 238: 'î' 239: 'ï' 240: 'ð' \n",
            "241: 'ñ' 242: 'ò' 243: 'ó' 244: 'ô' 245: 'õ' 246: 'ö' 247: '÷' 248: 'ø' 249: 'ù' 250: 'ú' 251: 'û' 252: 'ü' 253: 'ý' 254: 'þ' 255: 'ÿ' 256: 'Ā' \n"
          ]
        }
      ]
    }
  ]
}